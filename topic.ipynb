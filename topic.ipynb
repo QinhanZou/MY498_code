{
 "cells": [
  {
   "cell_type": "code",
   "execution_count": 1,
   "metadata": {},
   "outputs": [],
   "source": [
    "import pandas as pd"
   ]
  },
  {
   "cell_type": "code",
   "execution_count": 2,
   "metadata": {},
   "outputs": [],
   "source": [
    "# read preprocessed data\n",
    "df = pd.read_csv('preprocessed_data.csv')"
   ]
  },
  {
   "cell_type": "code",
   "execution_count": 3,
   "metadata": {},
   "outputs": [
    {
     "name": "stdout",
     "output_type": "stream",
     "text": [
      "Total number of rows: 19631\n"
     ]
    }
   ],
   "source": [
    "# totoal number of rows\n",
    "print('Total number of rows:', len(df))"
   ]
  },
  {
   "cell_type": "code",
   "execution_count": 4,
   "metadata": {},
   "outputs": [
    {
     "data": {
      "text/plain": [
       "Index(['Article Title', 'Source Title', 'Language',\n",
       "       'Times Cited, All Databases', 'Highly Cited Status', 'Hot Paper Status',\n",
       "       'Publication Year', 'Decade', 'Group', 'WoS Categories new',\n",
       "       'Research Areas new', 'Keywords Plus lemmatized',\n",
       "       'Author Keywords lemmatized', 'All Keywords', 'Addresses new',\n",
       "       'Affiliations new', 'Abstract lemmatized'],\n",
       "      dtype='object')"
      ]
     },
     "execution_count": 4,
     "metadata": {},
     "output_type": "execute_result"
    }
   ],
   "source": [
    "df.columns"
   ]
  },
  {
   "cell_type": "code",
   "execution_count": 5,
   "metadata": {},
   "outputs": [
    {
     "name": "stdout",
     "output_type": "stream",
     "text": [
      "Number of empty list in Abstract lemmatized: 116\n"
     ]
    }
   ],
   "source": [
    "# any empty list in 'Abstract lemmatized'\n",
    "print('Number of empty list in Abstract lemmatized:', len(df[df['Abstract lemmatized'] == '[]']))"
   ]
  },
  {
   "cell_type": "code",
   "execution_count": 6,
   "metadata": {},
   "outputs": [
    {
     "name": "stdout",
     "output_type": "stream",
     "text": [
      "Total number of rows after dropping empty list in Abstract lemmatized: 19515\n"
     ]
    }
   ],
   "source": [
    "# drop the row with empty list in 'Abstract lemmatized'\n",
    "df = df[df['Abstract lemmatized'] != '[]']\n",
    "print('Total number of rows after dropping empty list in Abstract lemmatized:', len(df))"
   ]
  },
  {
   "cell_type": "code",
   "execution_count": 7,
   "metadata": {},
   "outputs": [],
   "source": [
    "df['Abstract lemmatized'] = df['Abstract lemmatized'].apply(eval)"
   ]
  },
  {
   "cell_type": "code",
   "execution_count": 8,
   "metadata": {},
   "outputs": [],
   "source": [
    "from sklearn.feature_extraction.text import TfidfVectorizer\n",
    "\n",
    "tfidf = TfidfVectorizer()\n",
    "tfidf_matrix = tfidf.fit_transform(df['Abstract lemmatized'].apply(lambda x: ' '.join(x)))\n",
    "feature_names = tfidf.get_feature_names_out()\n",
    "\n",
    "tfidf_df = pd.DataFrame(tfidf_matrix.toarray(), columns=feature_names)"
   ]
  },
  {
   "cell_type": "code",
   "execution_count": 9,
   "metadata": {},
   "outputs": [
    {
     "name": "stdout",
     "output_type": "stream",
     "text": [
      "Number of important words: 10499\n",
      "['authenticity', 'faking', 'rumour', 'tqm', 'therapy', 'pl', 'compound', 'smile', 'laterality', 'emis', 'dea', 'trash', 'syllabus', 'cannabis', 'trf', 'sexism', 'emoji', 'submarkets', 'snp', 'smoke', 'esg', 'wetland', 'pause', 'elm', 'notification', 'ofdl', 'ct', 'parody', 'ppa', 'meadow', 'conquiro', 'infidelity', 'cave', 'oyster', 'cooky', 'vandalism', 'hsr', 'clue', 'lucc', 'gully', 'srl', 'liana', 'sox', 'clickbait', 'rd', 'hfo', 'ptg', 'doula', 'csms', 'colour', 'megaprojects', 'usepackage', 'innovization', 'rhns', 'cheerleading', 'spoiler', 'msw', 'mangrove', 'delirium', 'lineament', 'invoice', 'smu', 'gma', 'giaps', 'altruism', 'inventor', 'stem', 'pt', 'cg', 'aba', 'outage', 'biochar', 'rumor', 'fcover', 'negation', 'petition', 'stature', 'music', 'icu', 'color', 'ih', 'nlis', 'iceberg', 'tumour', 'korbit', 'poem', 'psp', 'ta', 'suhrm', 'drainage', 'aesthetic', 'ice', 'artwork', 'nodule', 'npd', 'misconduct', 'scooter', 'mineral', 'loneliness', 'smn', 'sib', 'ist', 'dif', 'em', 'prim', 'grazing', 'zakat', 'crime', 'va', 'subsidence', 'fund', 'migraine', 'patent', 'obesity', 'cybersecurity', 'persuasiveness', 'wildfire', 'populism', 'fashion', 'gpp', 'gad', 'poi', 'quantum', 'dance', 'categorization', 'typicality', 'ni', 'charging', 'geotagged', 'contraceptive', 'svf', 'iw500', 'pollen', 'eating', 'snow', 'scam', 'pe', 'lc', 'marital', 'asthma', 'tea', 'piloting', 'pa', 'watlsd', 'sleep', 'tc', 'complaint', 'peer', 'negotiation', 'ic', 'ugcs', 'firing', 'webcare', 'crash', 'coffee', 'wabt', 'mml', 'accent', 'vitality', 'lobbyist', 'iw', 'rrc', 'project', 'lf', 'insult', 'nsat', 'ps', 'meme', 'bot', 'pbr', 'ipv', 'crisis', 'elearning', 'rig', 'marking', 'ect', 'saliency', 'parking', 'apeph', 'nickname', 'avalanche', 'ico', 'simstudent', 'correspondence', 'jejueo', 'intrusion', 'terminal', 'routine', 'creativity', 'sentencing', 'hft', 'sem', 'ticket', 'gesture', 'wwd', 'geoai', 'renegotiation', 'positionality', 'ccn', 'servitization', 'university', 'sif', 'assortment', 'water', 'hdi', 'landslide', 'peace', 'wiup', 'mooc', 'injustice', 'drought', 'gpg', 'bacon', 'rejection', 'movie', 'mgc', 'rice', 'preposition', 'prompt', 'fuzzy', 'rubric', 'pv', 'nee', 'groundwater', 'kol', 'risro', 'subscription', 'protest', 'accreditation', 'fear', 'sdd', 'refugee', 'fep', 'street', 'witnessing', 'donor', 'surname', 'signage', 'tpt', 'psq', 'cheating', 'cyberbullying', 'annotation', 'bullet', 'adhd', 'trademark', 'i5', 'distress', 'copycat', 'sc', 'cefr', 'team', 'wgods', 'lad', 'mt', 'bnpp', 'lob', 'geoshapley', 'port', 'permafrost', 'sr', 'lssvrcs', 'heuristic', 'news', 'arhq', 'scts', 'attribution', 'agenda', 'accident', 'esports', 'leadership', 'cps', 'corptech', 'lexicon', 'ft', 'liwc2015', 'clutter', 'aml', 'restatement', 'preverbal', 'fire', 'stcae', 'religiosity', 'jhe', 'rapeseed', 'csr', 'basketball', 'casia', 'breakthrough', 'storm', 'elephant', 'logistics', 'audit', 'dialogue', 'waiting', 'ffl', 'ed', 'immigration', 'mcda', 'lgd', 'recidivism', 'mbt', 'gamification', 'meta', 'sport', 'justice', 'bsd', 'supplemental', 'speeding', 'ewi', 'jol', 'procrastination', 'ewom', 'gravel', 'workflow', 'conformity', 'blame', 'cdfs', 'nt', 'ace', 'event', 'uranium', 'quiz', 'marketing', 'comic', 'ohlc', 'learner', 'mrp', 'ppm', 'spo', 'biogeographical', 'prison', 'drt', 'woke', 'aftershock', 'dtr', 'ood', 'quiescence', 'location', 'bycatch', 'halo', 'patrol', 'xai', 'desertification', 'contract', 'malesabrain', 'punishment', 'saa', 'specie', 'prostitution', 'border', 'cleantech', 'antenna', 'dda', 'chembrows', 'walkability', 'betrayer', 'mpt', 'statutory', 'policing', 'kernel', 'de', 'revlon', 'kcl', 'revision', 'contrxt', 'chatgpt', 'solver', 'bitcoin', 'careless', 'stroke', 'multifeature', 'seal', 'tag', 'hpe', 'gapping', 'lai', 'xinjiang', 'ap', 'insect', 'thesaurus', 'treelet', 'smed', 'biophilic', 'nonperforming', 'cbdc', 'teamwork', 'backtracking', 'nssi', 'ai', 'meeting', 'kite', 'bloodstain', 'predpsych', 'stigma', 'eacute', 'dairy', 'pc', 'regdata', 'ceg', 'aiml', 'acceptability', 'microcirculation', 'opacity', 'tce', 'bullying', 'vln', 'startup', 'sarcasm', 'alphagos', 'brand', 'resiliency', 'ej', 'npsvm', 'rubber', 'fet', 'phenological', 'herding', 'locker', 'wom', 'vegetarian', 'firearm', 'rounder', 'rationalization', 'fptc', 'mortality', 'mem', 'oee', 'estimator', 'colexification', 'journalism', 'smell', 'depopulation', 'melt', 'bibliographical', 'ransomware', 'soc', 'tsunami', 'mfp', 'sermon', 'tourist', 'multiway', 'suicide', 'headache', 'poverty', 'plgml', 'mci', 'protein', 'microdebitage', 'consultant', 'obia', 'hemophilia', 'hr', 'trailer', 'bubble', 'translation', 'homicide', 'fcc', 'branching', 'intuitionistic', 'csf', 'bunkering', 'penalty', 'asag', 'hrd', 'vhs', 'dna', 'sociologist', 'greenwashing', 'supplier', 'corruption', 'pole', 'sha', 'matching', 'compoundhood', 'household', 'procurement', 'tutor', 'ghm', 'walking', 'sdoh', 'nationalism', 'fentanyl', 'glacier', 'sdg', 'gig', 'dr', 'tax', 'ri', 'vgi', 'sdl', 'netflow', 'timbre', 'stony', 'client', 'pillar', 'crm', 'psychiatry', 'prosper', 'aise', 'outreach', 'email', 'cooperation', 'commuting', 'aet', 'ei', 'fintech', 'comfort', 'mosquito', 'plcs', 'dialog', 'codmn', 'chatbot', 'newsroom', 'weather', 'citation', 'meritocracy', 'wealth', 'prepayment', 'referential', 'simulation', 'discharge', 'faq', 'numerology', 'bike', 'contagion', 'workload', 'vim', 'nvwb', 'bond', 'etf', 'surgical', 'ux', 'geoparks', 'glass', 'bisg', 'hcv', 'rock', 'diversification', 'rfid', 'caz', 'edo', 'asas', 'waste', 'neet', 'homework', 'irt', 'bi', 'idea', 'pacg', 'deviance', 'frailty', 'migrant', 'hitl', 'rescue', 'employee', 'employability', 'glister', 'humor', 'advertising', 'tv', 'malnutrition', 'bpd', 'firestorm', 'river', 'pun', 'gans', 'classifier', 'liquidity', 'town', 'camp', 'fi', 'mlbc', 'ifc', 'heis', 'rfes', 'btc', 'vsis', 'underwater', 'memorability', 'manet', 'consumer', 'runway', 'letfs', 'rewriting', 'spca', 'grassland', 'adviser', 'ce', 'insecurity', 'cameo', 'cosil', 'sweetpea', 'replication', 'sfsb', 'seo', 'geogebra', 'scr', 'ocl', 'road', 'hyperbolic', 'ili', 'graph', 'trail', 'autistic', 'discretization', 'poll', 'glmm', 'gers', 'microstructure', 'essay', 'english', 'ge', 'bdcs', 'emblem', 'handwriting', 'measurement', 'gb', 'pares', 'ruler', 'tidal', 'adherence', 'link', 'park', 'subdivision', 'personality', 'note', 'finbert', 'ot', 'termism', 'dcp', 'banking', 'behavioral', 'afrikaans', 'burnout', 'gpc', 'suptech', 'augmentation', 'accountant', 'b2b', 'schoology', 'runout', 'entrepreneurship', 'register', 'cs', 'twin', 'srht', 'ignorance', 'gdcm', 'uac', 'debt', 'crgzc', 'dialect', 'pie', 'crosswalk', 'preschool', 'lesion', 'bvd', 'ncebs', 'flake', 'athlete', 'fraud', 'alfred', 'eswa', 'inflation', 'voice', 'bioenergy', 'misstatement', 'stata', 'admm', 'food', 'asr', 'multisenge', 'apps', 'proctoring', 'discretionary', 'sm', 'rtw', 'combustion', 'scilab', 'evacuation', 'cotton', 'ichs', 'judgment', 'capital', 'teaching', 'lane', 'facies', 'gei', 'pce', 'adm', 'soccer', 'talkbank', 'counterfactuals', 'gepu', 'canopy', 'rl', 'filipino', 'teacher', 'bd', 'culture', 'tail', 'sommelier', 'innovation', 'reading', 'pension', 'mortgage', 'weed', 'hyoid', 'adversity', 'aied', 'metaphor', 'pai', 'es', 'afe', 'insurance', 'dream', 'spcr', 'cyber', 'dsas', 'scm', 'ue', 'hmi', 'ugps', 'deforestation', 'swallow', 'swelling', 'landmarking', 'iv', 'cancellation', 'reputation', 'literary', 'sender', 'premium', 'ysc', 'nursing', 'impervious', 'jogging', 'wine', 'vibrancy', 'glioblastoma', 'anfis', 'tale', 'lcc', 'commodity', 'aqi', 'gambling', 'religious', 'attachment', 'unhcr', 'cee', 'gene', 'violation', 'inclusive', 'apd', 'biofeedback', 'fairness', 'festival', 'style', 'ozone', 'internet', 'gai', 'traffic', 'pm2', 'mip', 'tdm', 'blm', 'addiction', 'crater', 'blowout', 'night', 'liwc', 'cf', 'swr', 'gppm', 'unilateral', 'interference', 'cvml', 'placement', 'travel', 'wsd', 'monotone', 'conflict', 'oracle', 'uds', 'teaming', 'sigma', 'nft', 'forgiveness', 'height', 'cl', 'photo', 'drill', 'ridesplitting', 'readability', 'nostalgia', 'ranking', 'cbcd', 'entrepreneurial', 'bci', 'defect', 'decomposition', 'ulst', 'interruption', 'cuisine', 'election', 'logo', 'winnow', 'maltese', 'tod', 'hadith', 'baby', 'flight', 'hd', 'harm', 'cmi', 'turnover', 'tender', 'energy', 'spatial', 'emotion', 'shadow', 'cng', 'fcp', 'falsehood', 'substitution', 'qlattice', 'salesperson', 'tesys', 'board', 'causal', 'ome', 'rammed', 'forecast', 'tweet', 'conspiracy', 'cinn', 'carefulness', 'reflection', 'trafficking', 'cd', 'consonance', 'luxury', 'mlii', 'airport', 'hab', 'hpv', 'podcast', 'socs', 'par4sem', 'gpu', 'clsc', 'eviction', 'wtp', 'anticipation', 'detector', 'mediation', 'solo', 'boundary', 'texture', 'literacy', 'daf', 'dropout', 'running', 'sign', 'tab', 'amd', 'confusion', 'cfd', 'wandering', 'bl', 'answer', 'syrian', 'uncertainty', 'epistemic', 'specialization', 'communal', 'cell', 'trd', 'ppd', 'aao', 'ellipsis', 'umc', 'doubt', 'hra', 'smi', 'dementia', 'conjoint', 'redevelopment', 'dar', 'disciple', 'hotspot', 'no2', 'milk', 'exertion', 'ser', 'mvpa', 'edit', 'rule', 'gazetteer', 'awakeness', 'layout', 'emr', 'pvh', 'merging', 'retail', 'bus', 'abstraction', 'memory', 'extrafw', 'fricative', 'dbh', 'matrix', 'ssrt', 'skweak', 'muslim', 'governance', 'architectural', 'bv', 'ridesourcing', 'occupant', 'vcc', 'bioethical', 'mggp', 'rubble', 'tau', 'vulnerability', 'terrorist', 'tuberculosis', 'mco', 'polarizing', 'familiarity', 'speciesism', 'cluster', 'radicalization', 'eruption', 'knowledge', 'landmark', 'cwm', 'av', 'vault', 'islamophobic', 'sampling', 'clv', 'wampserver', 'honorific', 'pat', 'ate', 'programmatic', 'feedback', 'pavement', 'agb', 'intelligibility', 'icos', 'mouse', 'conception', 'qc', 'combo', 'neighbourhood', 'gaze', 'pain', 'game', 'page', 'constraint', 'malayalam', 'srm', 'sovereign', 'grading', 'sudden', 'flextag', 'libor', 'hausa', 'multiplicity', 'book', 'valley', 'sa', 'candidate', 'physic', 'announcement', 'lake', 'job', 'typhoon', 'psccr', 'fatigue', 'zombie', 'bagging', 'rch', 'dlci', 'attrition', 'gdi', 'courier', 'diplomatic', 'vgg19', 'bid', 'parin', 'loan', 'vowel', 'idr', 'cancer', 'arbitrage', 'rent', 'ict', 'distortion', 'contractor', 'settlement', 'irene', 'clp', 'crypto', 'translator', 'argumentation', 'airfare', 'automarker', 'cve', 'ptc', 'precis', 'mmla', 'vb', 'accommodation', 'accelerator', 'tobacco', 'ofd', 'message', 'fake', 'wfsas', 'kit', 'coalition', 'hiv', 'scheduling', 'offensive', 'biofuel', 'weak', 'gyrus', 'greenery', 'sodic', 'multimodal', 'mouth', 'deeprobust', 'classroom', 'scoring', 'equilibrium', 'mdd', 'vics', 'pet', 'biotype', 'grotto', 'outbound', 'heroin', 'annotator', 'cml', 'miner', 'hdnn', 'twls', 'portfolio', 'ssf', 'ipo', 'smart', 'qlc', 'infant', 'bank', 'mention', 'balancing', 'satisfaction', 'adahessian', 'picky', 'stormwater', 'asd', 'hearing', 'technostress', 'jam', 'ospe', 'demand', 'payroll', 'unplugged', 'clos', 'om', 'education', 'upi', 'pbl', 'hirl', 'dt', 'name', 'shs', 'moral', 'dune', 'snowmelt', 'stuttering', 'sound', 'seed', 'cartel', 'iot', 'aa', 'video', 'dts', 'lithuanian', 'dancer', 'luc', 'ohc', 'archaeological', 'label', 'driver', 'drowsiness', 'courseware', 'fog', 'container', 'mloss', 'anxiety', 'misinformation', 'forgotten', 'efs', 'gdems', 'lv', 'heat', 'ceo', 'censorship', 'shaft', 'recipe', 'ud', 'ph', 'ca', 'oplcs', 'neighborhood', 'debate', 'breast', 'isec', 'piano', 'repetition', 'ddos', 'rpa', 'animal', 'gpt', 'dispute', 'waepci', 'drd', 'packaging', 'bdml', 'engagement', 'fourier', 'attendance', 'bim', 'el', 'representativity', 'solidarity', 'transit', 'moroccan', 'narcissism', 'mismeasurement', 'democracy', 'migration', 'deception', 'unemployment', 'lulc', 'gcda', 'meat', 'asmr', 'cliff', 'conformal', 'xenomelia', 'antibiotic', 'danish', 'sl', 'geopolitical', 'sac', 'delinquency', 'elt', 'ev', 'expectancy', 'league', 'ul', 'sle', 'oua', 'caption', 'vsd', 'striga', 'spah', 'lapse', 'lithium', 'embeddings', 'flood', 'acrophobia', 'wic', 'recurrence', 'course', 'explanation', 'sdgs', 'geomorphic', 'aloud', 'pi', 'social', 'levee', 'iva', 'asian', 'design', 'creative', 'landscape', 'coastal', 'abuse', 'mentalization', 'diversity', 'ddi', 'gsmem', 'erulemaking', 'valuer', 'bankruptcy', 'npl', 'rural', 'dpiss', 'bp', 'bgd', 'stump', 'voms', 'diagnostic', 'pawl', 'naming', 'gac', 'truth', 'anglicism', 'tfp', 'liht', 'kt', 'sw', 'coal', 'summarization', 'brt', 'mindfulness', 'entertainment', 'ieeg', 'worry', 'aufeis', 'attributional', 'perturbation', 'rental', 'paradox', 'exposure', 'pianist', 'fdi', 'campbell', 'competition', 'cvd', 'incarceration', 'proof', 'ss', 'cycling', 'opinion', 'vaccine', 'meditation', 'speech', 'uplift', 'tourism', 'psa', 'sst', 'bwaq', 'air', 'unfairness', 'export', 'motion', 'adversarial', 'ordinal', 'urban', 'legal', 'fault', 'mc', 'ataxia', 'pgstnn', 'tncs', 'exporter', 'opioid', 'violence', 'psychedelic', 'homophily', 'liver', 'trade', 'chf', 'bmi', 'vegetation', 'daccn', 'estate', 'fcf', 'terrorism', 'sgdct', 'overrun', 'hpo', 'odr', 'sla', 'tooth', 'irrigation', 'qms', 'blockchain', 'advice', 'vix', 'linkedln', 'distrust', 'notational', 'deepfakes', 'ig', 'lambani', 'monero', 'firm', 'lashing', 'bkt', 'tomato', 'sap', 'ade', 'optuna', 'voltage', 'caregiver', 'amazon', 'epe', 'jump', 'threat', 'wr', 'factuality', 'greenway', 'taxpayer', 'reservoir', 'bloom', 'swb', 'ji', 'fdp', 'disposition', 'sd', 'articulation', 'los', 'ohr', 'earnings', 'sinkhole', 'morpheme', 'logical', 'trolling', 'ptsd', 'parcel', 'ado', 'chemistry', 'chaos', 'walled', 'ric', 'chatbots', 'simulator', 'scp', 'father', 'enanfis', 'standardization', 'ax', 'commerce', 'illiquid', 'conservatism', 'fmmf', 'customer', 'sansa', 'cv', 'destination', 'pz', 'stance', 'botnets', 'land', 'wave', 'ocean', 'pronoun', 'chill', 'trait', 'overconfidence', 'robustification', 'cqvae', 'dkt', 'option', 'failure', 'streamflow', 'caregiving', 'igd', 'manipulation', 'tumblr', 'slavery', 'aspectual', 'drift', 'dyslexia', 'nfts', 'soundscape', 'mw', 'discount', 'surrender', 'boltzmann', 'max', 'insider', 'wage', 'infill', 'letter', 'rainfall', 'cyclone', 'income', 'saglasso', 'admission', 'curb', 'synteo', 'cue', 'leader', 'antisemitism', 'misrepresentation', 'caeg', 'founder', 'sbir', 'stt', 'phishing', 'smes', 'extravert', 'claim', 'trader', 'backdoor', 'basque', 'floodwater', 'notice', 'hotel', 'upgrade', 'fall', 'badge', 'qoe', 'lmooc', 'giscience', 'mirs', 'tear', 'self', 'harassment', 'desertion', 'slum', 'aic', 'populist', 'expenditure', 'braking', 'ethic', 'vmi', 'warranty', 'vergence', 'majeure', 'mimicry', 'ski', 'tone', 'bok', 'concussion', 'swfs', 'iuc', 'bilibili', 'slice', 'dash', 'programme', 'llm', 'sheep', 'visual', 'fv', 'robo', 'russia', 'habituation', 'pseudosamples', 'wind', 'dysentery', 'ib', 'jitai', 'gentrification', 'vsl', 'cba', 'echo', 'ndvi', 'polarity', 'stopping', 'linking', 'alarm', 'reply', 'stock', 'channel', 'rill', 'lfnn', 'oath', 'frq', 'dashboard', 'tate', 'solvency', 'friendship', 'career', 'abm', 'secret', 'learnware', 'curriculum', 'waze', 'image', 'typological', 'analogical', 'dryland', 'neurodidactics', 'vehicle', 'dubbing', 'livability', 'house', 'misfiring', 'tide', 'simplicity', 'ebsfs', 'visibility', 'categorical', 'tanker', 'free', 'noun', 'td', 'homeowner', 'privacy', 'pm', 'grouping', 'hailing', 'tennis', 'sort', 'bicycle', 'fia', 'covariance', 'bs', 'anoa', 'drug', 'churn', 'currency', 'convergence', 'school', 'delay', 'mainstreaming', 'troll', 'garden', 'bushfires', 'modelling', 'odt', 'dealer', 'cybercrime', 'crowd', 'osha', 'tuvan', 'sentiment', 'village', 'veteran', 'omnichannel', 'evoi', 'ptu', 'halal', 'institutional', 'business', 'madm', 'substation', 'partner', 'informed', 'ef', 'shear', 'nli', 'building', 'nat', 'congestion', 'security', 'accusation', 'icon', 'dietary', 'programming', 'rm', 'sidewalk', 'illiquidity', 'eagle', 'mvr', 'polluter', 'lst', 'carnivore', 'property', 'glam', 'confidence', 'manuscript', 'translationese', 'lega', 'encoding', 'default', 'review', 'farmland', 'spam', 'volunteer', 'shelf', 'ideology', 'si', 'spin', 'diki', 'politician', 'mobil', 'lockdown', 'mini', 'ppp', 'price', 'tree', 'amenity', 'gdp', 'cryptocurrencies', 'hyacinth', 'vas', 'app', 'solubility', 'duplicate', 'persuasive', 'bushfire', 'icl', 'medicine', 'fh', 'queueing', 'ideal', 'kg', 'nonprofit', 'cobra', 'sfo', 'cpm', 'seabed', 'bilinear', 'pedestrian', 'restoration', 'emg', 'heritage', 'awps', 'sale', 'rfm', 'depression', 'memorabilia', 'elderly', 'monopoly', 'microseismic', 'therapist', 'bootstrapping', 'lurker', 'collocation', 'disgust', 'qmc', 'fishery', 'sentence', 'svar', 'asking', 'spoofing', 'telematics', 'etrs', 'corn', 'linkedin', 'transactional', 'room', 'metro', 'poultry', 'resale', 'happiness', 'sagd', 'bed', 'compliment', 'arcnn', 'wqps', 'performer', 'vet', 'disclosure', 'shy', 'circular', 'radiomics', 'car', 'internal', 'btbc', 'duia', 'faithfulness', 'electre', 'azure', 'brexit', 'cctv', 'discrimination', 'carbon', 'prospectus', 'malingerer', 'crop', 'bathymetric', 'sb', 'trust', 'coin', 'wmc', 'syllabification', 'bikeshare', 'plwh', 'nato', 'larynx', 'digitalization', 'judicial', 't2k', 'schizotypy', 'service', 'reit', 'compression', 'bm', 'card', 'arsonist', 'npp', 'synthetic', 'prosodic', 'android', 'copula', 'crowdfunding', 'fracking', 'pd', 'outlier', 'connectedness', 'toxic', 'listing', 'rsqrt', 'transport', 'centrality', 'robot', 'loss', 'gender', 'smk', 'anomaly', 'authorship', 'na', 'neurols', 'metahuman', 'pharmacy', 'setting', 'lifelong', 'housing', 'cb', 'ipac', 'gt', 'ar', 'browsing', 'spillover', 'nudge', 'mvcc', 'pbe', 'lp', 'action', 'sz', 'mtldnns', 'lidar', 'sex', 'targeting', 'rgb', 'harvest', 'bsvr', 'wavenet', 'runoff', 'gait', 'ece', 'krr', 'pasc', 'party', 'elite', 'hint', 'realized', 'accounting', 'clustering', 'psychoemotional', 'rbfn', 'ciron', 'staggered', 'kd', 'agc', 'comprehension', 'insolvency', 'cryptocurrency', 'renaming', 'ingroup', 'view', 'ai4sg', 'journalist', 'thought', 'ugb', 'imagination', 'digital', 'spot', 'vr', 'debris', 'search', 'ip', 'amr', 'sharer', 'audience', 'vibe', 'supply', 'ontology', 'rta', 'i4', 'behavior', 'damage', 'ume', 'credit', 'flash', 'factorisation', 'flare', 'suburban', 'landr', 'comparator', 'quevedo', 'dsge', 'chair', 'match', 'misconception', 'stingless', 'stone', 'particle', 'ew', 'offenseval', 'visitor', 'relation', 'oud', 'animation', 'sewer', 'subsidy', 'km', 'mdca', 'agritourism', 'a2g', 'organic', 'aggression', 'scz', 'worker', 'retailer', 'parole', 'greenness', 'att', 'arctic', 'ec', 'extraction', 'item', 'salinity', 'shader', 'resilience', 'attentional', 'analytics', 'taxonomic', 'marsh', 'receptiveness', 'appraisal', 'hermeneutical', 'respondent', 'store', 'crfs', 'se', 'delta', 'soil', 'parkinson', 'iml', 'trial', 'industry', 'dcms', 'platform', 'summary', 'risking', 'player', 'mld', 'krls', 'priming', 'section', 'cropland', 'web', 'unmixing', 'paramefric', 'fda', 'pathogen', 'alops', 'driving', 'ltci', 'hubristic', 'elb', 'pdp', 'bdpd', 'diligence', 'fairkit', 'drinking', 'rating', 'sociology', 'interregional', 'cremation', 'benchmark', 'verizon', 'crane', 'l2', 'regulatory', 'ceramic', 'scientific', 'fcm', 'please', 'ael', 'dwts', 'hazard', 'literati', 'esteem', 'restaurant', 'lsh', 'systemic', 'p2p', 'sway', 'guest', 'error', 'raas', 'tl', 'poaching', 'tec', 'sts', 'abusive', '2max', 'curve', 'chess', 'auction', 'regtech', 'iaps', 'gp', 'gc', 'collaboration', 'merger', 'programmability', 'snc', 'ksnc', 'product', 'cmaps', 'bmw', 'hyundai', 'hospital', 'musical', 'globalization', 'blog', 'deepfake', 'foresight', 'pharmd', 'seaweed', 'lyric', 'relocation', 'friction', 'suppression', 'disability', 'retention', 'engaged', 'flw', 'bipv', 'seat', 'democratic', 'reappraisal', 'precipitation', 'sepsis', 'banana', 'tied', 'comment', 'stwc', 'heart', 'rof', 'ghd', 'substance', 'lse', 'muscle', 'pedagogy', 'diabetes', 'stereotype', 'tai', 'tgd', 'railway', 'ieps', 'woman', 'internationalization', 'couple', 'relatedness', 'philanthropy', 'gpcm', 'universal', 'artist', 'narrative', 'persuader', 'turnout', 'dougong', 'laundering', 'osm', 'oxytocin', 'qaoa', 'fvc', 'organization', 'skill', 'justification', 'fintechs', 'fmf', 'macroecology', 'math', 'locust', 'dollar', 'cuneiform', 'explainability', 'biomimetic', 'blaming', 'allergenic', 'strategy', 'recreation', 'ssis', 'cbr', 'hull', 'sovereignty', 'lamp', 'pitch', 'piercing', 'extrapolation', 'flipped', 'al', 'stlf', 'gyc', 'trr', 'reviewer', 'remittance', 'wake', 'monetary', 'ner', 'plastic', 'cycle', 'risk', 'naip', 'floor', 'mlm', 'segmentation', 'trading', 'hsi', 'tagger', 'metonymy', 'exam', 'system', 'probing', 'controller', 'factor', 'corc', 'catalan', 'gastronomic', 'adjustment', 'piu', 'abatement', 'drl', 'map', 'monstor', 'tinyml', 'gamers', 'informal', 'relatable', 'meituan', 'falconcode', 'amci', 'ballistic', '12', 'aud', 'neuronal', 'intonosyntactic', 'hsic', 'swing', 'unicef', 'mediatization', 'seeg', 'eu', 'mascem', 'localization', 'dtl', 'solar', 'attribute', 'disturbance', 'affordance', 'gdmr', 'outburst', 'curiosity', 'gamba', 'grocery', 'address', 'barrier', 'hsp', 'volatility', 'georgian', 'hemodialysis', 'football', 'remanufactured', 'pricing', 'bias', 'click', 'gpts', 'asylum', 'ogd', 'fcds', 'prc', 'interpolation', 'alphabet', 'indigenous', 'neonate', 'theme', 'keyword', 'epa', 'eskg', 'wfa', 'question', 'rqa', 'crafting', 'innovator', 'organizer', 'helper', 'injury', 'head', 'arbitration', 'character', 'worsening', 'domain', 'cdr', 'policy', 'polish', 'mla', 'forage', 'seagrass', 'face', 'cqa', 'ribbed', 'rater', 'roadshow', 'qabf', 'nij', 'abandonment', 'object', 'crowdsourcing', 'stb', 'bftree', 'impulsivity', 'factorization', 'moisture', 'grader', 'renewal', 'svms', 'erp', 'atc', 'backchannels', 'jad', 'medical', 'appellate', 'assembly', 'invasion', 'illusion', 'compensation', 'marine', 'certainty', 'psps', 'nipa', 'rept', 'habitat', 'occupation', 'court', 'telecommuting', 'care', 'safety', 'cruise', 'trace', 'moocs', 'list', 'et', 'stop', 'facilitator', 'grower', 'geno', 'mental', 'optimisation', 'readmission', 'pomdp', 'constituency', 'remedial', 'woody', 'accountability', 'proxy', 'albedo', 'nuclear', 'wizard', 'victim', 'repdl', 'floating', 'rolex', 'mshap', 'journal', 'voting', 'iwlg', 'avi', 'romantic', 'fnirs', 'nrmse', 'utterance', 'copilot', 'erosion', 'mobile', 'tabu', 'passivity', 'cem', 'bdt', 'sourcing', 'locus', 'intangibility', 'fr', 'dkpro', 'rocking', 'shoreline', 'pregnancy', 'annuity', 'db', 'meteorological', 'excellence', 'cma', 'chain', 'dsts', 'olp', 'group', 'apy', 'analyst', 'science', 'oh', 'passenger', 'belief', 'sociological', 'archetype', 'inheritance', 'star', 'student', 'invalid', 'baseball', 'v2', 'regulation', 'entity', 'footprint', 'pharmaceutical', 'rationale', 'ihsf', 'reslogit', 'adolescent', 'learn2mine', 'vatas', 'cdhps', 'abi', 'indexing', 'transition', 'investor', 'staff', 'lifestyle', 'chromosome', 'crie', 'slid', 'ccm', 'suffix', 'tablet', 'crude', 'disparity', 'cube', 'grooming', 'kiln', 'molecule', 'inconsistency', 'ds', 'cata', 'cate', 'bypassing', 'giii', 'udat', 'extinction', 'microfinance', 'symbol', 'emojis', 'delusion', 'spontaneous', 'lender', 'ssvep', 'pps', 'amcs', 'cpt', 'dysarthria', 'naics', 'ff5', 'parser', 'escrow', 'domestication', 'hate', 'sca', 'filtering', 'ptrs', 'panic', 'symmetry', 'lsi', 'ward', 'offense', 'internationalisation', 'apprenticeship', 'stove', 'swe', 'grid', 'nascent', 'thesis', 'dsms', 'collaborative', 'skcv', 'sud', 'talent', 'ad', 'salmon', 'crowdfunders', 'sp', 'nhw', 'inconsiderate', 'intersectionality', 'ntb', 'assessment', 'monsoon', 'shareholder', 'metadata', 'nba', 'gold', 'electricity', 'glmmnet', 'hoa', 'sanskrit', 'automl', 'lawsuit', 'redemption', 'sedimentary', 'hedge', 'bone', 'freight', 'gi', 'cap', 'ecdt', 'ddmrp', 'advising', 'icg', 'dysgenesis', 'soft', 'redcedar', 'screening', 'traveler', 'pecad', 'tonal', 'losmonitor', 'magnitude', 'reorganization', 'warning', 'suicidality', 'stylometric', 'relapse', 'prerequisite', 'enterprise', 'efd', 'cloud', 'plant', 'rhyme', 'motor', 'translated', 'personalisation', 'foodborne', 'habitual', 'spp', 'automation', 'unknown', 'cough', 'hideout', 'rationality', 'vocalization', 'audiovisual', 'comparators', 'biomass', 'utcpredictor', 'rough', 'text', 'immunization', 'loyalty', 'grace', 'binge', 'ebhd', 'camci', 'concrete', 'ipa', 'pp', 'empathy', 'advertisement', 'clicker', 'treatment', 'technology', 'moderation', 'hype', 'fliptest', 'youth', 'comprehensibility', 'city', 'dispersal', 'sn', 'dot', 'tongue', 'swimmer', 'tp', 'trip', 'tbd', 'mlmb', 'exchange', 'leakage', 'fluent', 'hyperspectral', 'fl', 'slt', 'ode', 'ra', 'blended', 'synchronization', 'asean', 'plex', 'pip', 'sediment', 'motif', 'referral', 'confederate', 'rtt', 'law', 'kbv', 'foliar', 'defeating', 'incident', 'fee', 'uyghur', 'financial', 'cbl', 'auditor', 'wdbt', 'nbc', 'amxl', 'da', 'ictc', 'palm', 'coreference', 'disaster', 'grain', 'coral', 'surrogate', 'sed', 'fallow', 'datalab', 'moraine', 'dieback', 'gee', 'dnns', 'veil', 'antecedent', 'stp', 'choice', 'query', 'database', 'tbws', 'batch', 'incivility', 'corpus', 'rally', 'lexicographic', 'lesbian', 'hybrid', 'throwing', 'ulc', 'colourimetric', 'psu', 'stress', 'toxicity', 'pile', 'precedent', 'suicidal', 'campaign', 'schema', 'disease', 'phenotype', 'xf', 'darknet', 'grf', 'drawing', 'mlsi', 'vote', 'sensitive', 'mathematics', 'oers', 'conference', 'measles', 'consciousness', 'eeg', 'arabic', 'islamic', 'meaq', 'tower', 'anthropomorphism', 'bender', 'bps', 'physician', 'interactivity', 'ailws', 'decop', 'child', 'iftm', 'landform', 'orange', 'niche', 'posture', 'typing', 'end', 'ufa', 'indebtedness', 'robotic', 'delivery', 'spm', 'bsm', 'participatory', 'aod', 'mover', 'idd', 'layer', 'tempest', 'sqlia', 'attentiveness', 'snapshot', 'equipment', 'assistance', 'midas', 'onset', 'tres', 'lpi', 'agent', 'edison', 'sdns', 'babyview', 'knapping', 'diplomacy', 'rv', 'absenteeism', 'homestay', 'rhetorical', 'supervision', 'umap', 'equating', 'atmospheric', 'imputation', 'equation', 'lime', 'copper', 'offline', 'ea', 'relevance', 'furniture', 'mate', 'ecrt', 'jornalismo', 'fraudulent', 'cra', 'census', 'peak', 'aquaculture', 'nca', 'eurovoc', 'theatrical', 'director', 'blinding', 'fbos', 'reproducibility', 'emms', 'racist', 'shortfall', 'arduino', 'oil', 'deliberative', 'lswt', 'hrm', 'nr', 'psf', 'federated', 'tupu', 'ngram', 'quest', 'dat', 'forum', 'misophonia', 'carto', 'wheat', 'vsc', 'stc', 'gmdh', 'volcanic', 'martial', 'expression', 'vsr', 'intercity', 'hygiene', 'gps', 'hurricane', 'mining', 'graphlets', 'tort', 'nic', 'gpr', 'pollution', 'agds', 'sketchbook', 'passion', 'upvotes', 'nasalization', 'terminus', 'votestratesml', 'fair', 'environmental', 'language', 'document', 'prominence', 'situational', 'sdms', 'premia', 'appeal', 'bna', 'chl', 'normalisation', 'mb', 'yes', 'concreteness', 'remedy', 'cervical', 'compliance', 'bns', 'committee', 'fovea', 'lcz', 'museum', 'topological', 'phayao', 'perusall', 'cvws', 'discourse', 'derivational', 'kemeny', 'political', 'date', 'ibl', 'ridesharing', 'table', 'intransitive', 'counterfeit', 'everest', 'consensus', 'bnt', 'fomc', 'vendor', 'phonetic', 'fm', 'vo', 'seizure', 'po', 'ethnic', 'perceived', 'device', 'toolkits', 'estimate', 'vca', 'user', 'modal', 'dialectal', 'prosopis', 'juliflora', 'tcm', 'psychosis', 'dividend', 'ssha', 'seq2seq', 'scale', 'shutdown', 'stbs', 'rchs', 'qpso', 'modernism', 'richness', 'vocational', 'svr', 'cu', 'aidds', 'hardware', 'reuse', 'prose', 'pq', 'ro', 'bag', 'parallelogram', 'circuity', 'flooded', 'framing', 'reserving', 'dbt', 'consumption', 'politicization', 'eyewitness', 'mltif', 'childhood', 'semantic', 'red', 'goal', 'subcommunities', 'newcomer', 'krms', 'phenology', 'dml', 'preview', 'idu', 'pemsr', 'novelty', 'relativity', 'continuance', 'evacuee', 'broker', 'pessimism', 'victimization', 'transportation', 'lesson', 'ccla', 'agriculture', 'idp', 'affectual', 'standardisation', 'generalizability', 'agency', 'gat', 'affordability', 'cttc', 'malicious', 'boom', 'crumple', 'genotype', 'pfa', 'medd', 'inj', 'timetabling', 'vacancy', 'transfer', 'profit', 'nutrient', 'myopia', 'intelligence', 'probe', 'code', 'tank', 'olr', 'purchase', 'disguise', 'speaking', 'irregularity', 'establishment', 'tile', 'lclu', 'dccs', 'psx', 'pretrained', 'cr', 'liquidation', 'individualised', 'edm', 'coopetition', 'bcp', 'beekeeping', 'ridership', 'smacobs', 'welfare', 'appropriation', 'cul', 'semiotic', 'tabnet', 'complexology', 'microtargeting', 'amp', 'deceptive', 'trainee', 'brainpad', 'ir', 'experience', 'lending', 'propensity', 'educational', 'entailment', 'intrusive', 'andion', 'gmail', 'retrofit', 'aes', 'watt', 'juvenile', 'competence', 'catastrophe', 'kr', 'nostalgic', 'aoa', 'feature', 'industrial', 'ups', 'fmm', 'rsis', 'kidney', 'mastering', 'competitor', 'green', 'mwes', 'probit', 'talk', 'synonym', 'palaeoseismic', 'spider', 'toronto', 'country', 'attack', 'breakoff', 'walf', 'ites', 'shap', 'srdi', 'mwetoolkit', 'biometrics', 'osa', 'recommender', 'canal', 'lmic', 'ailed', 'bullshit', 'estonian', 'defi', 'tensor', 'uam', 'nonexperimental', 'traitei', 'clc', 'eye', 'gifted', 'eric', 'adr', 'unequal', 'mpaa', 'habs', 'badminton', 'tlbo', 'pool', 'ope', 'md', 'deprived', 'era', 'technological', 'sdb', 'humanitarianism', 'stasis', 'nonresponse', 'generative', 'turbidity', 'distraction', 'reg', 'recognition', 'revisit', 'recovery', 'module', 'ride', 'interdisciplinarity', 'missingness', 'pra', 'seller', 'dbns', 'calctutor', 'mechanistic', 'mst', 'daphne', 'compressed', 'annd', 'msmes', 'revenue', 'citizen', 'hedging', 'horizon', 'wnv', 'hiwc', 'category', 'amygdala', 'msr', 'mr', 'auditing', 'laver', 'iop', 'ifgt', 'guilty', 'lm', 'hcas', 'scagwr', 'ana', 'pymetrics', 'exclusion', 'dns', 'metaverse', 'case', 'economics', 'marathon', 'mapbiomas', 'dcd', 'geoz', 'avw', 'hierarchical', 'subcategorization', 'calibration', 'preprocessing', 'appliance', 'spa', 'recession', 'hutongs', 'transcrater', 'portuguese', 'place', 'iomt', 'policyholder', 'pad', 'fcd', 'sep', 'nationality', 'bilingualism', 'overeducation', 'tire', 'solution', 'responsibility', 'chr', 'herd', 'witchcraft', 'cdrs', 'rebel', 'hormone', 'conversation', 'testimony', 'examinee', 'illumination', 'visa', 'scrm', 'argument', 'request', 'illegal', 'resistance', 'formation', 'constitutional', 'benfords', 'bidding', 'sublinear', 'convolutional', 'ee', 'aerosol', 'aips', 'retailing', 'shennong', 'casenote', 'planar', 'la', 'sar', 'takeover', 'padi', 'stacked', 'gay', 'unforgettable', 'transformation', 'eth', 'handball', 'wsr', 'return', 'facial', 'ethnographic', 'lscs', 'armed', 'environmentalism', 'helpfulness', 'csv', 'fishing', 'ghs', 'emergency', 'moodle', 'qa', 'odd', 'toolkit', 'disappointment', '2a', 'mechanical', 'signal', 'wireless', 'cd8', 'kazakh', 'lifting', 'symptom', 'borneo', 'precious', 'trending', 'mpc', 'brown', 'handling', 'charcoal', 'shall', 'chopper', 'ramp', 'growth', 'elfoid', 'ionospheric', 'triage', 'microcystin', 'pressure', 'impulse', 'lmoocs', 'swallowing', 'vibi', 'synaesthesia', 'command', 'dropped', 'assault', 'lu', 'dmdd', 'unmeasured', 'member', 'cultural', 'slam', 'pii', 'approval', 'transaction', 'vaa', 'afec', 'pack', 'graduation', 'rescheduling', 'cognate', 'public', 'twisp', 'svnss', 'lvcs', 'mn', 'sbms', 'tutoring', 'atr', 'booking', 'pipeline', 'kw', 'arm', 'dbr', 'dsr', 'vat', 'writing', 'dunhuang', 'sexual', 'bert', 'mobility', 'node', 'csrc', 'selectivity', 'probabilistic', 'route', 'plsn', 'cags', 'xc', 'coding', 'speaker', 'homelessness', 'strategic', 'sml', 'atlis', 'bimodality', 'prescriptive', 'nwi', 'soes', 'hashtags', 'telemedicine', 'acid', 'nssr', 'closure', 'outpatient', 'rti', 'network', 'savanna', 'thickness', 'twitter', 'administration', 'ml', 'dp', 'chs', 'algorithmic', 'metric', 'sharing', 'cfq', 'intuition', 'uncompleted', 'gmvs', 'sustainability', 'proposition', 'nmupd', 'bird', 'tka', 'space', 'bap', 'season', 'expansion', 'mle', 'comp', 'romanian', 'prosthetic', 'varenicline', 'intermediary', 'cc', 'reliability', 'logarithm', 'altman', 'selectional', 'viewer', 'yield', 'descent', 'insole', 'moment', 'huanlian', 'methamphetamine', 'necos', 'quality', 'm5', 'dgps', 'dlm', 'inactivity', 'psychological', 'disabled', 'rrl', 'commbo', 'facilitation', 'traveller', 'st', 'kmm', 'dyad', 'turing', 'multilabel', 'muc', 'mspss', 'anti', 'sec', 'prestimulus', 'coping', 'sfcs', 'authentication', 'nebkhas', 'fact', 'feeding', 'modality', 'grantee', 'stacking', 'ssrl', 'control', 'metic', 'michif', 'postearthquake', 'exemplar', 'unlabelled', 'sensorimotor', 'ugss', 'paulus', 'gifs', 'meter', 'genai', 'touch', 'saudi', 'physical', 'pooler', 'warsaw', 'reflective', 'insulin', 'window', 'violent', 'artistic', 'stay', 'attractiveness', 'cohort', 'mesh', 'japan', 'deaf', 'eda', 'micromobility', 'transcription', 'reinforcement', 'concord', 'rrs', 'optical', 'value', 'urbanisation', 'gravi', 'load', 'hosvd', 'entrepreneur', 'ekc', 'hammering', 'allocation', 'npa', 'nesting', 'budgeting', 'arteaga', 'hwc', 'token', 'verb', 'protection', 'lda', 'radiologist', 'thinking', 'flim', 'dominance', 'condominium', 'pooling', 'imagined', 'word', 'tle', 'edx', 'hil', 'territorial', 'hackathon', 'arrears', 'asc', 'satd', 'probation', 'pimd', 'tiktok', 'polarimetric', 'marcom', 'smtm', 'prediabetes', 'waking', 'stealth', 'passive', 'converter', 'precision', 'ffnn', 'qdd', 'damien', 'studio', 'cdap', 'hyponymy', 'heavy', 'bee', 'management', 'hb', 'wall', 'malware', 'collective', 'song', 'shock', 'exercise', 'scpms', 'uber', 'inside', 'pen', 'pareto', 'nlos', 'digitization', 'tcn', 'noncompliance', 'stage', 'litterman', 'pmm', 'mir', 'infotainment', 'digen', 'compiler', 'incompletely', 'order', 'dnms', 'originated', 'intrapreneurial', 'phylogenetic', 'display', 'vocabulary', 'fan', 'deliberation', 'movement', 'backpropagation', 'grass', 'nna', 'meth', 'wellness', 'cygnss', 'hypertension', 'surveillance', 'oer', 'gulf', 'aode', 'nn', 'slr', 'aimds', 'inundation', 'decedent', 'gdpr', 'tell', 'tanking', 'gun', 'nominalizations', 'grammar', 'signature', 'cyberattack', 'partisanship', 'supervisor', 'arq', 'infestation', 'recommendation', 'hyms', 'transmissibility', 'collusion', 'pig', 'artificial', 'ecg', 'vd', 'aiwirt', 'newspaper', 'immigrant', 'probability', 'calculative', 'evolutionary', 'benthos', 'theory', 'resume', 'beat', 'nmt', 'bbtd', 'wayne', 'forest', 'pnr', 'follower', 'visualization', 'codex', 'split', 'rtm', 'ttd', 'erasure', 'bovine', 'cardiac', 'indirectness', 'generalisation', 'nurture', 'mwl', 'pb', 'aey', 'rfe', 'session', 'vaccination', 'buyer', 'function', 'lingual', 'crossing', 'ocd', 'fcev', 'marketplace', 'aicts', 'mees', 'anaphora', 'pbat', 'smap', 'aian', 'pursuit', 'revolution', 'giffen', 'inversion', 'retrieval', 'scene', 'refeeding', 'marginal', 'bpm', 'projectile', 'valuation', 'lead', 'optimization', 'sfe', 'wnb', 'organisation', 'constituent', 'nltcc', 'communication', 'mwh', 'nonfinancial', 'instability', 'textbook', 'ssl', 'islam', 'plantation', 'placemaking', 'appearance', 'sme', 'survival', 'fare', 'subsystem', 'foster', 'cosc', 'susceptibility', 'inner', 'bangalore', 'cd4', 'person', 'municipality', 'qchat', 'target', 'scope', 'nsu', 'accumulator', 'subfields', 'mi', 'day', 'pruning', 'gas', 'equifinal', 'neurological', 'bilateral', 'hope', 'competitiveness', 'shape', 'nvc', 'amphibian', 'pegmatite', 'investigative', 'trajectory', 'friston', 'trustworthiness', 'base', 'wm', 'healthcare', 'defaulter', 'construction', 'crowdworkers', 'perpetrator', 'textualism', 'dst', 'hyper', 'bpnn', 'cohesion', 'detention', 'pompom', 'hedonic', 'geological', 'spf', 'psew', 'gwr', 'panther', 'etree', 'gmm', 'justicia', 'proficiency', 'persian', 'surge', 'sma', 'neutrosophic', 'propaganda', 'farmer', 'omega', 'kerogen', 'impression', 'labour', 'uit', 'hrgc', 'mii', 'activity', 'phytolith', 'doc', 'climate', 'nlcd', 'classification', 'pseudo', 'bug', 'biometric', 'institutionalized', 'imbalanced', 'cdl', 'mpwp', 'week', 'paraphrase', 'tie', 'emotional', 'hg', 'limit', 'diagram', 'symbiotic', 'flame', 'vtff', 'avms', 'binning', 'svmachines', 'winter', 'visit', 'avm', 'offender', 'cea', 'momentum', 'elegpredict', 'epc', 'incentive', 'ert', 'kimera', 'awareness', 'formant', 'mara', 'automaton', 'nomophobia', 'attitude', 'neurofeedback', 'greenhouse', 'feminist', 'ohscr', 'answering', 'international', 'zip', 'shot', 'qualitative', 'livelihood', 'gridded', 'outcome', 'dislike', 'watermarked', 'offshore', 'bodily', 'statistic', 'dental', 'subword', 'srp', 'pgy', 'roosting', 'open', 'strength', 'dimension', 'observational', 'investing', 'slts', 'laparoscopic', 'callosum', 'voter', 'terrace', 'noise', 'mmh', 'market', 'quarantined', 'dlsrank', 'geothermal', 'hcu', 'virtualasset', 'alliance', 'thermal', 'regressors', 'advisory', 'sitting', 'trauma', 'tpc', 'mwe', 'telecom', 'tptsvm', 'idws', 'cara', 'xiao', 'shih', 'caries', 'saddle', 'conis', 'cut', 'linkage', 'srd', 'coherence', 'bg', 'remas', 'alluvial', 'asp', 'bound', 'mitigation', 'emulation', 'competency', 'bo', 'taxi', 'recourse', 'provider', 'lsp', 'spherical', 'causation', 'intubation', 'bridge', 'motivation', 'planting', 'ttat', 'glmnet', 'block', 'rising', 'censorial', 'macroeconomic', 'dsc', 'intervention', 'eduml', 'wvcs', 'egg', 'ssc', 'framenet', 'statute', 'kpis', 'efl', 'advisor', 'sdf', 'rrf', 'beetle', 'regularization', 'imbalance', 'lameness', 'prognosis', 'adcfl', 'mpu', 'garbage', 'patient', 'ipc', 'workout', 'bocce', 'documentation', 'thailand', 'topic', 'implicit', 'roi', 'esc', 'offending', 'lgbtq', 'cerrado', 'morphologic', 'economy', 'counterparty', 'ensemble', 'vmd', 'vocal', 'deprivation', 'ppis', 'human', 'capped', 'humidity', 'vh', 'ownership', 'serbian', 'brainwave', 'trespasser', 'reasoning', 'er', 'urbanity', 'farm', 'metaheuristic', 'churning', 'mar', 'semester', 'pedagogic', 'mistake', 'ugs', 'ethereum', 'tillandsia', 'brain', 'pmi', 'cm', 'community', 'clr', 'osn', 'chaid', 'encrypt', 'sodcc', 'nowcasting', 'footwear', 'cutoff', 'ehr', 'xr', 'smis', 'homo', 'id', 'scenario', 'phonemic', 'snt', 'turbine', 'procedure', 'stratigraphic', 'sanction', 'foodstagrammers', 'haii', 'connective', 'blip', 'rawlss', 'medium', 'ck', 'dpps', 'defense', 'hf', 'involvement', 'tracking', 'credibility', 'dbac', 'inspection', 'malaria', 'readiness', 'motivate', 'special', 'mian', 'collapse', 'irony', 'statement', 'wui', 'nominal', 'dcv', 'cash', 'psychotherapy', 'landing', 'sde', 'discontinuity', 'br', 'auis', 'featurex', 'equitability', 'linguistic', 'australian', 'fc', 'occscore', 'wedge', 'permanency', 'bermudan', 'ugc', 'stutter', 'raft', 'temporal', 'heor', 'homeownership', 'phasic', 'lstmdtr', 'polsar', 'sentinel', 'yerba', 'outbreak', 'inattentive', 'welsh', 'demographic', 'audio', 'cognitive', 'antidiscrimination', 'spatiotemporal', 'dictionary', 'nri', 'delinquent', 'bin', 'provision', 'greenland', 'defiant', 'oppositional', 'ipm', 'malconv', 'conversational', 'bael', 'fir', 'sphere2vec', 'wearable', 'density', 'fairmile', 'bourdieu', 'textual', 'mixing', 'recommenders', 'zone', 'missing', 'aem', 'leftism', 'multimedia', 'spectrum', 'associative', 'npls', 'pso', 'asar', 'singularity', 'outrun', 'som', 'insar', 'instruction', 'habit', 'interview', 'manufacturing', 'ethical', 'warmth', 'holistic', 'integrity', 'relational', 'kmclp', 'direct', 'fuel', 'unlearning', 'reader', 'sertraline', 'pcl', 'occupancy', 'collection', 'undefined', 'slac', 'coking', 'fix', 'unfilled', 'multimorbidity', 'tutorial', 'intent', 'vineyard', 'concierge', 'priority', 'fibre', 'provocation', 'invariance', 'radiology', 'mising', 'dadt', 'aiaas', 'lining', 'klog', 'debug', 'hgat', 'intelligent', 'fsi', 'qol', 'disconnection', 'weekend', 'rvm', 'fca', 'schumpeter', 'connectivity', 'bill', 'hri', 'aq', 'coded', 'margin', 'radar', 'rssi', 'radical', 'correction', 'form', 'savs', 'eyebrow', 'mnt', 'wasde', 'patsos', 'outlet', 'l1', 'vessel', 'bangla', 'nc', 'hospitality', 'aftermarket', 'neighbour', 'spammer', 'mechanism', 'judge', 'assistant', 'resolution', 'ghg', 'root', 'governor', 'arfsv', 'timexes', 'rumination', 'outsider', 'workshop', 'homeless', 'albizia', 'subjectivity', 'start', 'rdl', 'misreporting', 'identity', 'judgement', 'smoking', 'neuropsychological', 'trendspotting', 'pim', 'incumbent', 'mass', 'spelling', 'reliabilism', 'leverage', 'backward', 'dd', 'cme', 'dose', 'determinism', 'theta', 'rigidity', 'aal', 'gastritis', 'depressed', 'mind', 'cirque', 'redeployability', 'ceoml', 'seismic', 'bark', 'ets', 'difficulty', 'county', 'historic', 'nld', 'kyutech', 'informatization', 'residency', 'federal', 'ust', 'renter', 'pender', 'limestone', 'turkish', 'ecological', 'telemarketing', 'clinician', 'eco', 'fred', 'irps', 'post', 'cost', 'cement', 'cs1', 'korean', 'aspect', 'metas', 'conversion', 'reform', 'harsh', 'ideation', 'nsc', 'osscs', 'copyright', 'nomogram', 'reverse', 'bb', 'spill', 'commonality', 'leximancer', 'finance', 'resource', 'sinotas', 'caliop', 'illness', 'expectation', 'edunudge', 'fj', 'production', 'money', 'feeling', 'lecture', 'cct', 'rate', 'gfs', 'soar', 'roughness', 'hoc', 'distributor', 'rex', 'ego', 'distributed', 'andsi', 'iwa', 'haptic', 'fadnet', 'temporality', 'cyanine', 'bengali', 'interoceptive', 'frame', 'aave', 'oasd', 'neurophysiological', 'lasso', 'live', 'nb', 'secondary', 'repeat', 'semiconductor', 'logging', 'coach', 'instagram', 'tmc', 'npos', 'subreddits', 'ported', 'omb', 'thi', 'toponym', 'promethee', 'wet', 'tse', 'notation', 'expressive', 'treetop', 'multiword', 'simplification', 'dubai', 'soaring', 'biomedical', 'samk', 'accelerationism', 'native', 'grievance', 'profitability', 'clarity', 'association', 'position', 'impediment', 'cad', 'rsf', 'determinant', 'ecosystem', 'median', 'bn', 'sail', 'fin', 'dating', 'timss', 'cyclist', 'rtv', 'prestige', 'discounting', 'corporate', 'club', 'mentorship', 'shopping', 'geospatial', 'brewery', 'pta', 'bhpmf', 'bengkulu', 'earthquake', 'disturbing', 'fungal', 'charge', 'riot', 'authoritarianism', 'active', 'genre', 'commercial', 'sponsored', 'latent', 'humanoid', 'turn', 'sces', 'bandung', 'thalamic', 'resampling', 'completion', 'categorizing', 'mtls', 'earth', 'csa', 'tunnel', 'factual', 'nature', 'nnls', 'riparian', 'conveyance', 'foreign', 'inductive', 'forecasting', 'identifier', 'sku', 'cws', 'isel', 'overbooking', 'lsa', 'ocddel', 'bayesian', 'god', 'dma', 'contact', 'neurosemantic', 'fruit', 'ffsf', 'smote', 'gwl', 'parliamentary', 'quants', 'leisure', 'newborn', 'fiscal', 'xtreme', 'hungermap', 'indoor', 'think', 'right', 'singa', 'mil', 'metal', 'labor', 'smr', 'inequality', 'index', 'ntl', 'district', 'vcs', 'waeps', 'squared', 'ethnicity', 'mlosp', 'arima', 'iclv', 'seismology', 'race', 'distance', 'visioning', '5g', 'pairing', 'bpmf', 'chinese', 'similarity', 'planning', 'complexity', 'disp', 'lee', 'lagged', 'arrival', 'econometrics', 'chunking', 'npm1', 'vegetable', 'axis', 'sensor', 'jobseekers', 'ergonomics', 'quantile', 'cctd', 'reality', 'wls', 'streetscape', 'sea', 'qt', 'centre', 'brodmann', 'eprs', 'snf', 'plot', 'grammatical', 'blocking', 'repositioning', 'older', 'hrv', 'airbnb', 's2', 'tsp', 'nutrition', 'tra', 'hateful', 'antidepressant', 'hess', 'filing', 'dissatisfaction', 'zealand', 'blood', 'bilstm', 'bilingual', 'reward', 'alfp', 'felr', 'afaan', 'oromo', 'hot', 'triplet', 'college', 'monsanto', 'additive', 'botometer', 'stja', 'casting', 'dali', 'imped', 'protective', 'sarcastic', 'narcissistic', 'rdc', 'mnp', 'personalization', 'financing', 'plural', 'viewership', 'aibo', 'distillation', 'erratum', 'angola', '87sr', '86sr', 'effect', 'break', 'eelisa', 'gga', 'content', 'vc', 'teen', 'flow', 'cart', 'uas', 'baltic', 'farmpredict', 'ltm', 'tbncds', 'dbncds', 'aging', 'google', 'gaming', 'richardson', 'investment', 'negotiator', 'fairml', 'backchannel', 'unstandardized', 'hiring', 'hp', 'bhp', 'statistical', 'mastery', 'persuasion', 'o2o', 'environment', 'cfvd', 'adoption', 'resilient', 'arousal', 'compulsory', 'rfti', 'interface', 'activeanno', 'pasir', 'fse', 'centric', 'psy', 'host', 'hyddroid', 'mispricing', 'executive', 'cemll', 'eemd', 'police', 'clause', 'psychopathology', 'regionalization', 'owned', 'ucws', 'beauty', 'icing', 'heterogeneity', 'obsessive', 'hte', 'nepali', 'zpp', 'ucd', 'aral', 'cpcnn', 'deposit', 'suspect', 'uralic', 'vending', 'lexica', 'cooperative', 'myth', 'drone', 'humanitarian', 'm4', 'gd', 'differentiator', 'sims', 'affective', 'squamous', 'erythemato', 'claimreview', 'consent', 'mlpnn', 'tour', 'terrasar', 'uav', 'press', 'smartphone', 'productivity', 'lsms', 'sciml', 'dfw', 'viral', 'impromptu', 'operation', 'recombinant', 'physiological', 'strip', 'idol', 'phone', 'nurse', 'atheist', 'childrens', 'walk', 'plough', 'meaning', 'tmle', 'm1', 'forgetting', 'engine', 'checking', 'ern', 'gru', 'fgtfp', 'elevation', 'questionnaire', 'airline', 'sense', 'markovian', 'health', 'adbs', 'discoid', 'awss', 'mathematical', 'jong', 'commencing', 'weni', 'stpp', 'securitization', 'lithological', 'erg', 'mathportal', 'probable', 'oral', 'geo', 'taking', 'runner', 'custom', 'cfa', 'story', 'mhas', 'undocumented', 'kriging', 'emission', 'compulsive', 'inland', 'tract', 'outdoor', 'box', 'ti', 'decision', 'ufzs', 'soundscapes', 'chemical', 'pneumonia', 'sagebrush', 'teachable', 'diagnosis', 'sensory', 'medicare', 'calculus', 'transkimmer', 'parson', 'payment', 'lotus', 'consultation', 'big', 'overtourism', 'homophobia', 'ripper', 'learnability', 'department', 'averaging', 'regularity', 'bpa', 'bioclimatic', 'disambiguation', 'password', 'underground', 'b2c', 'colombian', 'lens', 'hub', 'tamil', 'gbm', 'interpreting', 'cia', 'sociolink', 'beta', 'hypothesis', 'urdu', 'taylor', 'stateful', 'linked', 'need', 'transparency', 'military', 'neglect', 'female', 'negativity', 'delegation', 'laptop', 'hopping', 'pgt', 'attractive', 'freedom', 'z0', 'inbound', 'minute', 'liberal', 'blue', 'pead', 'primal', 'tdabm', 'recreational', 'toa', 'tumor', 'gbdt', 'nl', 'subtypes', 'gamma', 'acoustic', 'upgradation', 'lmci', 'pit', 'exception', 'sustainable', 'data', 'avoidance', 'warm', 'unintended', 'churners', 'class', 'tasseled', 'rst', 'roadway', 'mother', 'documentary', 'biosignals', 'amf', 'scarp', 'sarimax', 'weighting', 'terrain', 'typology', 'compassion', 'scibert', 'aggregation', 'competitive', 'scres', 'positioned', 'koalib', 'burned', 'dm', 'icts', 'shooting', 'io', 'palaeolithic', 'metabolic', 'manifold', 'fatwa', 'shrinkage', 'uml', 'concept', 'warehousing', 'nfvs', 'endmember', 'success', 'carcassonnet', 'cleanliness', 'lpis', 'disinformation', 'fitting', 'antagonistic', 'rocket', 'counterfactual', 'bass', 'splt', 'pupil', 'glcm', 'arhte', 'usd', 'svatark', 'gbas', 'shortcut', 'ship', 'arbitrator', 'fp', 'resettlement', 'macau', 'integration', 'vector', 'lwdr', 'slimweb', 'transmission', 'viewpoint', 'simplified', 'short', 'prospectivity', 'ltc', 'telemetry', 'test', 'irm', 'musician', 'natural', 'improvisation', 'response', 'fce', 'hacker', 'mode', 'pltss', 'basal', 'proteaceae', 'dbms', 'faunal', 'raphson', 'pointing', 'abbreviated', 'adult', 'ga', 'terminology', 'disruptive', 'argumentative', 'breakage', 'plagiarism', 'referring', 'animate', 'supreme', 'minisat', 'usdm', 'unit', 'purchasing', 'nns', 'phrase', 'task', 'mutual', 'path', 'mrm', 'overdose', 'hrp', 'confounders', 'ancillary', 'misidentification', 'society', 'clinker', 'protected', 'flex', 'maturation', 'material', 'simon', 'bda', 'randomtree', 'shapley', 'death', 'postvocalic', 'lessness', 'anchor', 'caarms', 'ecog', 'li', 'servqual', 'biophysical', 'reporting', 'slovak', 'protestant', 'tayside', 'nlp4all', 'hardy', 'novice', 'wikipedia', 'mail', 'ivr', 'truck', 'monitor', 'abnormally', 'tbm', 'dc', 'noah', 'nmf', 'version', 'psychosocial', 'lgs', 'restricted', 'owl', 'gdm', 'proportionality', 'logic', 'skipgram', 'bauc', 'lal', 'n400', 'fmzs', 'sprout', 'labeled', 'flooding', 'bdd', 'perceptual', 'white', 'bspdes', 'scratch', 'avis', 'techno', 'prisoner', 'extracurricular', 'acceptance', 'opem', 'constitution', 'gssp', 'commonsense', 'painting', 'subjective', 'abstract', 'cec', 'ancient', 'mindprints', 'gf', 'author', 'amplification', 'whss', 'creditworthiness', 'hgf', 'noltei', 'counselor', 'htd', 'audra', 'accessibility', 'corridor', 'sam', 'confirmatory', 'isi', 'spectral', 'alternative', 'keystroke', 'vertex', 'illegitimate', 'revise', 'neuroprediction', 'representation', 'software', 'deeppseudo', 'civic', 'library', 'thesaural', 'dimensionality', 'autonomy', 'tw', 'crowdsourced', 'geoinformatic', 'adaptive', 'mpei', 'dialogic', 'dac', 'preknowledge', 'pw', 'cloudcast', 'smd', 'eelgrass', 'telugu', 'promoter', 'shotspotter', 'p500', 'play', 'glioma', 'disagreement', 'explicability', 'microsimulations', 'emancipatory', 'oppressive', 'sink', 'temperament', 'matriculants', 'discard', 'pfdr', 'commuter', 'aphasia', 'vomiting', 'bsr', 'excursion', 'incursion', 'co', 'microvascular', 'quote', 'icps', 'chennai', 'toe', 'term', 'german', 'valet', 'inference', 'glint', 'kunqu', 'polarization', 'lrm', 'life', 'analogy', 'fei', 'uncertaintycompetition', 'rsa', 'ism', 'percqa', 'reference', 'gti', 'regimen', 'cpps', 'gtfp', 'built', 'volcano', 'dbi', 'blacklist', 'swaption', 'cheater', 'engineering', 'txtreg', 'bottom', 'teps', 'johnson', 'theft', 'laser', 'episode', 'youtube', 'akis', 'caffeinated', 'panel', 'apartment', 'writer', 'comparability', 'edge', 'accrual', 'clinical', 'operator', 'criminal', 'mogp', 'comput', 'genetic', 'equal', 'csd', 'tesla', 'referendum', 'motherese', 'zoning', 'postcolonial', 'drsnet', 'cfscores', 'basket', 'wood', 'black', 'efficiency', 'archive', 'inscrutable', 'marginalized', 'pmp', 'package', 'cortical', 'attriters', 'pollutant', 'aware', 'gshp', 'gshps', 'isotonic', 'ctr', 'ball', 'p4p', 'landsat', 'biofuels', 'weaning', 'operative', 'icai', 'master', 'pwh', 'treenet', 'perception', 'cgan', 'subway', 'instance', 'disaggregation', 'workspace', 'deep', 'minecraft', 'plague', 'oda', 'asset', 'sdtfs', 'malawi', 'inequity', 'laboratory', 'neural', 'variational', 'lombardy', 'adjudication', 'unseen', 'borrowing', 'phenotyping', 'abortion', 'attraction', 'commissioner', 'cognition', 'objective', 'irrational', 'controlling', 'yaeh', 'olive', 'transcript', 'flat', 'philippine', 'cnc', 'wildlife', 'reconciliation', 'applicant', 's5p', 'interconnector', 'tropical', 'indian', 'dh', 'covid', 'solving', 'timing', 'ombria', 'contest', 'log', 'centralized', 'oklahoma', 'scan', 'resting', 'cva', 'deserter', 'gst', 'functioning', 'imss', 'program', 'itn', 'markup', 'fixation', 'act', 'encrypted', 'suf', 'mgstar', 'syntactic', 'phonological', 'svis', 'propps', 'artefact', 'transitive', 'respiratory', 'bt', 'imprint', 'bronze', 'lvq', 'hierarchy', 'wing', 'recurrent', 'odal', 'petroleum', 'tws', 'melody', 'g4m', 'aiva', 'submodular', 'chatgpts', 'rem', 'mh', 'flagged', 'incubator', 'toolbox', 'bend', 'ocps', 'clusterability', 'chart', 'ci', 'cgis', 'sketch', 'designer', 'od', 'hemisphere', 'false', 'would', 'imat', 'pgs', 'russian', 'haar', 'predictor', 'packing', 'sbq', 'inventory', 'inef', 'branding', 'garch', 'scanpath', 'slicing', 'drying', 'irtt', 'slps', 'silage', 'scheme', 'silo', 'idiographic', 'ksaos', 'biotope', 'boundedly', 'chatter', 'unlt', 'mmdx', 'hac', 'cpfs', 'kindl', 'philosophy', 'bic', 'paradigm', 'unfair', 'sal', 'dpms', 'forensic', 'rooftop', 'scholarship', 'bcis', 'professional', 'validation', 'economic', 'rmc', 'hl', 'aut', 'lethality', 'rare', 'acquaintance', 'dependency', 'assignment', 'preference', 'multilane', 'gnns', 'autism', 'graduate', 'organizational', 'robotics', 'kim', 'schumachers', 'fertility', 'subgroup', 'funnel', 'hydroponics', 'ddqm', 'site', 'kwame', 'facebook', 'mp', 'diatom', 'cocaine', 'mttd', 'nkululeko', 'arkansas', 'qep', 'norm', 'elective', 'chla', 'expert', 'betting', 'deoptim', 'lcdm', 'segmented', 'penman', 'hds', 'kappa', 'thread', 'elasticity', 'lrn', 'alcohol', 'liability', 'adaptability', 'smartphones', 'standard', 'volterra', 'dwelling', 'dnv', 'yeh', 'eew', 'roof', 'population', 'malpractice', 'cadastral', 'government', 'distressed', 'hit', 'plan', 'breadth', 'dyslexic', 'valued', 'sakai', 'dca', 'cbs', 'interval', 'fmri', 'impaired', 'idiolect', 'submission', 'lemma', 'variant', 'prior', 'gcn', 'piece', 'tracing', 'lock', 'mlps', 'electoral', 'btd', 'willingness', 'interlinkages', 'hw', 'unmanned', 'linguistically', 'thai', 'skating', 'upis', 'fsc', 'alpha', 'fifs', 'apologetic', 'avoidant', 'usa', 'eyrc', 'subtitle', 'scaling', 'litigant', 'sorting', 'employment', 'sample', 'neologism', 'automated', 'svmtool', 'greg', 'tetri', 'lddds', 'mcc', 'intention', 'fsg', 'anvisa', 'labeling', 'svme', 'silent', 'fhe', 'mat', 'alert', 'iots', 'lcf', 'cancelations', 'iso', 'arraignment', 'leo', 'pres', 'avt', 'smir', 'configuration', 'surplus', 'recruitment', 'competing', 'tibetan', 'embedding', 'anime', 'gec', 'qeeg', 'pearl', 'manipulative', 'fiber', 'dissociation', 'nordestao', 'verification', 'tt', 'residential', 'calorie', 'slu', 'pay', 'mfis', 'lczs', 'arbiter', 'legislative', 'dye', 'burglary', 'sql', 'mission', 'nvix', 'instructor', 'montado', 'vle', 'lendingclub', 'cfo', 'stimulus', 'trimmed', 'jurisdiction', 'assertiveness', 'uqr', 'width', 'disadvantaged', 'alphago', 'hand', 'ofdi', 'anthropocene', 'lccs', 'fw', 'brics', 'msa', 'comparative', 'premarket', 'requesting', 'plugin', 'workplace', 'robust', 'noctilio', 'thyroid', 'bargaining', 'p4', 'livestream', 'dice', 'gtb', 'ideological', 'phase', 'tradeoff', 'optum', 'saccade', 'company', 'railroad', 'enunciation', 'perpetual', 'dep', 'fictitious', 'fly', 'councillor', 'impostor', 'explainable', 'selection', 'gsd', 'geocoding', 'bulbar', 'actor', 'religion', 'sage', 'satz', 'apt', 'marsplines', 'dissolution', 'recording', 'sbcs', 'flag', 'biology', 'cartography', 'home', 'lida', 'transgender', 'execution', 'slot', 'powered', 'said', 'evocation', 'subscriber', 'coronavirus', 'backscatter', 'ebr', 'cde', 'harvesting', 'sifting', 'shipment', 'certificate', 'prosocial', 'verbalization', 'ues', 'principle', 'creation', 'chamber', 'intact', 'smc', 'dam', 'hydroxychloroquine', 'ratio', 'stm', 'pedagogical', 'sidechains', 'listening', 'bailout', 'implied', 'whu', 'indiscriminate', 'cov', 'glss', 'spoc', 'cape', 'athletic', 'radiation', 'topical', 'mlad', 'generation', 'payouts', 'irresponsive', 'eo', 'disorder', 'equalization', 'calving', 'alexnet', 'ssh', 'validity', 'epidemic', 'capacity', 'soda', 'maxent', 'javabugs', 'rnns', 'inseparable', '1278', 'eds', 'finite', 'deviation', 'landforms', 'thq', 'controversy', 'seldonian', 'slope', 'prediction', 'deepracer', 'lexical', 'barchans', 'editorial', 'fluvial', 'ppi', 'spark', 'regime', 'evtree', 'cgt', 'nightlight', 'ie', 'inmate', 'pilot', 'electronic', 'forex', 'unlabeled', 'csforest', 'snowy', 'redditors', 'scrum', 'c2c', 'gang', 'knapsack', 'dump', 'pdes', 'motorcycle', 'capability', 'safeguarding', 'hindi', 'vine', 'bipartisan', 'chat', 'ultrasound', 'egyptian', 'glc', 'servicer', 'impairment', 'behaviour', 'aeg', 'liar', 'remission', 'pronet', 'history', 'torrential', 'sdes', 'abundance', 'mler', 'slip', 'quarterly', 'scouting', 'antitrust', 'rhythm', 'rtconfpm', 'interactive', 'hesitancy', 'generalised', 'geomorphology', 'virus', 'phished', 'genetically', 'hhmla', 'tagging', 'doane', 'gui', 'denmark', 'touristic', 'persona', 'finnish', 'spiritual', 'ihnn', 'morphosyntactic', 'resonance', 'p2g', 'mpfc', 'gsat', 'severity', 'ugv', 'alan', 'remarketing', 'misclassifying', 'rehabilitation', 'rai', 'honest', 'administrative', 'ecthr', 'aaod', 'developmental', 'fudge', 'ccc', 'icbt', 'ftir', 'point', 'interpretable', 'online', 'prototypicality', 'wh', 'htc', 'account', 'variance', 'bar', 'regularizers', 'requirement', 'immersion', 'msvr', 'vision', 'catboost', 'ccg', 'differential', 'governmental', 'fla', 'generalization', 'coinsurance', 'formulation', 'pswq', 'hoax', 'wto', 'stakeholder', 'cleansing', 'criterion', 'uhr', 'ffb', 'floyd', 'abroad', 'catchment', 'assumption', 'sh', 'sonarlizer', 'xplorer', '0f', 'iq4', 'whoteach', 'spread', 'jewish', 'kinetic', 'ending', 'ned', 'streamer', 'capsule', 'zika', 'boll', 'majority', 'hire', 'debtor', 'intellectual', 'so2', 'inflammation', 'smash', 'sars', 'nim', 'breakoffs', 'l4s', 'equity', 'pattern', 'mlas', 'romanization', 'parse', 'acp', 'tailored', 'distancing', 'esol', 'theoryon', 'coauthorship', 'hpiu', 'educator', 'sepcnn', 'spinoza', 'regulated', 'sociolect', 'interest', 'subliminal', 'lawyer', 'directional', 'orchard', 'fulfillment', 'npi', 'gini', 'jqi', 'civil', 'datacubes', 'aocsm', 'family', 'morphology', 'srh', 'boumezoued', 'figure', 'mirnas', 'pwi', 'lag', 'written', 'ppins', 'h2o', 'core', 'gbp', 'sbsts', 'suacode', 'responsible', 'rt', 'dnb', 'nil', 'omnibus', 'fis', 'bathymetry', 'dmn', 'stickiness', 'dread', 'optimizing', 'gesm', 'cloning', 'computerization', 'hero', 'corex', 'survxgboost', 'spindle', 'oslq', 'lpj', '19', 'observer', 'rsscart', 'article', 'granularity', 'storage', 'encroachment', 'fo', 'lean', 'alt', 'buoy', 'termination', 'salience', 'reu', 'neuroscience', 'ptsdsx', 'tuning', 'imf', 'hijaiyah', 'experimentation', 'economist', 'closing', 'emtech', 'whr', 'weekly', 'murundus', 'wrist', 'scholarly', 'polinsar', 'transgression', 'neuroanatomical', 'austrian', 'siamese', 'mpi', 'rps', 'progression', 'watershed', 'age', 'taste', 'arma', 'classic', 'enjoyment', 'nypd', 'mkl', 'frugal', 'flexibility', 'adml', 'gnn', 'ghz', 'scottish', 'dcws', 'mlcv', 'mbc', 'maize', 'jpssm', 'singapore', 'pediatric', 'sensitivity', 'intertemporal', 'persistence', 'battery', 'band', 'vader', 'datasets', 'tonality', 'contextual', 'transshipment', 'empowerment', 'aversion', 'mix', 'discretion', 'roh', 'effort', 'schizotypal', 'pakistani', 'attention', 'mlp', 'organ', 'script', 'pcc', 'poisson', 'cause', 'tephra', 'satellite', 'ltx', 'injective', 'histological', 'obfuscation', 'conifer', 'elirank', 'educated', 'tech', 'stratification', 'harmony', 'front', 'vkontakte', 'schedule', 'dirichlet', 'covariate', 'benign', 'nfis', 'x0025', 'x00a0', 'stg', 'burner', 'geodemographic', 'leslie', 'semiparametric', 'round', 'rheumatologist', 'complement', 'mauritius', 'glitch', 'subject', 'ram', 'boolean', 'yolov5', 'wc', 'bioethics', 'rdd', 'cnns', 'inverse', 'notebook', 'pu', 'satisfactorily', '4ir', 'track', 'dem', 'officer', 'hostility', 'euribor', 'adn', 'deverbal', 'fingerprint', 'tibial', 'eps', 'flr', 'sleepiness', 'robobo', 'adaptation', 'calculation', 'felicific', 'factoring', 'paf', 'beijing', 'salient', 'domestic', 'optimizers', 'loompas', 'oompa', 'mandarin', 'indicator', 'aircraft', 'talkitt', 'borrower', 'blueprinting', 'ibs', 'tb', 'mislabeled', 'pnns', 'archivist', 'shiny', 'problem', 'texthide', 'oecd', 'temple', 'natura', 'dum', 'deepurbanmodeller', 'wqi', 'operational', 'apriori', 'wavelet', 'ttad', 'medicaid', 'parent', 'rarity', 'yoga', 'surface', 'pph', 'intrapartum', 'lsemantica', 'abc', 'cyclegans', 'misclassification', 'glen', 'nra', 'roman', 'variable', 'krauss', 'effectiveness', 'metacognition', 'steering', 'orientation', 'stochastic', 'killer', 'laboulbeniomycetes', 'collision', 'amt', 'inorganic', 'ranked', 'maneuver', 'gsv', 'leniency', 'prompting', 'cyberattacks', 'area', 'logit', 'absa', 'treewidth', 'cyberspace', 'stair', 'memristive', 'profile', 'engage', 'analyser', 'linux', 'analyzer', 'wellbeing', 'serious', 'website', 'heterogeneous', 'era5', 'phr', 'presence', 'orthogonal', 'lsd', 'classi', 'asymptomatic', 'privilege', 'forced', 'voltarget', 'irr', 'lighting', 'cancelation', 'ebm', 'pump', 'dsq', 'unrolled', 'hemnet', 'atrain', 'ell', 'sensation', 'mnn', 'kge', 'ambient', 'computing', 'webstair', 'alignment', 'electrophysiological', 'basin', 'parallax', 'tacit', 'temporally', 'ldf', 'wasserstein', 'individual', 'ddml', 'headline', 'valenced', 'kinect', 'reddit', 'laba', 'acnn', 'essa', 'belarusian', 'dataset', 'hog', 'clfd', 'historical', 'specification', 'grade', 'ac', 'ko', 'conti', 'bilevel', 'parallel', 'tube', 'deskwork', 'cscs', 'selfies', 'algal', 'bitcoins', 'roadside', 'hardship', 'ugms', 'evaluative', 'sequencing', 'gratis', 'sleuth', 'marker', 'transmitter', 'stylometry', 'aap', 'regulator', 'bfg', 'mlops', 'remuneration', 'hydroclimatological', 'rhythmic', 'prm', 'percent', 'wnar', 'edition', 'airfoil', 'gsp', 'parsimony', 'excavation', 'rcp', 'glmboost', 'mfea', 'pixel', 'corrosion', '1992', 'quant', 'pg', 'intermodal', 'gisa', 'synergy', 'leaf', 'litigation', 'testing', 'webinar', 'burn', 'glow', 'christian', 'crafted', 'paa', 'outrage', 'cover', 'multiyear', 'mfrsc', 'china', 'drumlin', 'criticism', 'discussion', 'discovery', 'surprisal', 'benthic', 'conservative', 'conservation', 'bangkok', 'maintenance', 'errps', 'pmt', 'academic', 'oak', 'cbts', 'wq', 'gabp', 'cooperated', 'strain', 'wnn', 'hadoop', 'handwritten', 'dmp', 'negative', 'polluted', 'iconoscope', 'tio', 'kera', 'registration', 'iron', 'series', 'archaeology', 'filling', 'pathway', 'rbf', 'wgs', 'clean', 'homophilic', 'super', 'mdp', 'cta', 'ssm', 'hge', 'urea', 'dap', 'buying', 'kelluwen', 'worklog', 'gtd', 'expropriation', 'compatibility', 'buffer', 'tof', 'faculty', 'qgarch', 'sorted', 'skillscommons', 'demolition', 'hc', 'treasury', 'invention', 'streaming', 'semisupervised', 'pulmonary', 'pavlovian', 'visited', 'overexertion', 'colonias', 'autokeras', 'evidence', 'var', 'recaptcha', 'hard', 'ccar', 'lmics', 'psychiatric', 'crown', 'datasheet', 'spatio', 'chomsky', 'lwa', 'verbnet', 'output', 'covert', 'adrs', 'principal', 'crack', 'flambe', 'qca', 'count', 'bellr', 'refraction', 'ageist', 'combination', 'insula', 'reconstruction', 'residual', 'indirect', 'tool', 'screenomes', 'geographical', 'imagery', 'regret', 'war', 'arginine', 'tactical', 'khmer', 'placebo', 'presenter', 'cpi', 'patch', 'depressive', 'ui', 'editing', 'wds', 'limb', 'chairman', 'nigeria', 'seeking', 'loughran', 'mcdonald', 'score', 'parental', 'epilepsy', '2019', 'examiner', 'pea', 'medieval', 'fusion', 'lifetime', 'fohn', 'ppu', 'hermeneutics', 'sekanak', 'sourced', 'hydropower', 'smartwatches', 'redcayle', 'caput', 'selling', 'dtm', 'ema', 'rts', 'donation', 'instrumentally', 'mbis', 'album', 'convlstm', 'reversal', 'tbats', 'guarantee', 'olympics', 'researcher', 'suchey', 'decentralized', 'rna', 'starima', 'generalized', 'criminology', 'funding', 'bsid', 'nlu', 'stgcn', 'cropping', 'mentoring', 'mob', 'westdc', 'influencers', 'bused', 'min', 'segregation', 'surprise', 'uk', 'contextualized', 'ravlt', 'ibd', 'kincer', 'tiered', 'esm', 'digest', 'promotion', 'evasion', 'hat', 'concealed', 'republicain', 'practi', 'superstar', 'falsified', 'visualisation', 'farima', 'italian', 'derivative', 'resbagan', 'reformulations', 'detection', 'evoked', 'forestry', 'submerged', 'chronic', 'role', 'advocate', 'afrocentric', 'husbandry', 'geotypes', 'convolution', 'deformation', 'woe', 'fluency', 'webpage', 'ran', 'cbt', 'cth', 'rita', 'warehouse', 'nm', 'tlc', 'tar', 'latest', 'tweedie', 'lscm', 'rearrest', 'oa', 'denial', 'nudging', 'opponent', 'cis', 'czech', 'state', 'interaction', 'broadcast', 'f0', 'sequence', 'multilingual', 'amsr', 'warfare', 'municipal', 'kemijarvi', 'darp', 'rle', 'drilling', 'myrb', 'trouble', 'eloreta', 'metacognitive', 'grey', 'botzone', 'segment', 'modeling', 'office', 'predatory', 'practitioner', 'virtual', 'fcpo', 'cleartk', 'phytochemical', 'functional', 'throughput', 'rosana', 'mf', 'mislabelled', 'emerging', 'tdcs', 'ephx2', 'lixel', 'rival', 'aid', 'sld', 'nonmonetary', 'sgh', 'fabrication', 'ethology', 'critic', 'lemmatization', 'filler', 'bombardier', 'tdp', 'hitop', 'glm', 'african', 'legitimacy', 'itkin', 'gcp', 'fumier', 'dlbs', 'stylistic', 'named', 'procrastinator', 'evaluation', 'ontological', 'antisocial', 'curse', 'technical', 'il', 'hourly', 'microbiome', 'training', 'infringement', 'sse', 'gap', 'kc', 'computational', 'croatian', 'cmb', 'personalized', 'supoza', 'heading', 'canalization', 'exemption', 'coco', 'epu', 'fidelity', 'ant', 'rabbit', 'cbm', 'receipt', 'generated', 'multiscale', 'pineapple', 'linguistics', 'swl', 'vancouver', 'insertion', 'cop', 'chemaistry', 'hmm', 'formal', 'andean', 'distribution', 'recruiting', 'palestinian', 'epsilon', 'autocoding', 'drama', 'texas', 'coc', 'gross', 'berlin', 'cord', 'idcf', 'suction', 'htm', 'electrical', 'lrr', 'chemotherapy', 'coverage', 'botnet', 'gitlab', 'rbfnn', 'inflow', 'tracker', 'mgwr', 'serverless', 'evse', 'reactor', 'idalgorithm', 'foursquare', 'structural', 'incoherent', 'tsf', 'bioscope', 'v4', 'epii', 'neolithic', 'unnatural', 'removal', 'g7', 'issuance', 'cim', 'peripheral', 'autocorrelation', 'raters', 'swh', 'declining', 'nonresponsive', 'meaningfulness', 'france', 'taphonomic', 'newsmap', 'bigtechs', 'bigtech', 'assimilation', 'lab', 'microbial', 'irf', 'parity', 'cardiovascular', 'charleston', 'dcb', 'description', 'atypical', 'multisource', 'susceptible', 'surgery', 'grief', 'fpsps', 'padua', 'complementarity', 'transforming', 'srt', 'cold', 'listener', 'taiwan', 'sieve', 'tolerance', 'latency', 'joao', 'pessoa', 'virality', 'cyberia', 'interpretability', 'good', 'mv', 'gwrf', 'transect', 'congruence', 'suspicious', 'outgroup', 'intersectional', 'ailment', 'hmmx', 'vdc', 'lmx', 'morphometric', 'stereotypical', 'utility', 'walnut', 'survey', 'concentration', 'maturity', 'geography', 'skeletal', 'lgml', 'obstacle', 'representative', 'venture', 'methodology', 'geochemical', 'perlin', 'ok', 'portent', 'smm', 'drumming', 'pix2pix', 'roe', 'profiling', 'artbot', 'resnet', 'treebank', 'regression', 'step', 'inherited', 'ventriloquism', 'listserv', 'pair', 'cat', 'gain', 'processing', 'co2', 'multiplication', 'shallow', 'talc', 'kinship', 'iterates', 'monday', 'erm', 'quantitative', 'alleviation', 'gestalt', 'lot', 'mdm', 'fors', 'carry', 'macd', 'trend', 'spn', 'dual', 'nautical', 'buttoning', 'digitisation', 'schoolwork', 'aerial', 'geosom', 'contesting', 'mplus', 'nuisance', 'cocitation', 'body', 'cubist', 'datacube', 'radicalness', 'progress', 'programing', 'fit', 'measure', 'afft', 'ludian', 'jrip', 'sri', 'wrmsds', 'bottleneck', 'stability', 'uniminuto', 'timber', 'promised', 'south', 'posttest', 'field', 'nonverbal', 'lcm', 'geoprocessing', 'mdr', 'dvr', 'parliament', 'adsd', 'glottal', 'transformative', 'geomorphological', 'msc', 'rain', 'forecaster', 'debunking', 'infection', 'clustersvm', 'mddpsy', 'graphic', 'estuary', 'sector', 'electric', 'rhml', 'ecology', 'nitrogen', 'licencing', 'synergistic', 'double', 'tn', 'mrt', 'offloading', 'multilevel', 'rli', 'allegation', 'defaulted', 'itps', 'elamite', 'signlist', 'neurotechnologies', 'neighbor', 'exaggeration', 'episodic', 'greenspace', 'sygus', 'ukrainian', 'bovid', 'stack', 'contention', 'organisational', 'voluntary', 'gbnn', 'hcps', 'linear', 'mlabc', 'tianjin', 'aw', 'networking', 'campus', 'wtl', 'webrtc', 'automobile', 'subbands', 'omitted', 'moneyball', 'transform', 'senior', 'mba', 'featurizers', 'multicentric', 'personnel', 'speed', 'opm', 'protease', 'icls', 'lrv', 'ripeness', 'coke', 'welcome', 'nigerian', 'endpoint', 'idiomatic', 'chmm', 'mmi', 'python', 'briefness', 'pitf', 'lewy', 'mason', 'subpopulation', 'arithmetic', 'information', 'lung', 'xgboosting', 'fforms', 'predictable', 'resistivity', 'reminder', 'checker', 'insulting', 'interoperability', 'promoted', 'dcnn', 'mark', 'jaccard', 'thelimit', 'manager', 'fetal', 'taxon', 'cit', 'idw', 'national', 'boredom', 'mmrse', 'manual', 'incremental', 'status', 'server', 'interviewbert', 'preventive', 'neurocognitive', 'theoretical', 'seeding', 'pyramid', 'pmma', 'mule', 'subsection', 'deployment', 'looking', 'skus', 'differentiation', 'millet', 'econometric', 'institutionalization', 'input', 'look', 'mattering', 'tier', 'saving', 'examination', 'suitability', 'sdae', 'positive', 'vlfc', 'dark', 'presentation', 'moca', 'facs', 'sizing', 'psychology', 'easyasr', 'coaching', 'alternation', 'livito', 'revitalization', 'aspiration', 'aldvmm', 'forested', 'higuchi', 'derailment', 'cruising', 'zcs', 'arcybc', 'usage', 'marcos', 'nsw', 'ocrs', 'newton', 'third', 'generality', 'answerable', 'actuary', 'omm', 'twlz', 'draft', 'phenomenon', 'shgs', 'expressed', 'kickstarter', 'old', 'side', '1970', 'morality', 'nidss', 'faac', 'qali', 'warma', 'gcnns', 'vpp', 'neanderthal', 'citizenship', 'iet', 'chilling', 'underpricing', 'deephate', 'fwm', '21', 'projecting', 'interimage', 'rbc', 'inauthentic', 'tol', 'pxrf', 'dreaming', 'pltr', 'steam', 'unbalanced', 'compulsivity', 'cscf', 'intergroup', 'pairwise', 'dfm', 'minority', 'moscow', 'daue', 'fsf', 'reviewability', 'csvr', 'curricular', 'legislation', 'unwanted', 'semivariances', 'micro', 'einstein', 'volume', 'invest', 'oj', 'acc', 'tianshan', 'toi', 'lemmatizer', 'spi', 'enabling', 'gossip', 'manipulating', 'lt', 'sociomateriality', 'uima', 'empirical', 'ssu', 'mlmr', 'tournament', 'qnp', 'pakistan', 'multilayer', 'weekday', 'wig20', 'mbpso', 'poland', 'ppo', 'olcb', 'run', 'taxation', 'edi', 'april', 'craft', 'viirs', 'scratchjr', 'racing', 'gigaword', 'power', 'toolset', 'pred', 'chemotaxis', 'chemotactic', 'counter', 'responsiveness', 'labelled', 'vlm', 'cph', 'string', 'prototype', 'echogram', 'tpu', 'burial', 'rho', 'dggs', 'situation', 'nearest', 'ghq', 'diversion', 'conll', 'psds', 'fascicle', 'finrl', 'lapldm', 'ost', 'agricultural', 'sweep', 'lla', 'cognitivism', 'handset', 'massar', 'eysenck', 'uncivil', 'faacost', 'philosopher', 'declarative', 'aqs', 'ltr', 'repository', 'conjecture', 'contactless', 'cmes', 'nooj', 'vibration', 'lie', 'ajr', 'cconto', 'mdn', 'rotational', 'unordered', 'morphological', 'practice', 'gbt', 'fdh', 'ore', 'assay', 'ldps', 'parametric', 'prophet', 'membership', 'regional', 'ipi', 'hyperheuristic', 'versatile', 'trailblazing', 'spectator', 'epcs', 'fiction', 'zoid', 'induced', 'coca', 'opportunistic', 'borderline', 'anonymizer', 'private', 'narx', 'mdl', 'hyperparameters', 'intensity', 'participation', 'autobiographical', 'endovascular', 'rebalance', 'biotopes', 'opt', 'mimr', 'spurious', 'autoencoder', 'tariff', 'vintage', 'cca', 'voicing', 'forestnet', 'scarcity', 'sdn', 'reversion', 'procurer', 'annualized', 'algebra', 'muddling', 'reproduction', 'cointegration', 'healthful', 'imaginary', 'kicking', 'rcft', 'revelation', 'mlr', 'neuro', 'weight', 'kai', 'genealogy', 'reweight', 'relativegain', 'submodules', 'foot', 'icms', 'icm', 'responder', 'ailrs', 'publishing', 'branded', 'mnl', 'srf', 'poster', 'quantized', 'spring', 'collaborate', 'exogenous', 'bootstrap', 'internship', 'moderator', 'nirs', 'froing', 'toing', 'pm10', 'postsecondary', 'ppe', 'bagged', 'hilda', 'pretenure', 'miscategorization', 'art', 'sketching', 'pdc', 'promodes', 'spending', 'milling', 'racial', 'gpal', 'esa', 'dfms', 'millennials', 'alprazolam', 'backcasts', 'genitive', 'stemming', 'minimum', 'chicago', 'neon', 'dilemma', 'kdd', 'obligation', 'rise', 'dmus', 'vnir', 'whatever', 'untrustworthy', 'paleo', 'dissociative', 'temperature', 'reject', 'zero', 'poetry', 'symbolic', 'tucp', 'backcasting', 'tephras', 'gestural', 'secular', 'equivalency', 'circadian', 'pendulum', 'unregistered', 'riemannian', 'pine', 'hpc', 'hrca', 'degree', 'axiological', 'research', 'casualty', 'subbasin', 'dewey', 'accomplishment', 'bull', 'labelling', 'trafficker', 'algorithm', 'granular', 'seasonal', 'ambiguity', 'jssp', 'gdms', 'snooping', 'emoticon', 'lsm', 'lr', '1991', 'centroid', 'martingale', 'micromasters', 'bbva', 'secriskai', 'aca', 'technophony', 'rational', 'martian', 'psychologist', 'vertical', 'aae', 'counterparties', 'bdf', 'cascade', 'turbidites', 'challenge', 'nonliars', 'phrasal', 'erps', 'edie', 'printing', 'nondenominational', 'prevalence', 'webrooming', 'bought', 'morpho', 'stemflow', 'rlps', 'rlp', 'rehearsal', 'politices', 'nonacademic', 'estimating', 'daylight', 'rcsnet', 'psd', 'adversary', 'rsq', 'routing', 'schizophrenia', 'observables', 'flowering', 'posttraumatic', 'shaped', 'construal', 'japanese', 'reinforcer', 'mlts', 'qac', 'poor', 'floga', 'brook', 'sand', 'mythology', 'tst', 'dro', 'evaluator', 'explicitness', 'multipenalty', 'somatic', 'ftc', 'pathology', 'photogrammetric', 'postural', 'invitation', 'cricket', 'bicyclist', 'cltk', 'updating', 'cargo', 'genomic', 'listed', 'sparse', 'odil', 'aggressive', 'ncds', 'retinopathy', 'hippocampal', 'sphere', 'archaeologist', 'itr', 'sociopolitical', 'waving', 'psychometric', 'source', 'boosting', 'nonremitting', 'architecture', 'gso', 'force', 'convex', 'changing', 'govs', 'vfoa', 'issue', 'model', 'roundabout', 'lfc', 'proposec', 'aix', 'homograph', 'sobriety', 'mcloud', 'interpreter', 'cav', 'pwsa', 'ipdg', 'covering', 'orienting', 'eurocentric', 'bringing', 'gravity', 'profession', 'instructional', 'managerial', 'equality', 'ecb', 'hdt', 'taxonomy', 'burp', 'seeker', 'pwl', 'oversampling', 'biosecurity', 'hedden', 'extraneous', 'eseismic', 'medication', 'sapp', 'scaffolding', 'te', 'ffnns', 'swir', 'coa', 'autonomous', 'auxiliary', 'cvae', 'alns', 'quadratic', 'dare', 'reserve', 'crea', 'contamination', 'lcfc', 'regressor', 'cultivation', 'yagya', 'infectious', 'csc', 'goal2quit', 'multiproduct', 'ssp', 'support', 'imposed', 'apology', 'cci', 'atticus', 'qall', 'daye', 'cytokine', 'tom', 'outflow', 'typo', 'lightgbm', 'envisaged', 'africa', 'discovering', 'rpl', 'labview', 'svb', 'reinternalization', 'aequo', 'eigenvalue', 'parodist', 'seedling', 'repayment', 'relationship', 'naturalistic', 'geometry', 'metoo', 'jisst', 'tagged', 'comaps', 'regioisomerism', 'logistic', 'polishing', 'commentator', 'oop', 'fused', 'soldier', 'working', 'unsignalized', 'baseline', 'everyday', 'autoreserve', 'antigen', 'erc', 'mg', 'opportunity', 'digitally', 'overclocking', 'angle', 'valency', 'monologue', 'pve', 'theai', 'tolerant', 'reason', 'emm', 'zoom', 'mandatory', 'station', 'ground', 'packet', 'maritime', 'independence', 'wfc', 'anatomical', 'superiority', 'isolation', 'desis', 'gambler', 'subgroupsem', 'dutch', 'fine', 'genetics', 'addict', 'loose', 'barchan', 'change', 'ictis', 'brokerage', 'dysfunction', 'lecturer', 'example', 'lewis', 'binomial', 'psychedelics', 'sna', 'curlicat', 'sentient', 'spore', 'aberrant', 'n2pc', 'jasper', 'broad', 'tacotron', 'trusted', 'line', 'diffusion', 'profiler', 'decarbonisation', 'ica', 'optn', 'nids', 'edf', 'foundation', 'sic', 'maori', 'attacker', 'pgnn', 'converting', 'brainage', 'shelter', 'cbe', 'odds', 'nontraditional', 'ucss', 'colonial', 'comedy', 'microflow', 'anemia', 'c2lsh', 'reduction', 'polygon', 'exploit', 'planner', 'unlicensed', 'pda', 'mountain', 'vcas', 'treebanking', 'proprietary', 'method', 'autodal', 'jannuary', 'savannah', 'fama', 'cavs', 'feedbacklogs', 'rol', 'qrf', 'lion', 'concave', 'parameter', 'roost', 'ssa', 'feas', 'downscaling', 'unmet', 'osns', 'six', 'truecasing', 'normalization', 'nasal', 'iborderctrl', 'csps', 'conceptual', 'breeding', 'vrrsability', 'iceemdan', 'put', 'additivity', 'anonymisation', 'hitzalmed', 'oca', 'notam', 'pse', 'hubris', 'eyetracking', 'har', 'nonparametric', 'lazy', 'nifty', 'fll', 'flywheel', 'maltoptimizer', 'ethno', '2d', 'fiduciary', 'oosd', 'aac', 'evt', 'stigmatizing', 'pace', 'excess', 'canyon', 'discipline', 'size', 'depositional', 'ou', 'template', 'gapt', 'multiclass', 'phytotherapy', 'pdm', 'bigdata', 'mmfi', 'happy', 'gerontology', 'taker', 'mean', 'intersection', 'coupling', 'oculomotor', 'thoemmes', 'potsherd', 'latin', 'cp', 'punctuation', 'preservice', 'process', 'array', 'radiometer', 'statistician', 'film', 'ptr', 'reactivity', 'geomorphometric', 'usmc', 'oh80', 'westminster', 'bedforms', 'bet', 'vygotskian', 'implementation', 'overlap', 'bhrs', 'mab', 'conversants', 'ptcs', 'metabolite', 'colearning', 'modular', 'mixture', 'cet1', 'transacts', 'dysphagia', 'quarry', 'averse', 'clarification', 'preconception', 'divpsm', 'ansnpe', 'making', 'diet', 'survivor', 'annie', 'customized', 'tion', 'eligibility', 'attempt', 'seville', 'depend', 'brp', 'informativeness', 'breathing', 'multilingualism', 'nucleus', 'mu', 'hen', 'othello', 'deepconnection', 'existence', 'wcrf', 'trimodal', 'binary', 'decoding', 'neuromarketing', 'pystacked', 'region', 'damip', 'pointnet', 'neutral', 'doc2vec', 'osce', 'unite', 'mlb', 'mphmi', 'triple', 'publication', 'ensemblematrix', 'sequential', 'tradition', 'liberalization', 'distracted', 'indicative', 'waveform', 'illinoiscloudnlp', 'nlpcurator', 'tga', 'adapu', 'nonlandslide', 'j2ee', 'stringency', 'taguchi', 'photograph', 'svideo', 'taxpaying', 'vic', 'stk', 'island', 'excitation', 'assignee', 'amusement', 'acquirer', 'lipid', 'scard', 'ambulance', 'proceeding', 'pupillary', 'quintile', 'weighted', 'sub', 'cuttlefish', 'imts', 'enclosure', 'two', 'fitb', 'projection', 'mvcs', 'ofbuilding', 'canupo', 'ventilation', 'semg', 'soul', 'ato', 'handwashing', 'shift', 'opd', 'coi', 'utilization', 'bvc', 'inn', 'downturn', 'aois', 'england', 'hgr', 'editable', 'polykrikoides', 'asq', 'journey', 'let', 'goci', 'rankness', 'idf', 'levallois', 'eleven', 'ancora', 'numerical', 'huber', 'topo', 'keyboard', 'touchless', 'evidential', 'gmv', 'cre', 'valence', 'standardized', 'functionals', 'peled', 'qualification', 'safe', 'dpm', 'cosmetic', 'tension', 'slide', 'pennylanes', 'ubi', 'cultivate', 'rouge', 'title', 'bqp', 'french', 'mri', 'sct', 'rsfc', 'mauritania', 'twh', 'fragmented', 'mmse', 'contextually', 'ffr', 'ascription', 'concern', 'farming', 'thoughtfulness', 'pickup', 'solifluction', 'gil', 'brierley', 'lssvr', 'shell', 'switch', 'acceleration', 'proptech', 'ddps', 'korea', 'ibovespa', 'geographic', 'eq', 'dbscan', 'mapping', 'emotweet', 'backbone', 'rmsle', 'intuitive', 'grounding', 'gestation', 'achievement', 'lta', 'webnlg', 'hearth', 'mfcc', 'context', 'provenance', 'enrollment', 'membrane', 'countering', 'mashup', 'semantically', 'introspection', 'aaers', 'plausible', 'cspa', 'itcd', 'accredited', 'spoken', 'alteration', 'ear', 'vi', 'trapezoid', 'designation', 'enhanced', 'ethiopia', 'intrinsic', 'threshold', 'downside', 'invariant', 'misdp', 'c4', 'predix', 'marsi', 'mew', 'likelihood', 'deephit', 'ratemaking', 'prgp', 'approximation', 'discriminating', 'b4sdgs', 'mentor', 'extremist', 'lspd', 'middle', 'founding', 'lrmf', 'assamese', 'poisoning', 'sitter', 'lpbt', 'subcategories', 'barcelona', 'difference', 'occupational', 'holding', 'mtcf', 'transliterated', 'morphometry', 'binding', 'attempter', 'navigation', 'flux', 'quebec', 'readership', 'kinh', 'scd', 'usps', 'traumatic', 'backed', 'abhas', 'dct', 'kekre', 'ssps1', 'ssps5', 'dmsp', 'uspto', 'hypergraph', 'censoring', 'deceive', 'swahili', 'desire', 'spta', 'toddler', 'severe', 'trabecular', 'call', 'performance', 'vru', 'cashback', 'differentially', 'silver', 'shop', 'mx', 'ccae', 'pier', 'scour', 'detonation', 'athey', 'angrist', 'evans', 'imt', 'protrump', 'proclinton', 'customizing', 'adequacy', 'watch', 'pandemic', 'qssvm', 'clstm', 'vles', 'steganography', 'rank', 'resprate', 'bargain', 'thermometer', 'landlord', 'saleable', 'registry', 'grp', 'monitoring', 'rcga', 'brian', 'plantain', 'hvd', 'irish', 'evald', 'anonymous', 'editor', 'discrete', 'agroforests', 'interesting', 'record', 'influencer', 'workforce', 'canmeds', 'brnn', 'pcet', 'externality', 'blender', 'doxa', 'clhad', 'interbank', 'italy', 'ease', 'hbim', 'interacting', 'latines', 'asynchronous', 'cipm', 'ny', 'peatlands', 'mha', 'exploratory', 'nlc', 'sheet', 'holsat', 'gendered', 'wsj', 'habitation', 'completers', 'sentbuk', 'caveat', 'ctbs', 'geoscience', 'extramural', 'spousal', 'yoda', 'igann', 'garment', 'detectability', 'modeler', 'overlearning', '5d', 'alzheimers', 'ageism', 'sta', 'orbit', 'sponge', 'quarter', 'arson', '1989', 'qualifying', 'riverbed', 'entry', 'vlcs', 'usability', 'olid', 'bioinformatics', 'garhwal', 'leprosy', 'abnormal', 'wdp', 'mufti', 'stroop', 'mirt', 'noticing', 'functionality', 'door', 'oels', 'outsole', 'component', 'gsi', 'facet', 'craving', 'disseminating', 'australopiths', 'desert', 'deeptriangle', 'aviation', 'archeological', 'burning', 'uqpe', 'entropy', 'lbdl', 'file', 'neurotechnological', 'distractors', 'impossibility', 'han', 'anthropomorphized', 'fence', 'bnn', 'beep', 'oxtr', 'congested', 'psoe', 'tucker', 'retargeting', 'sugarcane', 'biogas', 'belonging', 'interferometric', 'alliteration', 'poc', 'rmb', 'nuance', 'cmc', 'hvac', 'hispantv', 'chlorophyll', 'glossary', 'pel', 'semls', 'atmosphere', 'graded', 'reopening', 'costa', 'prevention', 'ldt', 'grant', 'palma', 'cundinamarca', 'recalculated', 'gnss', 'substitutive', 'staffing', 'clinic', 'sf', 'gifting', 'macro', 'gcnn', 'microsystems', 'loop', 'febrile', 'lo', 'lfr', 'aster', 'neuroimaging', 'tbi', 'planted', 'proto', 'vestel', 'turkcell', 'lahore', 'ex', 'army', 'eho', 'msi', 'moud', 'gwo', 'summative', 'maximization', 'concession', 'censored', 'rwf', 'coder', 'usya', '4ycp', 'essaycritic', 'linebacker', 'tug', 'edtech', 'timeline', 'penetration', 'inflight', 'mammogram', 'share', 'outstanding', 'highlighting', 'subnational', 'protocol', 'croplands', 'gml', 'naturalness', 'fast', 'deleted', 'tactile', 'medicinal', 'lsc', 'long', 'gaap', 'oscillation', 'refresh', 'clearing', 'fdcf', 'apache', 'brazilian', 'prescribing', 'crf', 'acj', 'duplex', 'diagnosticity', 'fourth', 'wolf', 'frank', 'wolfe', 'propagation', 'centaur', 'millisecond', 'irrigated', 'glad', 'earliness', 'diabetic', 'intended', 'fulfilment', 'gib', 'caa', 'biscuit', 'mrr', 'birrea', 'cdms', 'nonlinear', 'development', 'synthesis', 'tundra', 'funded', 'optimism', 'svt', 'prosthesis', 'elbe', 'partitionability', 'genus', 'creator', 'variety', 'loafing', 'tinder', 'subsequent', 'revisiting', 'imlp', 'lgbq', 'unreliable', 'datasheets', 'crci', 'sigwgan', 'sealing', 'diffusing', 'murder', 'amhs', 'filter', 'tutored', 'scribe', 'cras', 'junior', 'configurational', 'fictional', 'photon', 'gardening', 'gpa', 'empathbert', 'iti', 'worked', 'element', 'net', 'statue', 'licbt', 'offschor', 'cellular', 'tvr', 'fixed', 'copenhagen', '202in', 'bow', 'mincut', 'deduce', 'hazop', 'transactivity', 'deephullnet', 'foliage', 'wv', 'irol', 'ffmodel', 'fragility', 'feml', 'depth', 'vpiq', 'lexicographer', 'commission', 'oblique', 'ppci', 'counterterrorism', 'theorem', 'nar', 'occurrence', 'larger', 'forgery', 'empathetic', 'pervasive', 'hstanns', 'btyd', 'bwo', 'telling', 'cappadocia', 'formative', 'ifl', 'gamified', 'reaction', 'terminological', 'ppls', 'per', 'ehealth', 'connectome', 'inferring', 'overseas', 'msgls', 'iiroc', 'estimands', 'modification', 'airbox', 'checklist', 'riverfront', 'enablement', 'retirement', 'dependence', 'biking', 'spsm', 'uqaa', 'integrated', 'collocated', 'stratum', 'consistency', 'defensive', 'carers', 'pin', 'hashing', 'gratuitous', 'mlbp', 'drink', 'penalized', 'contracting', 'fcip', 'egypt', 'damaged', 'informant', 'interpretation', 'jewelry', 'recessionary', 'sectoral', 'coproduction', 'local', 'affinity', 'cortex', 'world', 'socio', 'antiquity', 'india', 'lgbm', 'misogyny', 'miror', 'miou', 'petri', 'imu', 'seismometers', 'ysmm', 'nondecreasing', 'personal', 'umcnn', 'epidemiology', 'optimal', 'circuit', 'sponsor', 'alcoholic', 'uea', 'hyperconnectivity', 'conditional', 'presidential', 'flint', 'weakly', 'pdf', 'dos', 'screener', 'overpass', 'qna', 'pop', 'imageboards', 'ecognition', 'guided', 'male', 'morphisms', 'bogw', 'glf', 'polar', 'topographic', 'royalty', 'rcs', 'seen', 'affect', 'exit', 'dmos', 'ogc', 'im', 'advertiser', 'driven', 'shiraz', 'furnace', 'exploration', 'cent', 'month', 'disruption', 'nbsp', 'obliged', 'partisan', 'simulated', 'teach', 'dialing', 'kendra', 'aquatic', 'circularity', 'blekinge', 'must', 'figuration', 'definition', 'shapelets', 'bearing', 'corporation', 'morey', 'misuse', '5x5', 'humanity', 'suspension', 'saglet', 'analytic', 'com', 'gcfcr', 'xgboost', 'dlc', 'instrument', 'smaepho', 'glove', 'selfit', 'ofhuman', 'transferability', 'bono', 'middleware', 'ssrn', 'learn', 'bit', 'bibliography', 'definite', 'dispatch', 'secretary', 'spanish', 'mismatch', 'parenting', 'thumb', 'tpack', 'unauthorized', 'fdic', 'biological', 'ogn', 'preserving', 'stressor', 'ega', 'eos', 'continuous', 'cip', 'dg', 'constructivist', 'ssd', 'senegalese', 'ihwap', 'differentiable', 'upstart', 'shopper', 'specificity', 'hungarian', 'automatic', 'word2vec', 'rgmd', 'tac', 'impoverished', 'pronominal', 'intraday', 'etr', 'keywords', 'orphanhood', 'compliers', 'creature', 'bgpr', 'postcranial', 'srgcnns', 'obtainable', 'subprime', 'participant', 'kemelized', 'eval', 'restriction', 'midwest', 'wn', 'seemingly', 'stimulation', 'theoretically', 'importance', 'adjective', 'number', '4d', 'quit', 'skimming', 'gbodss', 'iliac', 'coordinate', 'normativity', 'pcomponents', 'tayloractive', 'antonio', 'fantasy', 'wmsds', 'afsas', 'tee', 'flower', 'decaying', 'committed', 'construct', 'fluorescence', 'harmonic', 'bangladesh', 'redistributive', 'partypress', '6g', 'qml', 'indemnity', 'democrat', 'ended', 'early', 'prosody', 'may', 'rbd', 'diffraction', 'situ', 'cocoa', '000', 'relief', 'biased', 'victimisation', 'transformer', 'cartographic', 'uum', 'divergence', 'infrastructure', 'jhm', 'bandwidth', 'antipsychotic', 'sustained', 'ssms', 'insurer', 'dissertation', 'import', 'circumstance', 'sporadic', 'detectipv', 'lma', 'receiving', 'gpdh', 'pnfa', 'convention', 'downgrade', 'civ', 'decoder', 'generator', 'smallholder', 'mvii', 'forrest', 'exporting', 'irfs', 'nearlyshort', 'gaussian', 'descriptor', 'revolver', 'intake', 'chimpanzee', 'orae', 'formalize', 'aleks', 'budget', 'psychophysical', 'preferred', 'supervisory', 'rema', 'catcher', 'invisibility', 'hongze', 'people', 'esn', 'rar', 'enso', 'pulpit', 'ipf', 'crediting', 'subtask', 'conjunction', 'transductive', 'doctor', 'monograph', 'brine', 'ray', 'telic', 'qualia', 'cpti', 'quiet', 'indicated', 'dengue', 'rush', 'icas', 'colab', 'nighttime', 'plotting', 'companionship', 'ldd', 'ols', 'sps', 'multiplex', 'authentic', 'neuter', 'semitic', 'foi', 'shuttle', 'verge', 'icn', 'tangible', 'aoj', 'zagreb', 'agentbased', 'noisy', 'efficacy', 'uspalcv1', 'see', 'microblogging', 'hawkishness', 'formula', 'administrator', 'dissemination', 'bubalus', 'curation', 'prd', 'exited', 'legend', 'swisscheese', 'cooking', 'elliptic', 'north', 'lithologic', 'vietnamese', 'transdisciplinary', 'emotive', 'spline', 'structure', 'weibo', 'expertise', 'mirm', 'mglca', 'efi', 'ter', 'lgsvm', 'gsvm', 'combinatorial', 'predictive', 'reh', 'technique', 'initial', 'scid', 'parsing', 'cda', 'ijchm', 'transducer', 'pound', 'miqps', 'miqp', 'formality', 'permutation', 'unsafe', 'want', 'cooling', 'decoy', 'distributionally', 'mask', 'ff', 'benefit', 'astrophysics', 'checked', 'gentt', 'icf', 'ndsm', 'ppmi', 'phd', 'mtve', 'crowed', 'fods', 'policymaking', 'young', 'lwp', 'pest', 'bart', 'metasemantic', 'annotated', 'possession', 'aligned', 'paid', 'germany', 'encounter', 'elsi', 'dhts', 'waggle', 'trans', 'rand', 'dynamic', 'interfering', 'syphilis', 'triad', 'overload', 'rcas', 'duration', 'masking', 'xrai', 'sociophonetic', 'icd', 'fcnn', 'corona', 'ocs', 'tdi', 'nationalist', 'proposal', 'trump', 'aleatoric', 'lithuania', 'sgpcm', 'saint', 'elman', '200', 'cvars', 'hoping', 'transdiagnostic', 'nle', 'brick', 'abandoned', 'ultrasonic', 'deferred', 'recognizer', 'prokofiev', 'quizzing', 'initio', 'multielement', 'southern', 'csvs', 'depreciation', 'ite', 'fedrec', 'lying', 'ml4hmt', 'tangping', 'lalm', 'zacharia', 'escalation', 'mdlchunker', 'hca', 'residue', 'cigarette', 'nwrt', 'vns', 'mec', 'rue', 'macroscopic', 'addie', 'sdis', 'geosud', 'fmi', 'paddy', 'tcr', 'stream', 'gsa', 'variation', 'mango', 'obi', 'dabai', 'notion', 'lca', 'mfa', 'rated', 'playmeans', 'tactic', 'vhr', 'virumaa', 'utilitarian', 'understanding', 'pro', 'arab', 'partnership', 'mitigated', 'modtpda', 'stormsim', 'verbal', 'sanaphor', 'coref', '2sls', 'pisa', 'mca', 'ia', '120', 'transphobia', 'tokenizer', 'visitation', 'contribution', 'acquisition', 'pragmatic', 'pic', 'laundry', 'monopsony', 'factorized', 'president', 'hypercube', 'popular', 'artifact', 'owner', 'upiu', 'fluke', 'dems', 'providing', 'eies', 'wheel', 'molecular', 'mlda', 'secured', 'cdt', 'legislator', 'supraliminal', 'encyclopedia', 'safer', 'warangal', 'length', 'autoregressive', 'ffm', 'ahp', 'pass', 'creating', 'sky', 'parcoure', 'kif', 'groupwise', 'coursework', 'invited', 'copy', 'gtvps', 'endangering', 'recursive', 'postpartum', 'weblogs', 'pronunciation', 'numerator', 'deduction', 'blp', 'mlms', 'tandem', 'chronology', 'bibliometric', 'official', 'asa', 'laden', 'sharia', 'mating', 'agroforestry', 'hokkaido', 'introduction', '1765', 'j48', 'actuarial', 'vus', 'unexpected', 'gram', 'empty', 'lap', 'deceased', 'everywhere', 'sibdq', 'anns', 'methylation', 'america', 'pleasure', 'almps', 'amrs', 'musicology', 'ethnomusicology', 'forecasted', 'fcs', 'blind', 'inexplicability', 'metaphysics', 'infeasibility', 'predopt', 'hec', 'extreme', 'sonic', 'ct1', 'cite', 'specific', 'p1wordnet', 'supporter', 'multibaseline', 'yulin', 'icrisat', 'moran', 'posterior', 'cpbl', 'boston', 'bowl', 'scalia', 'rehnquist', 'versus', 'pinterest', 'sdr', 'headset', 'imitation', 'receptive', 'silcrete', 'mcdi', 'rann', 'mbann', 'ghns', 'paraguayan', 'repetitious', 'congressional', 'scanning', 'partial', 'intrapreneurship', 'gate', 'external', 'plug', 'goodwill', 'pipe', 'danger', 't2dm', 'cdps', 'crt', 'finger', 'incoterm', 'plausibility', 'wisdom', 'insecure', 'nonconformity', 'explaining', 'multinomial', 'indivisible', 'intensification', 'vanishing', 'incidence', 'ankeny', 'appreciation', 'dart', 'ffrs', 'expected', 'istanbul', 'drafter', 'myanmar', 'incompleteness', '2001', 'analog', 'factivity', 'actual', 'foreclosure', 'tick', 'assisted', 'greece', 'thrive', 'disrupting', 'normative', 'back', 'sold', 'longitude', 'linearity', 'mtc', 'pac', 'dry', 'deterioration', 'literature', 'indonesian', 'adulthood', 'cdm', 'networked', 'qos', 'professionalisation', 'maker', 'institution', 'gpen', 'camhs', 'sluice', 'portal', 'prisma', 'cascaded', 'wechat', 'theorizing', 'hollow', 'para', 'jeollanam', 'nonsuicidal', 'print', 'disclose', 'merge', 'loocv', 'wheeled', 'bookmaker', 'access', 'half', 'siconv', 'unemployed', 'predictability', 'photogrammetry', 'innocence', 'en', 'wild', 'axial', 'win', 'oz', 'linearly', 'final', 'infarct', 'maternal', 'clothes', 'corresponding', 'leipzig', 'overdoses', 'pacific', 'marcell', 'phylogeographic', 'otci', 'asia', 'deontological', 'sulfide', 'crest', 'financially', 'anaphor', 'informatics', 'uncharacteristic', 'distaste', 'enms', 'familywise', 'emplotment', 'supplement', 'permanent', 'ada', 'condorcet', 'inactive', 'extended', 'nonpatenting', 'xml', 'fn', 'irs', 'enmap', 'iconic', 'regularized', 'posting', 'prefrontal', 'pov', 'regbr', 'cry', 'boy', 'motivated', 'corp', 'nonstate', 'turkiyes', 'campaigning', 'overfitting', 'directive', 'eligible', 'consonant', 'intra', 'spyce', 'unmatched', 'real', 'edited', 'deepbedmap', 'metropolitan', 'blank', 'risktaking', 'geodesic', 'tre', 'slider', 'etruria', 'pernambuco', 'mo', 'identification', 'openstreetmap', 'disfress', 'mixed', 'spend', 'innovative', 'trse', 'eudaimonic', 'coefficient', 'mnh', 'gdt', 'inconsistent', 'cunat', 'blast', 'ibero', 'merchant', 'representational', 'hemo', 'officeholder', 'introversion', 'finch', 'zebra', 'apparatus', 'faked', 'cbdsms', 'hdm', 'lossless', 'partition', 'deletion', 'lrasr', 'positioning', 'spc', 'abadie', 'burnt', 'pdps', 'dabus', 'bantu', 'covariates', 'spanning', 'intangible', 'reanalysis', 'anticorruption', 'woa', 'meridian', 'dere', 'lucas', 'noda', 'multi', 'returned', 'deficit', 'isf', 'mhealth', 'vik', 'phuket', 'faulty', 'helicopter', 'subfield', 'scv', 'kof', 'agentive', 'oriented', 'distinctiveness', 'geographer', 'praxis', 'performing', 'embodiment', 'zanjillas', 'left', 'graphical', 'hacking', 'feminism', 'impact', 'phoneme', 'remark', 'agi', 'icp', 'iqa', 'morfessor', 'poststratification', 'idempotent', 'glottograms', 'mif', 'registered', 'angel', 'bankrupt', 'boreal', 'responsivity', 'footballer', 'coactivation', 'gsr', 'passage', 'fcb', 'inspector', 'love', 'therapeutic', 'selfie', 'sfda', 'g010', 'ficsa', 'psco', 'lineup', 'futsal', 'small', 'learning', 'ssarlm', 'virtualassets', 'suturing', 'banding', 'flyway', 'elliptical', 'gasoline', 'aristotle', 'egocentric', 'spatialization', 'glms', 'knodle', 'lsvm', 'frbp', 'verde', 'shoulder', 'central', 'cwc', 'lottery', 'fku', 'sra', 'nbeatsx', 'nbeats', 'smbs', 'induction', 'arabia', 'uae', 'malfunction', 'unsupervised', 'ideators', 'circle', 'tsharp', 'visuals', 'outfit', 'employer', 'sectional', 'fod', 'knorf', 'crocodile', 'debiasing', 'contextualist', 'bandit', 'use', 'relaxation', 'imperfection', 'certification', 'scanned', 'ketamine', 'soybean', 'ebikes', 'ireland', 'outdated', 'mnf', 'unrestricted', 'ug', 'signed', 'tall', 'fscm', 'guideline', 'meteor', 'simple', 'digitalisation', 'ipas', 'gm', 'vgt', 'millennial', 'rul', 'viewing', 'salmonella', 'aeronet', 'nnetar', 'coraal', 'reservation', 'nonuniform', 'mismeasured', 'pck', 'sits', 'demander', 'nevs', 'discriminatory', 'sae', 'technically', 'analytical', 'bureau', 'representativeness', 'fcu', 'cna', 'gfc', '2256', 'mega', 'balance', 'sino', 'discus', 'submodularity', 'magazine', 'hillslope', 'cshs', 'aggressiveness', 'urbanization', 'nested', 'saw', 'queuing', 'miss', 'mtl', 'planetary', 'different', 'ibe', 'permissionless', 'meris', 'rcnn', 'informational', 'ancillaries', 'scf', 'qe', 'dhaka', 'iid', 'approach', 'composite', 'prism', 'arable', 'paragraph', 'nd', 'violin', 'affordable', 'hnns', 'pitcher', 'mtr', 'fa', 'moev', 'servant', 'medal', 'prescription', 'interpersonal', 'ecvs', 'marriage', 'checkpoint', 'urn', 'micogo', 'staying', 'mltk01', 'opso', 'analects', 'constructionist', 'cvar', 'radicalism', 'mptrs', 'predicate', 'countercyclical', 'wfh', 'beck', 'fluid', 'geographically', 'mpds', '200is', 'inaa', 'mrdma', 'altruistic', 'broadcasting', 'problematization', 'tlref', 'farid', 'dressel', 'bundle', 'livestreaming', 'eurozone', 'summarizers', 'generic', 'bad', 'biodiversity', 'bureaucracy', 'javascript', 'proximity', 'mediated', 'ba', 'nowcasts', 'rhetoric', 'graphsage', 'svmdrc', 'ticc', 'attainment', 'owe', 'rls', 'raftery', 'infodemic', '01', 'intensive', 'dsnn', 'ala', 'actualistic', 'externalist', 'structured', 'soundness', 'incorporation', 'gonito', 'meal', 'momentary', 'gradient', 'fpa', 'lithic', 'costing', 'sip', 'tmar', 'uip', 'biosynthetic', 'gin', 'rummy', 'est', 'blockade', 'denominator', 'uhsr', 'univariate', 'bgp', 'dfl', 'hcc', 'inertial', 'coordination', 'desired', 'theorist', 'mbtp', 'application', 'refined', 'ebps', 'random', 'atm', 'girl', 'syndicate', 'poadv', 'republican', 'plane', 'babyface', 'babyfaced', 'potato', 'iran', 'ssae', 'richly', 'ddpg', 'carpenter', 'ct2', 'disciplinary', 'tilde', 'neurorehabilitation', 'branch', 'replay', 'sorghum', 'dissipation', 'part', '010', 'hin', 'exponential', 'abet', 'betrayal', 'smartwatch', 'ptt', 'fraudsters', 'publish', 'hypergraphs', 'comparison', 'emhmm', 'critical', 'dch', 'theoretic', 'vepnet', 'chwsupervisor', 'well', 'tailed', 'ofs', 'nonmarket', 'trigger', 'psvm', 'vrus', 'quantization', 'stick', 'quantcrit', 'pvt', 'cerebrovascular', '96', 'geometric', 'duloxetine', 'reciter', 'suspended', 'tabouid', 'plaintiff', 'successor', 'grained', 'wmsd', 'primary', 'nonstationary', 'maltreatment', 'naive', 'harvested', 'hyperparameter', 'sampled', 'tfs', 'turkey', 'convective', 'focused', 'metacontrol', 'uzbek', 'report', 'cow', 'specimen', 'cadastre', 'smartele', 'auto', 'teenager', 'meltwater', 'supraglacial', 'frontier', 'shneidman', 'edwin', 'commitment', 'universitat', 'jaume', 'hedgerow', 'lay', 'activeness', 'magnum', 'foramen', 'utilizes', 'organized', 'whether', 'lip', 'reparation', 'aralkum', 'observation', 'wifi', 'latvian', 'brazil', 'planetscope', 'insured', 'vta', 'time', 'recommended', 'fe', 'capstone', 'capm', 'minrem', 'ohcs', 'mm', 'notss', 'calligraphy', 'calligraphic', 'rfr', 'carnival', 'interventional', 'sad', 'connectionist', 'duty', 'zstci', 'whitelists', 'vip', 'os', 'hfa', 'accuracycompetition', 'systematic', 'gorithm', 'parcellation', 'unethical', '64', 'detected', 'consultancy', 'cuneiml', 'lnf', 'arais', 'swimming', 'gscso', 'unreal', 'alb', 'diversified', 'replanning', 'peg', 'fasb', 'burden', 'daily', 'reinforced', 'sat', 'relationality', 'chi', 'total', 'related', 'sdgsat', 'promotability', 'fallacy', 'cardinality', 'smpc', 'couponing', 'writeprint', 'tgmd', 'secrecy', 'perf', 'killing', 'kb', 'cfcm', 'fluctuation', 'publicity', 'tfsc', 'gcns', 'newsvendor', 'charred', 'rw', 'tpj', 'penh', 'phnom', 'stf', '500', 'sized', 'ambiguous', 'sitl', 'swiss', 'ivm', 'personalised', 'industry4', 'beehive', 'beekeeper', 'arc', 'elementary', 'ceels', 'cofea', 'quota', 'sparql', 'ability', 'reciprocity', 'pater', 'tscs', 'carrot', 'trm', 'phc', 'nutritional', 'critique', 'metop', 'fles', 'eta', 'biochemicals', 'monolingual', 'recan', 'fraction', 'salesforce', 'peri', 'sdtf', 'relator', 'ambidexterity', 'extremum', 'cyclic', 'standardize', 'extinct', 'toyota', 'winning', 'behaviourism', 'mogao', 'waterway', 'manufacturer', 'nonintuitive', 'dtc', 'pam', 'raise', 'asvspoof', 'malt', 'resemblance', 'fauci', 'campground', 'campsite', 'pantone', 'polarized', 'bulgarian', 'mog', 'modified', 'varazdin', 'osijek', 'cse', 'bcva', 'dme', 'cobalt', 'hmdl', 'rolloff', 'spoonbill', 'eicam', 'disadvantage', 'beginning', 'agri', 'fmas', 'future', 'hierachical', 'sumida', 'rape', 'kick', 'loopnet', 'lwir', 'expended', 'union', 'cmd', 'aboveground', 'surgeon', 'sociotechnical', 'sbr', 'phonetically', 'randomized', 'graduated', 'composition', 'ln', 'london', 'superintelligence', 'fragment', 'ati', 'intelligible', 'miidaps', 'observable', 'period', 'treebanked', 'factory', 'yeb', 'concert', 'raw', 'sensing', 'prms', 'aided', 'xxxiii', 'aesla', 'revised', 'ridge', 'bipolar', 'remitters', 'rulemaking', 'bat', 'svmdi', 'according', 'colony', 'assertion', 'global', 'three', 'shakespeare', 'conflation', 'undergraduate', 'emop', 'dissonance', '99', 'freshwater', 'experimental', 'appropriateness', 'agreement', 'cmr', 'lookup', 'cepstral', 'tap', 'extractor', 'prosail', 'huawei', 'learningml', 'mlaas', 'activethief', 'unbanked', 'raspberry', 'obtained', 'happening', 'emvc', 'lawmaker', 'mesa', 'delaware', 'opinative', 'canadian', 'culturally', 'c5', 'ponzo', 'ntms', 'endogenous', 'hrf', 'distort', 'mturk', 'fitness', 'pnn', 'icesat', 'robustness', 'bracket', 'automotive', 'phenomenology', 'scientist', 'sell', 'ukraine', 'plaza', 'determination', 'burlan', 'psychopathy', 'upper', 'readingrites', 'hypermodern', 'refactoring', 'swyping', 'significance', 'condition', 'mgac', 'continent', 'hrnn', 'contingency', 'falff', 'coursera', 'hdrs', 'superstition', 'general', 'recognizers', 'mit', 'transformational', 'acculturative', 'keeper', 'keepaway', 'robocup', 'heidl', 'developer', 'testimonial', 'euclidean', 'downstream', 'lccm', 'adaboost', '2100', 'vague', 'financed', 'lcu', 'bullish', 'thirteen', 'nbm', 'recipient', 'computer', 'rics', 'uavs', 'biodata', 'mia', 'remote', 'extension', 'intelli', 'hi', 'frcs', 'softmax', 'remanufacturing', 'apple', 'center', 'analysis', 'estimation', 'indexed', 'op', 'tds', 'trudeau', 'eac', 't1d', 'rigid', 'highway', 'amendment', 'pledge', 'dependent', 'triangle', 'splitting', 'samsung', 'individualized', 'physiographic', 'dovlatovs', 'histology', 'openeo', 'uptime', 'jitter', 'beautification', 'aabl', 'conv1d', 'cw', 'plain', 'bronchial', 'frequency', 'bituminous', 'bully', 'ssig', 'transitivity', 'nonwhites', 'realizability', 'ghana', 'streetnav', 'r2s', 'auditable', 'nofr', 'concurrence', 'fsqca', 'dft', 'glimpse', 'smileycluster', 'predisposition', 'eucalyptus', 'merchandising', 'axiomatic', 'ephemerality', 'llgc', 'irrs', 'alaska', 'origination', 'amputee', 'contes', 'release', 'cgo', 'adequate', 'granger', 'pretrial', 'pathological', 'key', 'courtroom', 'pf', 'kelm', 'directed', 'chapter', '2040', 'mozambique', 'anisotropy', 'commune', 'rf', 'robbery', 'topk', 'lia', 'mp2', 'nonexperts', 'mturkers', 'banquette', 'detectron2', 'permit', 'gauge', 'rigging', 'original', 'stopwords', 'synaesthetes', 'synaesthetic', 'minimization', 'semi', 'preemptive', 'thresholding', 'blr', 'controlled', 'citespace', 'pessimistic', 'ganga', 'consolidation', 'sttn', 'circsim', 'densenet', 'license', 'sovi', 'mlgt', 'delphi', 'row', 'drop', 'linearization', 'decentralised', 'jmlc', 'dcgs', 'imperial', 'unphotographed', 'signalized', 'friendliness', 'fcms', 'orf', 'write', 'photoperiod', 'astronomy', 'deepperson', 'wale', 'speciation', 'balanced', 'poetic', 'esp', 'agff', 'dre', 'set', 'mechatronic', 'smileydiscovery', 'ol', 'ardl', 'jdi', 'mood', 'multivariable', 'slcw', 'go', 'anomalous', 'semio', 'rpart', 'pubic', 'posed', 'bri', 'multiband', 'gmnn', 'quantiles', 'tmt', 'sagemaker', 'vgg', 'uf', 'poeme', 'stis', 'alberta', 'extrapolated', 'jtd', 'ljp', 'portable', 'iat', 'residence', 'brickwork', 'voluntarily', 'dsp', 'billion', 'codebook', 'bacterial', 'leftist', 'epi', 'hohfeldian', 'inpatient', 'carpentry', 'faltering', 'masculine', 'lingam', 'tfidf', 'interdependency', 'knee', 'jaguar', 'summer', 'geophysical', 'non', 'purging', 'gpus', 's1', 'faience', 'lusitanian', 'matter', 'unet', 'nytimes', 'kranzbergs', 'improvement', 'hidden', 'ilr', 'curvature', 'bard', 'moocls', 'investigator', 'dakota', 'encountered', 'gbc', 'centralization', 'aluminium', 'validate', 'gyroscope', 'ideator', 'smooth', 'fluoxetine', 'embodied', 'harami', 'psc', 'umbrella', 'nina', 'picture', 'fdea', '661', 'fasttext', 'monotonic', 'steady', 'glucose', 'aeronautics', 'cid', 'fish', 'william', 'temperamental', 'strs', 'lightweight', 'pathfinding', 'unsatisfied', 'circumplex', 'hsu', 'arrangement', 'tem', 'wab', 'informative', 'cusboost', '1k', 'err', 'ordinary', 'work', 'deal', 'soep', 'croatia', 'figural', 'ponding', 'airtime', 'mdps', 'awi', 'disputed', 'snr', 'pcr', 'caretaker', 'messenger', 'hba1c', 'gpm', 'appeared', 'imbens', 'dispatching', 'gmb', 'spearman', 'umla', 'centered', 'declaration', 'arnold', 'past', 'affix', 'tendency', 'kcv', 'washing', 'osces', 'pulp', 'gidget', 'gidgetml', 'resembling', 'shyness', 'biogeomorphological', 'invasive', 'mountainousness', 'uncalibrated', 'jel', 'altitude', 'ddp', 'letgrade', 'chalcolithic', 'caselaw', 'peerness', 'podracer', 'metis', '2minutes', 'logarithmic', 'con', 'advantageously', 'undesirable', 'delineation', 'rolling', 'indonesia', 'roadmap', 'obcs', 'varying', 'disrl', 'salinization', 'feef', 'nino', 'flowdata', 'banzhaf', 'swap', 'polynya', 'akrotiri', 'mrf', 'saturation', 'backsliding', 'prospective', 'yelp', 'basic', 'awcf', 'itinerary', 'atlas', 'sttr', 'debiased', 'industrialization', 'moneycontrol', 'freezing', 'microcycle', 'ata', 'submodels', 'flas', 'chaotic', 'hebrew', 'frm', 'available', 'hydrological', 'belt', 'lue', 'clickstream', 'aat', 'kpca', 'dimensional', 'afd', 'deap', 'mogps', 'fetus', 'smf', 'limitation', 'ndcg', 'disentangled', 'expressing', 'arrest', 'fgc', 'smps', 'scada', 'overly', 'smb', 'admitted', 'modis', 'serving', 'producer', 'sparkling', 'contributor', 'range', 'politics', 'manhattan', 'tsc', 'deck', 'inducer', 'windowing', 'modern', 'receiver', 'know', 'eal', 'antarctic', 'fissuring', 'gw', 'civility', 'dog', 'indexical', 'abbreviation', 'learned', 'rup', 'captcha', 'affirmative', 'overrule', 'maxe', 'behaviourist', 'nox', 'augcog', 'epidemiological', 'involve', 'solve', 'mlpwr', 'cates', 'spare', 'macronutrient', 'globalist', 'eb', 'bma', 'bvftd', 'borda', 'livejournal', 'linguagrid', 'lraas', 'cpa', 'elasmobranch', 'delegitimizing', 'unincorporated', 'camping', 'unsuitable', 'hospitalized', 'satiety', 'principlism', 'tiruchirappalli', 'irc', 'extracting', 'carter', 'hci', 'scissors', 'sdlp', 'mfccs', 'bibliometrics', 'apm', 'generational', 'comprehensive', 'sbi', 'gearbox', 'laborative', 'disaggregate', 'bolt', '00', 'psychographic', 'jnep', 'scholar', 'pva', 'cern', 'extremism', 'cae', 'stronger', 'mill', 'model1', 'inhibitory', 'reminiscence', 'supervised', 'institute', 'littering', 'mathematic', 'palestine', 'fatal', 'conditioning', 'recovered', 'shared', 'og', 'corrective', 'metamodel', 'breeze', 'repeating', 'acl', 'responsive', 'mildew', 'powdery', 'gould', 'imath', 'lawyering', 'witness', 'disaggregated', 'longitudinal', 'multidimensional', 'ongoing', 'lim', 'reformation', 'rct', 'hcs', 'microwave', 'cross', 'tsia', 'correlation', 'aia', 'american', 'notbathy', 'bathy', 'ted', 'colombia', 'kid', 'ghgs', 'fold', 'msida', 'seu', 'afa', 'fungible', 'scad', 'hash', 'type', 'optimality', 'u1', 'u2', 'ritter', 'investable', 'demographical', 'interoperable', 'ihl', 'neurologist', 'biophony', 'geophony', 'folklore', 'olci', 'slow', 'perspective', 'reho', 'precise', 'svi', 'counting', 'synchrony', 'adivasi', 'phobia', 'wire', 'outperformance', 'upland', 'microgrid', 'programmed', 'influence', 'dsvdd', 'excerpt', 'microsoft', 'nash', 'ict4d', 'acca', 'signer', 'senator', '180', 'prioritizations', 'ilcs', 'scar', 'mlc', 'rediscover', 'snippet', 'autograders', 'ntee', 'presswhich', 'activation', 'appropriate', 'savry', 'assurance', 'pooled', 'reviewed', 'qual', 'transdisciplinarity', 'ttrnns', 'averted', 'carbonyl', 'contrasted', 'maladaptive', 'emd', 'fmz', 'compositionality', 'connectionism', 'abstractive', 'cprq', 'timen', 'confronting', 'smri', 'dji', 'fft', 'apparel', 'riesling', 'higher', 'clip', 'coh', 'metrix', 'gfbr', 'selective', 'bessel', 'rulesets', 'mindprint', 'denoising', 'bourgeois', 'liking', 'naked', 'objectivity', 'humming', 'madness', 'openface', 'pvb', 'ton', 'vrp', 'generalise', 'remapped', 'critiquing', 'interfirm', 'successful', 'experiment', 'abandoners', 'primacy', 'canada', 'anterior', 'partially', 'engaging', 'unobserved', 'uncase', 'carlo', 'monte', 'ptes', 'electrocardiogram', 'immanent', 'populated', 'mentorpal', 'vacant', 'tunneling', 'dynasty', 'tensorflow', 'notpetya', 'ngai', 'fluctuating', 'atcs', 'rsvp', 'microblogs', 'api', 'argue', 'hackathons', 'bea', 'advantage', 'dlt', 'cmms', 'nontarget', 'subsidizing', 'regularisation', 'harvester', 'pragmatism', 'font', 'cambridge', 'evolution', 'geolocation', 'dreamer', 'atdg', 'polychronicity', 'polychronic', 'monochronic', 'defence', 'pantomime', 'reconstractuions', 'archeaeologists', 'nru', 'faker', 'omcgs', 'eurosat', 'gar', 'invoicing', 'upon', 'ridicule', 'lethal', 'cbam', 'solvable', 'pretraining', 'multispectral', 'preclinical', 'summarizes', 'legacy', 'quantification', 'counseling', 'thawing', 'envelopment', 'toulouse', 'cueing', 'concealing', 'blackness', 'csi', 'intrinsically', 'latitude', 'upside', 'hyperheuristics', 'prognostication', 'rfi', 'cdas', 'european', 'corrupted', 'nnc', 'siting', 'rwe', 'lsmc', 'prehospital', 'supermarket', 'hbps', 'conventional', '450', 'dwell', 'detecting', 'jezero', 'initiative', 'misunderstanding', 'emoly', 'mmdbm', 'cram', 'bbsl', 'activism', 'edging', 'collusive', 'matric', 'light', '9th', 'unplanned', 'immunity', 'reassignment', 'express', 'igneous', 'cidi', 'unimodal', 'slang', 'swaptions', 'contractual', 'autoencoders', 'hydrologic', 'imperviousness', 'combat', 'recurring', 'frontostriatal', 'apptrans', 'messaging', 'ndr', 'em2i', 'orthophoto', 'framework', 'awa', 'pddbis', 'survive', 'bavaria', 'detached', 'phylogeny', 'epstein', 'hm', 'bamboo', 'brightness', 'desideratum', 'polling', 'dua', 'zhorai', 'average', 'ladder', 'securitisation', 'communicative', 'topolopy', 'cellphone', 'stri', 'catalog', 'prefecture', 'trustworthy', 'talasso', 'nonviolent', 'puma', 'mcdm', 'autonomic', 'mau', 'rail', 'amphora', '18th', 'wise', 'pointwise', 'alff', 'jaw', 'offs', 'multidisciplinary', 'israeli', 'cscl', 'arbitrariness', 'afrasian', 'disfluency', 'beer', 'multidimensionality', 'motive', 'streetlight', 'pax', 'ines', 'hunter', 'ntos', 'insurrection', 'absorption', 'tunisian', 'ub', 'victor', 'unify', 'socialist', 'djsi', 'awp', 'leveling', 'smfb', 'sssi', 'airborne', 'extensive', 'lgm', 'bending', 'orthoimagery', 'ryan', 'cir', 'ndsi', 'lci', 'inhibition', 'subpixel', 'van', 'shield', 'schoolers', 'inefficiency', 'consignee', 'helpful', 'paraphrased', 'grasp', 'low', 'lvar', 'overweight', 'accuracy', 'hyperlink', 'bear', 'pubmed', 'rrmse', 'esi', 'gba', 'smartness', 'wanting', 'installment', 'offspring', 'dei', 'evi2', 'cdi', 'buenos', 'hold', 'rc', 'tragic', 'realistic', 'vlogs', 'sortation', 'far', 'operating', 'gamble', 'assessor', 'renewable', 'sarima', 'singular', 'intercept', 'inception', 'second', 'pand', 'markov', 'dinsar', 'innovativeness', 'mmv', 'recall', '20agenda', 'pid', 'breaking', 'gpi', 'peacekeeper', 'macroeconomy', 'pitfall', 'digitized', 'replicability', 'eclipse', 'animus', 'cutting', 'transboundary', 'five', 'vsql', 'predicative', '5l', 'mlt', 'cet', 'tr', 'sarf', 'aaa', 'rso', 'top2vec', 'salt', 'wizmap', 'columbia', 'admiration', 'year', 'monocytogenes', 'wordythief', 'confidential', 'ne', 'snap25', 'theweb', 'freshman', 'discover', 'arbitrating', 'sdg11', 'practicein', 'towards', 'kunderas', 'janosik', 'juro', 'kundera', 'analgesic', 'relaxcor', 'kp', 'usin', 'submitted', 'deficiency', 'moving', 'inpoint', 'nngp', 'lwl', 'dwelt', 'specialintscript', 'sfa', 'cwsi', 'homogeneous', 'scorecard', 'possible', 'spei', 'pcas', 'rangeland', 'argamon', 'journalistic', 'enumerator', 'java', 'fscaret', 'discoidal', 'yen', 'materiality', 'aevaluation', 'congress', 'explorative', 'show', 'gkg', 'massive', 'graft', 'bunch', 'enet', 'gsf', 'casual', 'predicted', 'ngsas', 'nonalignment', 'clo', 'slm', 'epileptic', 'mirror', 'd2m', 'socioeconomic', 'molar', 'shafers', 'sisyphus', 'psychoanalytic', 'hungary', 'hepatitis', 'osaka', 'macrosyntactic', 'rhapsodie', 'popularity', 'df', 'srep', 'attended', 'navy', 'tremor', 'distributional', 'kinoautomat', 'mechatronics', 'uthealth', 'highly', 'clearance', 'lncrnas', 'dematel', 'treated', 'qp', 'liblinear', 'debugging', 'bogota', 'tasted', 'discursive', 'dpl', 'sentic', 'punch', 'sometimes', 'ljubljana', 'rephrasing', 'chokri', 'risky', 'specialisation', 'published', 'transversality', 'posthumanities', 'oolitic', 'bgci', 'xg', 'ahis', 'qcnn', 'qcnns', 'photomodeling', 'meg', 'throughs', 'vatl', 'late', 'associate', 'recollection', 'iterated', 'bigru', 'catering', 'foucauldian', 'excitement', 'transitory', 'cn', 'adls', 'larsen', 'sln', 'microcredit', 'nyt', 'intifada', 'cwfvc', 'thv', 'coupon', 'postulate', 'speculative', 'interindividual', 'rea', 'professor', 'embrace', 'midweight', 'phygital', 'csca', 'mre', 'sylvestris', 'serve', 'jellyfish', 'tbis', 'boa', 'smoker', 'nominally', '14', 'calling', 'legally', 'underrepresented', 'saharan', 'satisfiability', 'stod', 'gep', 'mumbai', 'decline', 'blunt', 'microlending', 'speps', 'svips', 'denoised', 'colder', 'freeway', 'beyond', 'cpih', 'virtuous', 'gsl', 'xgb', 'mcmc', 'reef', 'vanpooling', 'exhibition', 'conserving', 'conceptualization', 'mop', 'specify', 'continuity', 'socialmedia2traffic', 'randomness', 'payoff', 'gitops', 'eif', 'lasf', 'mediterranean', 'und', 'popularly', 'surveyed', 'repertory', 'davidson', 'feavf', 'qn', 'aevf', 'infusion', 'tram', 'backend', 'catastrophic', 'birth', '1990', 'subset', 'curator', 'targeted', 'ctree', 'trained', 'extractive', 'moralized', 'elicited', 'council', 'anal', 'qualitatively', 'firefighter', 'gbr', 'copatenting', 'noncopatenting', 'progressive', 'dream4', 'agglomeration', 'embodies', 'fsdm', 'delhi', 'overperforming', 'geval', 'led', 'switching', 'threatening', 'firozabad', 'agra', 'pragmatist', 'coarse', 'breach', 'biomedicine', 'guidance', 'ymr', 'decided', 'optimum', 'isl', 'autograder', 'sdi', 'doe', 'parallelized', 'geobia', 'kfda', 'socp', 'chronological', 'cited', 'phq', 'launch', 'mfn', 'aire', 'overstory', 'mapreduce', 'inform', 'junction', 'capsnet', 'embeddedness', 'ivol', 'smos', 'opposing', 'swim', 'multiperson', 'grape', 'sao', 'hip', 'mooclet', 'proper', 'laban', 'hexagonal', 'demography', 'iaq', 'omission', 'hmd', 'advance', 'correct', 'qcla', 'moth', 'mdrm', 'mcdrm', 'pspeller', 'proactive', 'consumed', 'binaural', 'ubinas', 'noca', 'fes', 'mediator', 'dataflow', 'bush', 'drinq', 'abq', 'cease', 'qnn', 'platoon', 'offering', 'microscopy', 'dgble', 'penalization', 'overconfident', 'cpcssn', 'format', 'otherness', 'prepositional', 'proficient', 'calculating', 'huge', 'localized', 'largerscale', 'sahel', 'bertopic', 'retinal', 'reinvestment', 'eskaya', 'transplant', 'rugby', 'atom', 'carrier', 'dsm', 'altered', 'agentic', 'multiple', 'eawp', 'sewing', 'ifad', 'unjust', 'webdom', 'hashtag', 'moved', 'denoting', 'immersive', 'subtasks', 'cbsiw', 'multivariate', 'webcam', 'dangerousness', 't5', 'bandclust', 'originating', 'crofusenet', 'malaysian', 'scandal', 'friendly', '1996', 'ssnmf', 'intensified', 'fifas', 'upcoming', 'billing', 'koem', 'seawater', 'psycholexical', 'monk', 'nexus', 'amount', 'memi', 'potentially', 'oslo', 'akkadian', 'protect', 'multilinear', 'thermogenetics', 'discriminant', 'continue', 'lendenclub', 'enough', 'characteristic', 'postal', 'purport', 'joint', 'unsdgs', 'agnostic', 'succeeds', 'profitable', 'restructure', 'nfp', 'elastic', 'un', 'prepandemic', 'learnerprints', 'cancel', 'geosocial', 'cointelation', 'uniform', 'discretized', 'ieq', 'xgbr', 'm4pl', 'dga', 'chest', 'cerl', 'metaphoremes', 'contemporaneous', 'qda', 'kind', 'esl', 'aws', 'med', 'ossc', '20', 'mhc', 'cela', 'xgbdart', 'fdds', 'enforcement', 'mqc', 'optimistic', 'neuroadaptive', 'pocket', 'rfdt', 'beige', 'winner', 'gauged', 'turbulence', 'rich', 'ipl', 'sysfor', 'dotaplus', 'robofoil', 'virtue', 'marketer', 'cpp', 'eit', 'synthetically', 'incoherence', 'mine', 'adsorption', 'casas', 'electrode', 'careful', 'partitioning', 'epdm', 'crawler']\n",
      "10499\n"
     ]
    }
   ],
   "source": [
    "# set the threshold, filter out the words with TF-IDF score less than the threshold\n",
    "threshold = 0.3\n",
    "# mean or max\n",
    "important_words = tfidf_df.max()[tfidf_df.max() > threshold].sort_values(ascending=False)\n",
    "print(f\"Number of important words: {len(important_words)}\")\n",
    "\n",
    "# get the list of important words without value\n",
    "important_words_list = important_words.index.tolist()\n",
    "print(important_words_list)\n",
    "print(len(important_words_list))"
   ]
  },
  {
   "cell_type": "code",
   "execution_count": 10,
   "metadata": {},
   "outputs": [],
   "source": [
    "df['Abstract lemmatized filtered'] = df['Abstract lemmatized'].apply(lambda x: [i for i in x if i in important_words])"
   ]
  },
  {
   "cell_type": "code",
   "execution_count": 11,
   "metadata": {},
   "outputs": [
    {
     "data": {
      "text/html": [
       "<div>\n",
       "<style scoped>\n",
       "    .dataframe tbody tr th:only-of-type {\n",
       "        vertical-align: middle;\n",
       "    }\n",
       "\n",
       "    .dataframe tbody tr th {\n",
       "        vertical-align: top;\n",
       "    }\n",
       "\n",
       "    .dataframe thead th {\n",
       "        text-align: right;\n",
       "    }\n",
       "</style>\n",
       "<table border=\"1\" class=\"dataframe\">\n",
       "  <thead>\n",
       "    <tr style=\"text-align: right;\">\n",
       "      <th></th>\n",
       "      <th>Abstract lemmatized filtered</th>\n",
       "      <th>Abstract lemmatized</th>\n",
       "    </tr>\n",
       "  </thead>\n",
       "  <tbody>\n",
       "    <tr>\n",
       "      <th>0</th>\n",
       "      <td>[online, banking, fraud, criminal, account, tr...</td>\n",
       "      <td>[online, banking, fraud, occurs, whenever, cri...</td>\n",
       "    </tr>\n",
       "  </tbody>\n",
       "</table>\n",
       "</div>"
      ],
      "text/plain": [
       "                        Abstract lemmatized filtered  \\\n",
       "0  [online, banking, fraud, criminal, account, tr...   \n",
       "\n",
       "                                 Abstract lemmatized  \n",
       "0  [online, banking, fraud, occurs, whenever, cri...  "
      ]
     },
     "execution_count": 11,
     "metadata": {},
     "output_type": "execute_result"
    }
   ],
   "source": [
    "df[['Abstract lemmatized filtered', 'Abstract lemmatized']].head(1)"
   ]
  },
  {
   "cell_type": "code",
   "execution_count": 12,
   "metadata": {},
   "outputs": [
    {
     "data": {
      "text/plain": [
       "77"
      ]
     },
     "execution_count": 12,
     "metadata": {},
     "output_type": "execute_result"
    }
   ],
   "source": [
    "len(df['Abstract lemmatized filtered'][0])"
   ]
  },
  {
   "cell_type": "code",
   "execution_count": 13,
   "metadata": {},
   "outputs": [
    {
     "data": {
      "text/plain": [
       "126"
      ]
     },
     "execution_count": 13,
     "metadata": {},
     "output_type": "execute_result"
    }
   ],
   "source": [
    "len(df['Abstract lemmatized'][0])"
   ]
  },
  {
   "cell_type": "code",
   "execution_count": 14,
   "metadata": {},
   "outputs": [
    {
     "data": {
      "text/plain": [
       "[('learning', 36711),\n",
       " ('model', 27580),\n",
       " ('data', 26001),\n",
       " ('method', 15373),\n",
       " ('approach', 11248),\n",
       " ('analysis', 10420),\n",
       " ('algorithm', 10299),\n",
       " ('research', 10257),\n",
       " ('artificial', 9251),\n",
       " ('system', 8449),\n",
       " ('intelligence', 8338),\n",
       " ('performance', 8134),\n",
       " ('use', 7982),\n",
       " ('network', 7894),\n",
       " ('feature', 7703),\n",
       " ('student', 7227),\n",
       " ('accuracy', 6801),\n",
       " ('prediction', 6777),\n",
       " ('technique', 6695),\n",
       " ('different', 6621),\n",
       " ('information', 6614),\n",
       " ('time', 6561),\n",
       " ('classification', 6055),\n",
       " ('support', 5671),\n",
       " ('show', 5606),\n",
       " ('two', 5592),\n",
       " ('decision', 5397),\n",
       " ('social', 5310),\n",
       " ('process', 5207),\n",
       " ('risk', 5097),\n",
       " ('area', 5078),\n",
       " ('neural', 4931),\n",
       " ('technology', 4873),\n",
       " ('factor', 4797),\n",
       " ('human', 4738),\n",
       " ('problem', 4684),\n",
       " ('application', 4620),\n",
       " ('forest', 4592),\n",
       " ('language', 4537),\n",
       " ('set', 4268),\n",
       " ('work', 4210),\n",
       " ('random', 4199),\n",
       " ('variable', 4189),\n",
       " ('well', 4105),\n",
       " ('task', 4048),\n",
       " ('effect', 3954),\n",
       " ('development', 3948),\n",
       " ('tool', 3831),\n",
       " ('value', 3824),\n",
       " ('term', 3712),\n",
       " ('regression', 3671),\n",
       " ('user', 3653),\n",
       " ('framework', 3620),\n",
       " ('text', 3555),\n",
       " ('training', 3546),\n",
       " ('knowledge', 3524),\n",
       " ('vector', 3523),\n",
       " ('three', 3502),\n",
       " ('article', 3443),\n",
       " ('sample', 3442),\n",
       " ('state', 3431),\n",
       " ('market', 3421),\n",
       " ('individual', 3381),\n",
       " ('related', 3358),\n",
       " ('impact', 3356),\n",
       " ('future', 3333),\n",
       " ('may', 3269),\n",
       " ('design', 3182),\n",
       " ('change', 3161),\n",
       " ('case', 3105),\n",
       " ('predictive', 3093),\n",
       " ('review', 3065),\n",
       " ('type', 3053),\n",
       " ('deep', 3030),\n",
       " ('image', 3014),\n",
       " ('test', 2974),\n",
       " ('measure', 2961),\n",
       " ('field', 2954),\n",
       " ('year', 2951),\n",
       " ('online', 2945),\n",
       " ('dataset', 2944),\n",
       " ('pattern', 2944),\n",
       " ('processing', 2909),\n",
       " ('quality', 2904),\n",
       " ('mean', 2874),\n",
       " ('medium', 2843),\n",
       " ('strategy', 2836),\n",
       " ('real', 2806),\n",
       " ('group', 2791),\n",
       " ('challenge', 2772),\n",
       " ('financial', 2731),\n",
       " ('error', 2710),\n",
       " ('number', 2710),\n",
       " ('methodology', 2689),\n",
       " ('literature', 2680),\n",
       " ('behavior', 2630),\n",
       " ('classifier', 2623),\n",
       " ('assessment', 2618),\n",
       " ('context', 2606),\n",
       " ('tree', 2579)]"
      ]
     },
     "execution_count": 14,
     "metadata": {},
     "output_type": "execute_result"
    }
   ],
   "source": [
    "# top 100 frequency words\n",
    "from collections import Counter\n",
    "\n",
    "word_freq = Counter([word for abstract in df['Abstract lemmatized filtered'] for word in abstract])\n",
    "top_100_words = word_freq.most_common(100)\n",
    "top_100_words"
   ]
  },
  {
   "cell_type": "code",
   "execution_count": 15,
   "metadata": {},
   "outputs": [],
   "source": [
    "# PAM topic model in python with TOMOTOPY]\n",
    "# https://bab2min.github.io/tomotopy/v0.4.1/en/#tomotopy.PAModel\n",
    "import tomotopy as tp\n",
    "\n",
    "# create a PAM model\n",
    "# hpam_model = tp.HPAModel(k1=1, k2=1, rm_top=10)\n",
    "# pam_model = tp.PAModel(k1=10, k2=n, rm_top=10)\n",
    "# lda_model = tp.LDAModel(k=n, rm_top=10)\n",
    "\n",
    "# add documents to the model\n",
    "# for doc in df['Abstract lemmatized filtered']:\n",
    "#     pam_model.add_doc(words=doc)\n",
    "\n",
    "# pam_model.train(100)\n",
    "# print(f\"Perplexity: {pam_model.perplexity}\")\n",
    "# print(f\"Coherence Score: {tp.coherence.Coherence(pam_model, coherence='c_v').get_score()}\")"
   ]
  },
  {
   "cell_type": "code",
   "execution_count": 45,
   "metadata": {},
   "outputs": [
    {
     "name": "stdout",
     "output_type": "stream",
     "text": [
      "k1: 3, k2: 10, Coherence Score: 0.6419883360465367\n",
      "k1: 3, k2: 20, Coherence Score: 0.5619897534449896\n",
      "k1: 3, k2: 30, Coherence Score: 0.5693170969684919\n",
      "k1: 3, k2: 40, Coherence Score: 0.6549325895806154\n",
      "k1: 3, k2: 60, Coherence Score: 0.4994863589604696\n",
      "k1: 3, k2: 80, Coherence Score: 0.6880812595287958\n",
      "k1: 5, k2: 10, Coherence Score: 0.6348259355127812\n",
      "k1: 5, k2: 20, Coherence Score: 0.7229863405926154\n",
      "k1: 5, k2: 30, Coherence Score: 0.684477332830429\n",
      "k1: 5, k2: 40, Coherence Score: 0.6127033445611596\n",
      "k1: 5, k2: 60, Coherence Score: 0.6168673080205918\n",
      "k1: 5, k2: 80, Coherence Score: 0.6384602048993109\n",
      "k1: 10, k2: 10, Coherence Score: 0.5980878348834813\n",
      "k1: 10, k2: 20, Coherence Score: 0.6201522500813006\n",
      "k1: 10, k2: 30, Coherence Score: 0.6369456820189953\n",
      "k1: 10, k2: 40, Coherence Score: 0.6555472469329835\n",
      "k1: 10, k2: 60, Coherence Score: 0.6399682956933975\n",
      "k1: 10, k2: 80, Coherence Score: 0.6668743439018726\n"
     ]
    }
   ],
   "source": [
    "# https://bab2min.github.io/tomotopy/v0.10.0/en/coherence.html\n",
    "\n",
    "score = {}\n",
    "for k1 in [3, 5, 10]:\n",
    "    for k2 in [10, 20, 30, 40, 60, 80]:\n",
    "        pam_model = tp.PAModel(k1=k1, k2=k2, rm_top=10)\n",
    "        for doc in df['Abstract lemmatized filtered']:\n",
    "            pam_model.add_doc(words=doc)\n",
    "        pam_model.train(100)\n",
    "        temp = tp.coherence.Coherence(pam_model, coherence='c_v').get_score()\n",
    "        if k1 not in score:\n",
    "            score[k1] = []       \n",
    "        score[k1].append(temp)\n",
    "        print(f\"k1: {k1}, k2: {k2}, Coherence Score: {temp}\")"
   ]
  },
  {
   "cell_type": "code",
   "execution_count": 46,
   "metadata": {},
   "outputs": [
    {
     "data": {
      "text/plain": [
       "{3: [0.6419883360465367,\n",
       "  0.5619897534449896,\n",
       "  0.5693170969684919,\n",
       "  0.6549325895806154,\n",
       "  0.4994863589604696,\n",
       "  0.6880812595287958],\n",
       " 5: [0.6348259355127812,\n",
       "  0.7229863405926154,\n",
       "  0.684477332830429,\n",
       "  0.6127033445611596,\n",
       "  0.6168673080205918,\n",
       "  0.6384602048993109],\n",
       " 10: [0.5980878348834813,\n",
       "  0.6201522500813006,\n",
       "  0.6369456820189953,\n",
       "  0.6555472469329835,\n",
       "  0.6399682956933975,\n",
       "  0.6668743439018726]}"
      ]
     },
     "execution_count": 46,
     "metadata": {},
     "output_type": "execute_result"
    }
   ],
   "source": [
    "score"
   ]
  },
  {
   "cell_type": "code",
   "execution_count": 47,
   "metadata": {},
   "outputs": [],
   "source": [
    "# round\n",
    "score[3] = [round(i, 2) for i in score[3]]\n",
    "score[5] = [round(i, 2) for i in score[5]]\n",
    "score[10] = [round(i, 2) for i in score[10]]"
   ]
  },
  {
   "cell_type": "code",
   "execution_count": 48,
   "metadata": {},
   "outputs": [
    {
     "data": {
      "text/plain": [
       "'/Users/ZOU/Desktop/code/visualize/coherence_score.html'"
      ]
     },
     "execution_count": 48,
     "metadata": {},
     "output_type": "execute_result"
    }
   ],
   "source": [
    "# draw a line plot to show the relationship between the number of topics and the coherence score\n",
    "from pyecharts import options as opts\n",
    "from pyecharts.charts import Line\n",
    "\n",
    "x = [10, 20, 30, 40, 60, 80]\n",
    "x = [str(i) for i in x]\n",
    "\n",
    "(\n",
    "    Line(init_opts=opts.InitOpts(width='1200px', height='600px'))\n",
    "    .set_global_opts(xaxis_opts=opts.AxisOpts(name=\"Number of Topics\"), \n",
    "                     yaxis_opts=opts.AxisOpts(name=\"Coherence Score\", min_=0.50, max_=0.80))\n",
    "    .add_xaxis(x)\n",
    "    .add_yaxis(\"k1=3\", score[3], markpoint_opts=opts.MarkPointOpts(data=[opts.MarkPointItem(type_=\"max\")]), is_smooth=True, is_symbol_show=False)\n",
    "    .add_yaxis(\"k1=5\", score[5], markpoint_opts=opts.MarkPointOpts(data=[opts.MarkPointItem(type_=\"max\")]), is_smooth=True, is_symbol_show=False)\n",
    "    .add_yaxis(\"k1=10\", score[10], markpoint_opts=opts.MarkPointOpts(data=[opts.MarkPointItem(type_=\"max\")]), is_smooth=True, is_symbol_show=False)\n",
    "    .render('visualize/coherence_score.html')\n",
    ")"
   ]
  },
  {
   "cell_type": "code",
   "execution_count": 77,
   "metadata": {},
   "outputs": [
    {
     "name": "stdout",
     "output_type": "stream",
     "text": [
      "Coherence Score: 0.726948709487915\n"
     ]
    }
   ],
   "source": [
    "pam_model = tp.PAModel(k1=5, k2=20, rm_top=10)\n",
    "for doc in df['Abstract lemmatized filtered']:\n",
    "    pam_model.add_doc(words=doc)\n",
    "pam_model.train(1000)   \n",
    "print(f\"Coherence Score: {tp.coherence.Coherence(pam_model, coherence='c_v').get_score()}\")"
   ]
  },
  {
   "cell_type": "code",
   "execution_count": 78,
   "metadata": {},
   "outputs": [],
   "source": [
    "pam_model.save('output/Topic/pam_model.bin', full=False)"
   ]
  },
  {
   "cell_type": "code",
   "execution_count": 79,
   "metadata": {},
   "outputs": [
    {
     "name": "stdout",
     "output_type": "stream",
     "text": [
      "Perplexity: 16898.636837366503\n"
     ]
    }
   ],
   "source": [
    "print(f\"Perplexity: {pam_model.perplexity}\")"
   ]
  },
  {
   "cell_type": "code",
   "execution_count": 89,
   "metadata": {},
   "outputs": [
    {
     "name": "stdout",
     "output_type": "stream",
     "text": [
      "['intelligence', 'technology', 'review', 'literature', 'digital', 'management', 'industry', 'field', 'business', 'future']\n",
      "['health', 'patient', 'treatment', 'clinical', 'child', 'risk', 'disorder', 'outcome', 'intervention', 'medical']\n",
      "['network', 'neural', 'deep', 'feature', 'classification', 'image', 'convolutional', 'training', 'performance', 'term']\n",
      "['customer', 'review', 'consumer', 'product', 'service', 'online', 'marketing', 'user', 'tourism', 'demand']\n",
      "['area', 'forest', 'image', 'land', 'spatial', 'resolution', 'map', 'remote', 'satellite', 'sensing']\n",
      "['emotion', 'speech', 'feature', 'human', 'video', 'emotional', 'recognition', 'facial', 'expression', 'visual']\n",
      "['brain', 'cognitive', 'eeg', 'activity', 'task', 'control', 'pattern', 'feature', 'functional', 'participant']\n",
      "['urban', 'spatial', 'city', 'area', 'use', 'land', 'environment', 'location', 'building', 'pattern']\n",
      "['user', 'process', 'design', 'application', 'use', 'tool', 'information', 'knowledge', 'human', 'time']\n",
      "['traffic', 'risk', 'time', 'crash', 'road', 'safety', 'driver', 'vehicle', 'event', 'prediction']\n",
      "['intelligence', 'human', 'decision', 'fairness', 'making', 'legal', 'bias', 'article', 'law', 'technology']\n",
      "['covid', '19', 'policy', 'country', 'economic', 'pandemic', 'energy', 'change', 'impact', 'climate']\n",
      "['random', 'support', 'forest', 'accuracy', 'prediction', 'vector', 'performance', 'feature', 'classification', 'regression']\n",
      "['risk', 'detection', 'crime', 'attack', 'security', 'fraud', 'suicide', 'privacy', 'technique', 'violence']\n",
      "['language', 'text', 'natural', 'processing', 'word', 'corpus', 'task', 'feature', 'classification', 'information']\n",
      "['student', 'education', 'course', 'educational', 'learner', 'school', 'teaching', 'teacher', 'university', 'assessment']\n",
      "['social', 'medium', 'sentiment', 'user', 'news', 'content', 'topic', 'tweet', 'twitter', 'political']\n",
      "['factor', 'personality', 'survey', 'individual', 'group', 'response', 'gender', 'item', 'variable', 'behavior']\n",
      "['market', 'financial', 'risk', 'forecasting', 'price', 'stock', 'forecast', 'firm', 'return', 'credit']\n",
      "['problem', 'show', 'effect', 'parameter', 'set', 'decision', 'estimate', 'function', 'optimization', 'two']\n"
     ]
    }
   ],
   "source": [
    "with open('output/Topic/pam_model.txt', 'w') as f:\n",
    "    for k2 in range(pam_model.k2):\n",
    "        # print(f\"Sub Topic #{k2}\")\n",
    "        words = pam_model.get_topic_words(k2, top_n=10)\n",
    "        words = [i[0] for i in words]\n",
    "        print(words)\n",
    "        f.write(f\"Sub Topic #{k2} : {words}\\n\")"
   ]
  },
  {
   "cell_type": "code",
   "execution_count": 81,
   "metadata": {},
   "outputs": [
    {
     "name": "stdout",
     "output_type": "stream",
     "text": [
      "<Basic Info>\n",
      "| PAModel (current version: 0.12.7)\n",
      "| 19515 docs, 1478621 words\n",
      "| Total Vocabs: 10499, Used Vocabs: 10489\n",
      "| Entropy of words: 7.52903\n",
      "| Entropy of term-weighted words: 7.52903\n",
      "| Removed Vocabs: learning model data method approach analysis algorithm research artificial system\n",
      "|\n",
      "<Training Info>\n",
      "| Iterations: 1000, Burn-in steps: 0\n",
      "| Optimization Interval: 1\n",
      "| Log-likelihood per word: -9.73499\n",
      "|\n",
      "<Initial Parameters>\n",
      "| tw: TermWeight.ONE\n",
      "| min_cf: 0 (minimum collection frequency of words)\n",
      "| min_df: 0 (minimum document frequency of words)\n",
      "| rm_top: 10 (the number of top words to be removed)\n",
      "| k1: 5 (the number of super topics between 1 ~ 32767)\n",
      "| k2: 20 (the number of sub topics between 1 ~ 32767)\n",
      "| alpha: [0.1] (initial hyperparameter of Dirichlet distribution for document-super topic, given as a single `float` in case of symmetric prior and as a list with length `k1` of `float` in case of asymmetric prior.)\n",
      "| subalpha: [0.1] (initial hyperparameter of Dirichlet distribution for super-sub topic, given as a single `float` in case of symmetric prior and as a list with length `k2` of `float` in case of asymmetric prior.)\n",
      "| eta: 0.01 (hyperparameter of Dirichlet distribution for sub topic-word)\n",
      "| seed: 2593250854 (random seed)\n",
      "| trained in version 0.12.7\n",
      "|\n",
      "<Parameters>\n",
      "| alpha (Dirichlet prior on the per-document super topic distributions)\n",
      "|  [0.1 0.1 0.1 0.1 0.1]\n",
      "| subalpha (Dirichlet prior on the sub topic distributions for each super topic)\n",
      "|  Super #0: [0.04904215 0.02721465 0.04696707 0.0231992  0.01988275 0.01821886\n",
      "|    0.0142797  0.01739927 0.05830922 0.01087968 0.03908466 0.03231468\n",
      "|    0.05667832 0.01375088 0.04632679 0.03416973 0.02501123 0.0367829\n",
      "|    0.03294337 0.06235074]\n",
      "|  Super #1: [0.05625967 0.02609191 0.03914032 0.02116199 0.01804575 0.02038584\n",
      "|    0.01557788 0.02022613 0.06296602 0.01545217 0.04504378 0.03292991\n",
      "|    0.05473769 0.01208835 0.04258218 0.03004965 0.02893758 0.03210865\n",
      "|    0.02968265 0.05392127]\n",
      "|  Super #2: [0.04681541 0.01656815 0.04675899 0.02107152 0.02517437 0.01570321\n",
      "|    0.01457519 0.02437924 0.04715341 0.01621334 0.04390536 0.03671136\n",
      "|    0.06595113 0.01464701 0.03238041 0.02791814 0.0222085  0.02675871\n",
      "|    0.04099127 0.0574793 ]\n",
      "|  Super #3: [0.05005432 0.02212944 0.04983492 0.01735855 0.02048674 0.01606175\n",
      "|    0.01831068 0.01829727 0.06343287 0.01333726 0.04271192 0.02834252\n",
      "|    0.04977992 0.01310114 0.05381713 0.02868783 0.02583325 0.02715937\n",
      "|    0.032234   0.04666064]\n",
      "|  Super #4: [0.04138675 0.02207086 0.04026715 0.0211518  0.01993657 0.01466661\n",
      "|    0.01619609 0.02285563 0.05753911 0.01730997 0.03409583 0.03150284\n",
      "|    0.05366519 0.0166014  0.04177306 0.0261258  0.02180547 0.02763207\n",
      "|    0.03586272 0.05832104]\n",
      "| eta (Dirichlet prior on the per-subtopic word distribution)\n",
      "|  0.01\n",
      "|\n",
      "<Topics>\n",
      "| Sub-topic distribution of Super-topics\n",
      "|  #Super0 (294551) : #19 #0 #14 #12 #8\n",
      "|  #Super1 (302892) : #0 #8 #19 #12 #14\n",
      "|  #Super2 (295772) : #12 #4 #18 #19 #0\n",
      "|  #Super3 (291157) : #14 #8 #0 #2 #12\n",
      "|  #Super4 (294249) : #19 #8 #12 #14 #18\n",
      "| Word distribution of Sub-topics\n",
      "|  #0 (107375) : intelligence technology review literature digital\n",
      "|  #1 (68655) : health patient treatment clinical child\n",
      "|  #2 (88015) : network neural deep feature classification\n",
      "|  #3 (49125) : customer review consumer product service\n",
      "|  #4 (94190) : area forest image land spatial\n",
      "|  #5 (35132) : emotion speech feature human video\n",
      "|  #6 (46327) : brain cognitive eeg activity task\n",
      "|  #7 (58585) : urban spatial city area use\n",
      "|  #8 (103490) : user process design application use\n",
      "|  #9 (35683) : traffic risk time crash road\n",
      "|  #10 (89766) : intelligence human decision fairness making\n",
      "|  #11 (65333) : covid 19 policy country economic\n",
      "|  #12 (104918) : random support forest accuracy prediction\n",
      "|  #13 (26406) : risk detection crime attack security\n",
      "|  #14 (102883) : language text natural processing word\n",
      "|  #15 (87758) : student education course educational learner\n",
      "|  #16 (60164) : social medium sentiment user news\n",
      "|  #17 (55432) : factor personality survey individual group\n",
      "|  #18 (92902) : market financial risk forecasting price\n",
      "|  #19 (106482) : problem show effect parameter set\n",
      "|\n",
      "\n"
     ]
    }
   ],
   "source": [
    "pam_model.summary()"
   ]
  },
  {
   "cell_type": "code",
   "execution_count": 103,
   "metadata": {},
   "outputs": [
    {
     "name": "stdout",
     "output_type": "stream",
     "text": [
      "[(19, 0.07883527874946594), (0, 0.07428934425115585), (14, 0.07196716219186783), (12, 0.07024933397769928), (8, 0.06904072314500809)]\n",
      "[(0, 0.08187738060951233), (8, 0.0737392008304596), (19, 0.06926894187927246), (12, 0.06720220297574997), (14, 0.06703048944473267)]\n",
      "[(12, 0.08173529803752899), (4, 0.07667384296655655), (18, 0.0706726610660553), (19, 0.07062199711799622), (0, 0.06738975644111633)]\n",
      "[(14, 0.08528045564889908), (8, 0.07650860399007797), (0, 0.07582851499319077), (2, 0.06666853278875351), (12, 0.06577897071838379)]\n",
      "[(19, 0.07868848741054535), (8, 0.07016510516405106), (12, 0.06981845200061798), (14, 0.0690605491399765), (18, 0.06587956100702286)]\n"
     ]
    }
   ],
   "source": [
    "for k1 in range(pam_model.k1):\n",
    "    print(pam_model.get_sub_topics(k1, top_n=5))"
   ]
  },
  {
   "cell_type": "code",
   "execution_count": 82,
   "metadata": {},
   "outputs": [],
   "source": [
    "# get the most likely topic for each document\n",
    "df['super topic'] = [max(doc.get_topics(), key=lambda x: x[1])[0] for doc in pam_model.docs]\n",
    "df['sub topic'] = [max(doc.get_sub_topics(), key=lambda x: x[1])[0] for doc in pam_model.docs]\n"
   ]
  },
  {
   "cell_type": "code",
   "execution_count": 83,
   "metadata": {},
   "outputs": [
    {
     "data": {
      "text/plain": [
       "1    4009\n",
       "0    3948\n",
       "2    3885\n",
       "3    3860\n",
       "4    3813\n",
       "Name: super topic, dtype: int64"
      ]
     },
     "execution_count": 83,
     "metadata": {},
     "output_type": "execute_result"
    }
   ],
   "source": [
    "df['super topic'].value_counts()"
   ]
  },
  {
   "cell_type": "code",
   "execution_count": 84,
   "metadata": {},
   "outputs": [
    {
     "data": {
      "text/plain": [
       "14    1678\n",
       "18    1569\n",
       "0     1478\n",
       "19    1412\n",
       "15    1402\n",
       "8     1376\n",
       "10    1350\n",
       "4     1129\n",
       "2      987\n",
       "12     968\n",
       "16     872\n",
       "1      791\n",
       "11     770\n",
       "7      751\n",
       "3      680\n",
       "6      598\n",
       "17     575\n",
       "5      430\n",
       "9      388\n",
       "13     311\n",
       "Name: sub topic, dtype: int64"
      ]
     },
     "execution_count": 84,
     "metadata": {},
     "output_type": "execute_result"
    }
   ],
   "source": [
    "df['sub topic'].value_counts()"
   ]
  },
  {
   "cell_type": "code",
   "execution_count": 85,
   "metadata": {},
   "outputs": [
    {
     "data": {
      "text/plain": [
       "super topic  sub topic\n",
       "0            14           343\n",
       "             18           325\n",
       "             0            324\n",
       "             19           308\n",
       "             15           307\n",
       "                         ... \n",
       "4            6            126\n",
       "             17           109\n",
       "             5             78\n",
       "             9             76\n",
       "             13            66\n",
       "Name: sub topic, Length: 100, dtype: int64"
      ]
     },
     "execution_count": 85,
     "metadata": {},
     "output_type": "execute_result"
    }
   ],
   "source": [
    "# get the value of sub topic group by super topic\n",
    "df.groupby('super topic')['sub topic'].value_counts()"
   ]
  },
  {
   "cell_type": "code",
   "execution_count": 86,
   "metadata": {},
   "outputs": [],
   "source": [
    "# draw a pie chart to show the distribution of sub topics with pyecharts\n",
    "from pyecharts.charts import Pie\n",
    "\n",
    "dist_sub_topic = df['sub topic'].value_counts().reset_index()\n",
    "dist_sub_topic.columns = ['sub topic', 'count']\n",
    "\n",
    "c = (\n",
    "    Pie()\n",
    "    .add(\"\", [list(z) for z in zip(dist_sub_topic['sub topic'], dist_sub_topic['count'])])\n",
    "#     .set_colors([\n",
    "#     '#FF9999',  # Light Red\n",
    "#     '#FFCC99',  # Light Orange\n",
    "#     '#FFFF99',  # Light Yellow\n",
    "#     '#CCFF99',  # Light Green\n",
    "#     '#99FF99',  # Light Mint\n",
    "#     '#99FFCC',  # Light Cyan\n",
    "#     '#99FFFF',  # Light Sky Blue\n",
    "#     '#99CCFF',  # Light Blue\n",
    "#     '#9999FF',  # Light Purple\n",
    "#     '#CC99FF'   # Light Lavender\n",
    "# ])\n",
    "    .set_global_opts(title_opts=opts.TitleOpts(title=\"Sub Topic Distribution\"))\n",
    "    .set_series_opts(label_opts=opts.LabelOpts(formatter=\"Sub Topic {b}: {c}\"))\n",
    "    .render(\"visualize/Sub_Topic_Distribution.html\")\n",
    ")"
   ]
  },
  {
   "cell_type": "code",
   "execution_count": 100,
   "metadata": {},
   "outputs": [],
   "source": [
    "import networkx as nx\n",
    "import nx2vos\n",
    "\n",
    "G = nx.Graph()\n",
    "for i in range(pam_model.k1):\n",
    "    for j in range(pam_model.k2):\n",
    "        G.add_node(f\"super {i}\")\n",
    "        # value is the total number of documents when super topic = i and sub topic = j \n",
    "        val = df[(df['super topic'] == i) & (df['sub topic'] == j)].shape[0]\n",
    "        G.add_edge(f\"super {i}\", f\"sub {j}\", weight=val**3)\n",
    "\n",
    "    # Save network files to json for VosViewer\n",
    "    nx2vos.write_vos_json(G, f'output/Topic/topics.json')"
   ]
  },
  {
   "cell_type": "code",
   "execution_count": 91,
   "metadata": {},
   "outputs": [],
   "source": [
    "# conduct Mann Kendall test\n",
    "# topic_prevalence is the number of documents in each topic divided by the total number of documents every year\n",
    "\n",
    "topic_prevalence = df.groupby(['Group', 'sub topic']).size().unstack().fillna(0).apply(lambda x: x/x.sum(), axis=1)"
   ]
  },
  {
   "cell_type": "code",
   "execution_count": 92,
   "metadata": {},
   "outputs": [
    {
     "data": {
      "text/html": [
       "<div>\n",
       "<style scoped>\n",
       "    .dataframe tbody tr th:only-of-type {\n",
       "        vertical-align: middle;\n",
       "    }\n",
       "\n",
       "    .dataframe tbody tr th {\n",
       "        vertical-align: top;\n",
       "    }\n",
       "\n",
       "    .dataframe thead th {\n",
       "        text-align: right;\n",
       "    }\n",
       "</style>\n",
       "<table border=\"1\" class=\"dataframe\">\n",
       "  <thead>\n",
       "    <tr style=\"text-align: right;\">\n",
       "      <th>sub topic</th>\n",
       "      <th>0</th>\n",
       "      <th>1</th>\n",
       "      <th>2</th>\n",
       "      <th>3</th>\n",
       "      <th>4</th>\n",
       "      <th>5</th>\n",
       "      <th>6</th>\n",
       "      <th>7</th>\n",
       "      <th>8</th>\n",
       "      <th>9</th>\n",
       "      <th>10</th>\n",
       "      <th>11</th>\n",
       "      <th>12</th>\n",
       "      <th>13</th>\n",
       "      <th>14</th>\n",
       "      <th>15</th>\n",
       "      <th>16</th>\n",
       "      <th>17</th>\n",
       "      <th>18</th>\n",
       "      <th>19</th>\n",
       "    </tr>\n",
       "    <tr>\n",
       "      <th>Group</th>\n",
       "      <th></th>\n",
       "      <th></th>\n",
       "      <th></th>\n",
       "      <th></th>\n",
       "      <th></th>\n",
       "      <th></th>\n",
       "      <th></th>\n",
       "      <th></th>\n",
       "      <th></th>\n",
       "      <th></th>\n",
       "      <th></th>\n",
       "      <th></th>\n",
       "      <th></th>\n",
       "      <th></th>\n",
       "      <th></th>\n",
       "      <th></th>\n",
       "      <th></th>\n",
       "      <th></th>\n",
       "      <th></th>\n",
       "      <th></th>\n",
       "    </tr>\n",
       "  </thead>\n",
       "  <tbody>\n",
       "    <tr>\n",
       "      <th>1</th>\n",
       "      <td>0.030249</td>\n",
       "      <td>0.012456</td>\n",
       "      <td>0.039146</td>\n",
       "      <td>0.017794</td>\n",
       "      <td>0.028470</td>\n",
       "      <td>0.035587</td>\n",
       "      <td>0.010676</td>\n",
       "      <td>0.001779</td>\n",
       "      <td>0.188612</td>\n",
       "      <td>0.003559</td>\n",
       "      <td>0.024911</td>\n",
       "      <td>0.000000</td>\n",
       "      <td>0.096085</td>\n",
       "      <td>0.010676</td>\n",
       "      <td>0.282918</td>\n",
       "      <td>0.049822</td>\n",
       "      <td>0.003559</td>\n",
       "      <td>0.007117</td>\n",
       "      <td>0.023132</td>\n",
       "      <td>0.133452</td>\n",
       "    </tr>\n",
       "    <tr>\n",
       "      <th>2</th>\n",
       "      <td>0.014599</td>\n",
       "      <td>0.017518</td>\n",
       "      <td>0.046715</td>\n",
       "      <td>0.026277</td>\n",
       "      <td>0.091971</td>\n",
       "      <td>0.029197</td>\n",
       "      <td>0.055474</td>\n",
       "      <td>0.020438</td>\n",
       "      <td>0.094891</td>\n",
       "      <td>0.017518</td>\n",
       "      <td>0.023358</td>\n",
       "      <td>0.005839</td>\n",
       "      <td>0.056934</td>\n",
       "      <td>0.007299</td>\n",
       "      <td>0.294891</td>\n",
       "      <td>0.059854</td>\n",
       "      <td>0.021898</td>\n",
       "      <td>0.005839</td>\n",
       "      <td>0.021898</td>\n",
       "      <td>0.087591</td>\n",
       "    </tr>\n",
       "    <tr>\n",
       "      <th>3</th>\n",
       "      <td>0.055693</td>\n",
       "      <td>0.035291</td>\n",
       "      <td>0.053488</td>\n",
       "      <td>0.027020</td>\n",
       "      <td>0.061208</td>\n",
       "      <td>0.029225</td>\n",
       "      <td>0.039702</td>\n",
       "      <td>0.032809</td>\n",
       "      <td>0.106148</td>\n",
       "      <td>0.015440</td>\n",
       "      <td>0.058726</td>\n",
       "      <td>0.022057</td>\n",
       "      <td>0.046319</td>\n",
       "      <td>0.017370</td>\n",
       "      <td>0.124897</td>\n",
       "      <td>0.090157</td>\n",
       "      <td>0.052661</td>\n",
       "      <td>0.019024</td>\n",
       "      <td>0.046595</td>\n",
       "      <td>0.066170</td>\n",
       "    </tr>\n",
       "    <tr>\n",
       "      <th>4</th>\n",
       "      <td>0.072854</td>\n",
       "      <td>0.036195</td>\n",
       "      <td>0.067285</td>\n",
       "      <td>0.039907</td>\n",
       "      <td>0.052900</td>\n",
       "      <td>0.018561</td>\n",
       "      <td>0.026450</td>\n",
       "      <td>0.036195</td>\n",
       "      <td>0.085847</td>\n",
       "      <td>0.021810</td>\n",
       "      <td>0.085847</td>\n",
       "      <td>0.029698</td>\n",
       "      <td>0.047332</td>\n",
       "      <td>0.013457</td>\n",
       "      <td>0.091879</td>\n",
       "      <td>0.070534</td>\n",
       "      <td>0.046404</td>\n",
       "      <td>0.022274</td>\n",
       "      <td>0.061717</td>\n",
       "      <td>0.072854</td>\n",
       "    </tr>\n",
       "    <tr>\n",
       "      <th>5</th>\n",
       "      <td>0.080172</td>\n",
       "      <td>0.037223</td>\n",
       "      <td>0.061203</td>\n",
       "      <td>0.037938</td>\n",
       "      <td>0.051539</td>\n",
       "      <td>0.022548</td>\n",
       "      <td>0.030064</td>\n",
       "      <td>0.034717</td>\n",
       "      <td>0.065140</td>\n",
       "      <td>0.018611</td>\n",
       "      <td>0.073014</td>\n",
       "      <td>0.041875</td>\n",
       "      <td>0.043665</td>\n",
       "      <td>0.018253</td>\n",
       "      <td>0.070150</td>\n",
       "      <td>0.078024</td>\n",
       "      <td>0.041875</td>\n",
       "      <td>0.027201</td>\n",
       "      <td>0.076235</td>\n",
       "      <td>0.090551</td>\n",
       "    </tr>\n",
       "    <tr>\n",
       "      <th>6</th>\n",
       "      <td>0.080477</td>\n",
       "      <td>0.046498</td>\n",
       "      <td>0.053055</td>\n",
       "      <td>0.032787</td>\n",
       "      <td>0.057824</td>\n",
       "      <td>0.020268</td>\n",
       "      <td>0.028912</td>\n",
       "      <td>0.037556</td>\n",
       "      <td>0.059016</td>\n",
       "      <td>0.020268</td>\n",
       "      <td>0.080775</td>\n",
       "      <td>0.047392</td>\n",
       "      <td>0.053055</td>\n",
       "      <td>0.018182</td>\n",
       "      <td>0.065872</td>\n",
       "      <td>0.065574</td>\n",
       "      <td>0.042921</td>\n",
       "      <td>0.037258</td>\n",
       "      <td>0.087332</td>\n",
       "      <td>0.064978</td>\n",
       "    </tr>\n",
       "    <tr>\n",
       "      <th>7</th>\n",
       "      <td>0.086921</td>\n",
       "      <td>0.048199</td>\n",
       "      <td>0.043596</td>\n",
       "      <td>0.039534</td>\n",
       "      <td>0.057677</td>\n",
       "      <td>0.017872</td>\n",
       "      <td>0.026537</td>\n",
       "      <td>0.046575</td>\n",
       "      <td>0.044138</td>\n",
       "      <td>0.024370</td>\n",
       "      <td>0.079069</td>\n",
       "      <td>0.051449</td>\n",
       "      <td>0.050636</td>\n",
       "      <td>0.015705</td>\n",
       "      <td>0.044679</td>\n",
       "      <td>0.063634</td>\n",
       "      <td>0.052803</td>\n",
       "      <td>0.037097</td>\n",
       "      <td>0.104522</td>\n",
       "      <td>0.064988</td>\n",
       "    </tr>\n",
       "    <tr>\n",
       "      <th>8</th>\n",
       "      <td>0.104766</td>\n",
       "      <td>0.048411</td>\n",
       "      <td>0.031770</td>\n",
       "      <td>0.040091</td>\n",
       "      <td>0.061649</td>\n",
       "      <td>0.017776</td>\n",
       "      <td>0.027988</td>\n",
       "      <td>0.054463</td>\n",
       "      <td>0.034796</td>\n",
       "      <td>0.023071</td>\n",
       "      <td>0.058623</td>\n",
       "      <td>0.059002</td>\n",
       "      <td>0.044629</td>\n",
       "      <td>0.014372</td>\n",
       "      <td>0.031770</td>\n",
       "      <td>0.068457</td>\n",
       "      <td>0.040847</td>\n",
       "      <td>0.042360</td>\n",
       "      <td>0.131241</td>\n",
       "      <td>0.063918</td>\n",
       "    </tr>\n",
       "  </tbody>\n",
       "</table>\n",
       "</div>"
      ],
      "text/plain": [
       "sub topic        0         1         2         3         4         5   \\\n",
       "Group                                                                   \n",
       "1          0.030249  0.012456  0.039146  0.017794  0.028470  0.035587   \n",
       "2          0.014599  0.017518  0.046715  0.026277  0.091971  0.029197   \n",
       "3          0.055693  0.035291  0.053488  0.027020  0.061208  0.029225   \n",
       "4          0.072854  0.036195  0.067285  0.039907  0.052900  0.018561   \n",
       "5          0.080172  0.037223  0.061203  0.037938  0.051539  0.022548   \n",
       "6          0.080477  0.046498  0.053055  0.032787  0.057824  0.020268   \n",
       "7          0.086921  0.048199  0.043596  0.039534  0.057677  0.017872   \n",
       "8          0.104766  0.048411  0.031770  0.040091  0.061649  0.017776   \n",
       "\n",
       "sub topic        6         7         8         9         10        11  \\\n",
       "Group                                                                   \n",
       "1          0.010676  0.001779  0.188612  0.003559  0.024911  0.000000   \n",
       "2          0.055474  0.020438  0.094891  0.017518  0.023358  0.005839   \n",
       "3          0.039702  0.032809  0.106148  0.015440  0.058726  0.022057   \n",
       "4          0.026450  0.036195  0.085847  0.021810  0.085847  0.029698   \n",
       "5          0.030064  0.034717  0.065140  0.018611  0.073014  0.041875   \n",
       "6          0.028912  0.037556  0.059016  0.020268  0.080775  0.047392   \n",
       "7          0.026537  0.046575  0.044138  0.024370  0.079069  0.051449   \n",
       "8          0.027988  0.054463  0.034796  0.023071  0.058623  0.059002   \n",
       "\n",
       "sub topic        12        13        14        15        16        17  \\\n",
       "Group                                                                   \n",
       "1          0.096085  0.010676  0.282918  0.049822  0.003559  0.007117   \n",
       "2          0.056934  0.007299  0.294891  0.059854  0.021898  0.005839   \n",
       "3          0.046319  0.017370  0.124897  0.090157  0.052661  0.019024   \n",
       "4          0.047332  0.013457  0.091879  0.070534  0.046404  0.022274   \n",
       "5          0.043665  0.018253  0.070150  0.078024  0.041875  0.027201   \n",
       "6          0.053055  0.018182  0.065872  0.065574  0.042921  0.037258   \n",
       "7          0.050636  0.015705  0.044679  0.063634  0.052803  0.037097   \n",
       "8          0.044629  0.014372  0.031770  0.068457  0.040847  0.042360   \n",
       "\n",
       "sub topic        18        19  \n",
       "Group                          \n",
       "1          0.023132  0.133452  \n",
       "2          0.021898  0.087591  \n",
       "3          0.046595  0.066170  \n",
       "4          0.061717  0.072854  \n",
       "5          0.076235  0.090551  \n",
       "6          0.087332  0.064978  \n",
       "7          0.104522  0.064988  \n",
       "8          0.131241  0.063918  "
      ]
     },
     "execution_count": 92,
     "metadata": {},
     "output_type": "execute_result"
    }
   ],
   "source": [
    "topic_prevalence"
   ]
  },
  {
   "cell_type": "code",
   "execution_count": 93,
   "metadata": {},
   "outputs": [
    {
     "data": {
      "text/html": [
       "<div>\n",
       "<style scoped>\n",
       "    .dataframe tbody tr th:only-of-type {\n",
       "        vertical-align: middle;\n",
       "    }\n",
       "\n",
       "    .dataframe tbody tr th {\n",
       "        vertical-align: top;\n",
       "    }\n",
       "\n",
       "    .dataframe thead th {\n",
       "        text-align: right;\n",
       "    }\n",
       "</style>\n",
       "<table border=\"1\" class=\"dataframe\">\n",
       "  <thead>\n",
       "    <tr style=\"text-align: right;\">\n",
       "      <th>sub topic</th>\n",
       "      <th>0</th>\n",
       "      <th>1</th>\n",
       "      <th>2</th>\n",
       "      <th>3</th>\n",
       "      <th>4</th>\n",
       "      <th>5</th>\n",
       "      <th>6</th>\n",
       "      <th>7</th>\n",
       "      <th>8</th>\n",
       "      <th>9</th>\n",
       "      <th>...</th>\n",
       "      <th>11</th>\n",
       "      <th>12</th>\n",
       "      <th>13</th>\n",
       "      <th>14</th>\n",
       "      <th>15</th>\n",
       "      <th>16</th>\n",
       "      <th>17</th>\n",
       "      <th>18</th>\n",
       "      <th>19</th>\n",
       "      <th>total</th>\n",
       "    </tr>\n",
       "    <tr>\n",
       "      <th>Group</th>\n",
       "      <th></th>\n",
       "      <th></th>\n",
       "      <th></th>\n",
       "      <th></th>\n",
       "      <th></th>\n",
       "      <th></th>\n",
       "      <th></th>\n",
       "      <th></th>\n",
       "      <th></th>\n",
       "      <th></th>\n",
       "      <th></th>\n",
       "      <th></th>\n",
       "      <th></th>\n",
       "      <th></th>\n",
       "      <th></th>\n",
       "      <th></th>\n",
       "      <th></th>\n",
       "      <th></th>\n",
       "      <th></th>\n",
       "      <th></th>\n",
       "      <th></th>\n",
       "    </tr>\n",
       "  </thead>\n",
       "  <tbody>\n",
       "    <tr>\n",
       "      <th>1</th>\n",
       "      <td>0.030249</td>\n",
       "      <td>0.012456</td>\n",
       "      <td>0.039146</td>\n",
       "      <td>0.017794</td>\n",
       "      <td>0.028470</td>\n",
       "      <td>0.035587</td>\n",
       "      <td>0.010676</td>\n",
       "      <td>0.001779</td>\n",
       "      <td>0.188612</td>\n",
       "      <td>0.003559</td>\n",
       "      <td>...</td>\n",
       "      <td>0.000000</td>\n",
       "      <td>0.096085</td>\n",
       "      <td>0.010676</td>\n",
       "      <td>0.282918</td>\n",
       "      <td>0.049822</td>\n",
       "      <td>0.003559</td>\n",
       "      <td>0.007117</td>\n",
       "      <td>0.023132</td>\n",
       "      <td>0.133452</td>\n",
       "      <td>1.0</td>\n",
       "    </tr>\n",
       "    <tr>\n",
       "      <th>2</th>\n",
       "      <td>0.014599</td>\n",
       "      <td>0.017518</td>\n",
       "      <td>0.046715</td>\n",
       "      <td>0.026277</td>\n",
       "      <td>0.091971</td>\n",
       "      <td>0.029197</td>\n",
       "      <td>0.055474</td>\n",
       "      <td>0.020438</td>\n",
       "      <td>0.094891</td>\n",
       "      <td>0.017518</td>\n",
       "      <td>...</td>\n",
       "      <td>0.005839</td>\n",
       "      <td>0.056934</td>\n",
       "      <td>0.007299</td>\n",
       "      <td>0.294891</td>\n",
       "      <td>0.059854</td>\n",
       "      <td>0.021898</td>\n",
       "      <td>0.005839</td>\n",
       "      <td>0.021898</td>\n",
       "      <td>0.087591</td>\n",
       "      <td>1.0</td>\n",
       "    </tr>\n",
       "    <tr>\n",
       "      <th>3</th>\n",
       "      <td>0.055693</td>\n",
       "      <td>0.035291</td>\n",
       "      <td>0.053488</td>\n",
       "      <td>0.027020</td>\n",
       "      <td>0.061208</td>\n",
       "      <td>0.029225</td>\n",
       "      <td>0.039702</td>\n",
       "      <td>0.032809</td>\n",
       "      <td>0.106148</td>\n",
       "      <td>0.015440</td>\n",
       "      <td>...</td>\n",
       "      <td>0.022057</td>\n",
       "      <td>0.046319</td>\n",
       "      <td>0.017370</td>\n",
       "      <td>0.124897</td>\n",
       "      <td>0.090157</td>\n",
       "      <td>0.052661</td>\n",
       "      <td>0.019024</td>\n",
       "      <td>0.046595</td>\n",
       "      <td>0.066170</td>\n",
       "      <td>1.0</td>\n",
       "    </tr>\n",
       "    <tr>\n",
       "      <th>4</th>\n",
       "      <td>0.072854</td>\n",
       "      <td>0.036195</td>\n",
       "      <td>0.067285</td>\n",
       "      <td>0.039907</td>\n",
       "      <td>0.052900</td>\n",
       "      <td>0.018561</td>\n",
       "      <td>0.026450</td>\n",
       "      <td>0.036195</td>\n",
       "      <td>0.085847</td>\n",
       "      <td>0.021810</td>\n",
       "      <td>...</td>\n",
       "      <td>0.029698</td>\n",
       "      <td>0.047332</td>\n",
       "      <td>0.013457</td>\n",
       "      <td>0.091879</td>\n",
       "      <td>0.070534</td>\n",
       "      <td>0.046404</td>\n",
       "      <td>0.022274</td>\n",
       "      <td>0.061717</td>\n",
       "      <td>0.072854</td>\n",
       "      <td>1.0</td>\n",
       "    </tr>\n",
       "    <tr>\n",
       "      <th>5</th>\n",
       "      <td>0.080172</td>\n",
       "      <td>0.037223</td>\n",
       "      <td>0.061203</td>\n",
       "      <td>0.037938</td>\n",
       "      <td>0.051539</td>\n",
       "      <td>0.022548</td>\n",
       "      <td>0.030064</td>\n",
       "      <td>0.034717</td>\n",
       "      <td>0.065140</td>\n",
       "      <td>0.018611</td>\n",
       "      <td>...</td>\n",
       "      <td>0.041875</td>\n",
       "      <td>0.043665</td>\n",
       "      <td>0.018253</td>\n",
       "      <td>0.070150</td>\n",
       "      <td>0.078024</td>\n",
       "      <td>0.041875</td>\n",
       "      <td>0.027201</td>\n",
       "      <td>0.076235</td>\n",
       "      <td>0.090551</td>\n",
       "      <td>1.0</td>\n",
       "    </tr>\n",
       "    <tr>\n",
       "      <th>6</th>\n",
       "      <td>0.080477</td>\n",
       "      <td>0.046498</td>\n",
       "      <td>0.053055</td>\n",
       "      <td>0.032787</td>\n",
       "      <td>0.057824</td>\n",
       "      <td>0.020268</td>\n",
       "      <td>0.028912</td>\n",
       "      <td>0.037556</td>\n",
       "      <td>0.059016</td>\n",
       "      <td>0.020268</td>\n",
       "      <td>...</td>\n",
       "      <td>0.047392</td>\n",
       "      <td>0.053055</td>\n",
       "      <td>0.018182</td>\n",
       "      <td>0.065872</td>\n",
       "      <td>0.065574</td>\n",
       "      <td>0.042921</td>\n",
       "      <td>0.037258</td>\n",
       "      <td>0.087332</td>\n",
       "      <td>0.064978</td>\n",
       "      <td>1.0</td>\n",
       "    </tr>\n",
       "    <tr>\n",
       "      <th>7</th>\n",
       "      <td>0.086921</td>\n",
       "      <td>0.048199</td>\n",
       "      <td>0.043596</td>\n",
       "      <td>0.039534</td>\n",
       "      <td>0.057677</td>\n",
       "      <td>0.017872</td>\n",
       "      <td>0.026537</td>\n",
       "      <td>0.046575</td>\n",
       "      <td>0.044138</td>\n",
       "      <td>0.024370</td>\n",
       "      <td>...</td>\n",
       "      <td>0.051449</td>\n",
       "      <td>0.050636</td>\n",
       "      <td>0.015705</td>\n",
       "      <td>0.044679</td>\n",
       "      <td>0.063634</td>\n",
       "      <td>0.052803</td>\n",
       "      <td>0.037097</td>\n",
       "      <td>0.104522</td>\n",
       "      <td>0.064988</td>\n",
       "      <td>1.0</td>\n",
       "    </tr>\n",
       "    <tr>\n",
       "      <th>8</th>\n",
       "      <td>0.104766</td>\n",
       "      <td>0.048411</td>\n",
       "      <td>0.031770</td>\n",
       "      <td>0.040091</td>\n",
       "      <td>0.061649</td>\n",
       "      <td>0.017776</td>\n",
       "      <td>0.027988</td>\n",
       "      <td>0.054463</td>\n",
       "      <td>0.034796</td>\n",
       "      <td>0.023071</td>\n",
       "      <td>...</td>\n",
       "      <td>0.059002</td>\n",
       "      <td>0.044629</td>\n",
       "      <td>0.014372</td>\n",
       "      <td>0.031770</td>\n",
       "      <td>0.068457</td>\n",
       "      <td>0.040847</td>\n",
       "      <td>0.042360</td>\n",
       "      <td>0.131241</td>\n",
       "      <td>0.063918</td>\n",
       "      <td>1.0</td>\n",
       "    </tr>\n",
       "  </tbody>\n",
       "</table>\n",
       "<p>8 rows × 21 columns</p>\n",
       "</div>"
      ],
      "text/plain": [
       "sub topic         0         1         2         3         4         5  \\\n",
       "Group                                                                   \n",
       "1          0.030249  0.012456  0.039146  0.017794  0.028470  0.035587   \n",
       "2          0.014599  0.017518  0.046715  0.026277  0.091971  0.029197   \n",
       "3          0.055693  0.035291  0.053488  0.027020  0.061208  0.029225   \n",
       "4          0.072854  0.036195  0.067285  0.039907  0.052900  0.018561   \n",
       "5          0.080172  0.037223  0.061203  0.037938  0.051539  0.022548   \n",
       "6          0.080477  0.046498  0.053055  0.032787  0.057824  0.020268   \n",
       "7          0.086921  0.048199  0.043596  0.039534  0.057677  0.017872   \n",
       "8          0.104766  0.048411  0.031770  0.040091  0.061649  0.017776   \n",
       "\n",
       "sub topic         6         7         8         9  ...        11        12  \\\n",
       "Group                                              ...                       \n",
       "1          0.010676  0.001779  0.188612  0.003559  ...  0.000000  0.096085   \n",
       "2          0.055474  0.020438  0.094891  0.017518  ...  0.005839  0.056934   \n",
       "3          0.039702  0.032809  0.106148  0.015440  ...  0.022057  0.046319   \n",
       "4          0.026450  0.036195  0.085847  0.021810  ...  0.029698  0.047332   \n",
       "5          0.030064  0.034717  0.065140  0.018611  ...  0.041875  0.043665   \n",
       "6          0.028912  0.037556  0.059016  0.020268  ...  0.047392  0.053055   \n",
       "7          0.026537  0.046575  0.044138  0.024370  ...  0.051449  0.050636   \n",
       "8          0.027988  0.054463  0.034796  0.023071  ...  0.059002  0.044629   \n",
       "\n",
       "sub topic        13        14        15        16        17        18  \\\n",
       "Group                                                                   \n",
       "1          0.010676  0.282918  0.049822  0.003559  0.007117  0.023132   \n",
       "2          0.007299  0.294891  0.059854  0.021898  0.005839  0.021898   \n",
       "3          0.017370  0.124897  0.090157  0.052661  0.019024  0.046595   \n",
       "4          0.013457  0.091879  0.070534  0.046404  0.022274  0.061717   \n",
       "5          0.018253  0.070150  0.078024  0.041875  0.027201  0.076235   \n",
       "6          0.018182  0.065872  0.065574  0.042921  0.037258  0.087332   \n",
       "7          0.015705  0.044679  0.063634  0.052803  0.037097  0.104522   \n",
       "8          0.014372  0.031770  0.068457  0.040847  0.042360  0.131241   \n",
       "\n",
       "sub topic        19  total  \n",
       "Group                       \n",
       "1          0.133452    1.0  \n",
       "2          0.087591    1.0  \n",
       "3          0.066170    1.0  \n",
       "4          0.072854    1.0  \n",
       "5          0.090551    1.0  \n",
       "6          0.064978    1.0  \n",
       "7          0.064988    1.0  \n",
       "8          0.063918    1.0  \n",
       "\n",
       "[8 rows x 21 columns]"
      ]
     },
     "execution_count": 93,
     "metadata": {},
     "output_type": "execute_result"
    }
   ],
   "source": [
    "# calculate the total value for each row\n",
    "topic_prevalence['total'] = topic_prevalence.sum(axis=1)\n",
    "topic_prevalence"
   ]
  },
  {
   "cell_type": "code",
   "execution_count": 94,
   "metadata": {},
   "outputs": [
    {
     "name": "stdout",
     "output_type": "stream",
     "text": [
      "Sub topic 0 has a monotonic trend, increasing\n",
      "Sub topic 1 has a monotonic trend, increasing\n",
      "Sub topic 3 has a monotonic trend, increasing\n",
      "Sub topic 5 has a monotonic trend, decreasing\n",
      "Sub topic 7 has a monotonic trend, increasing\n",
      "Sub topic 8 has a monotonic trend, decreasing\n",
      "Sub topic 9 has a monotonic trend, increasing\n",
      "Sub topic 11 has a monotonic trend, increasing\n",
      "Sub topic 14 has a monotonic trend, decreasing\n",
      "Sub topic 17 has a monotonic trend, increasing\n",
      "Sub topic 18 has a monotonic trend, increasing\n",
      "Sub topic 19 has a monotonic trend, decreasing\n"
     ]
    }
   ],
   "source": [
    "import pymannkendall as mk\n",
    "\n",
    "monotonic_trend = []\n",
    "for i in range(pam_model.k2):\n",
    "    result = mk.original_test(topic_prevalence[i].values)\n",
    "    # print(f\"Sub topic {i} p-value: {result.p}\")\n",
    "    if result.p < 0.05:\n",
    "        print(f\"Sub topic {i} has a monotonic trend,\", result.trend)\n",
    "        monotonic_trend.append(i)"
   ]
  },
  {
   "cell_type": "code",
   "execution_count": 95,
   "metadata": {},
   "outputs": [
    {
     "data": {
      "text/plain": [
       "'/Users/ZOU/Desktop/code/visualize/Topic_Trend_All.html'"
      ]
     },
     "execution_count": 95,
     "metadata": {},
     "output_type": "execute_result"
    }
   ],
   "source": [
    "# draw a line plot for each topic prevalence with pyecharts\n",
    "line = Line(init_opts=opts.InitOpts(width='1500px', height='800px'))\n",
    "\n",
    "for i in range(pam_model.k2):\n",
    "    line.add_xaxis(topic_prevalence.index)\n",
    "    line.add_yaxis(f\"Sub topic {i}\", topic_prevalence[i], is_smooth=True, label_opts=opts.LabelOpts(is_show=False))\n",
    "\n",
    "line.set_global_opts(title_opts=opts.TitleOpts(title=\"Sub topic prevalence\"), legend_opts=opts.LegendOpts(type_=\"scroll\", pos_left=\"90%\", orient=\"vertical\"))\n",
    "line.render('visualize/Topic_Trend_All.html')"
   ]
  },
  {
   "cell_type": "code",
   "execution_count": 96,
   "metadata": {},
   "outputs": [
    {
     "data": {
      "text/plain": [
       "'/Users/ZOU/Desktop/code/visualize/Topic_Trend_Monotonic.html'"
      ]
     },
     "execution_count": 96,
     "metadata": {},
     "output_type": "execute_result"
    }
   ],
   "source": [
    "# draw a line plot for topic has monotonic trend with pyecharts\n",
    "line = Line(init_opts=opts.InitOpts(width='1500px', height='800px'))\n",
    "\n",
    "for i, topic in enumerate(monotonic_trend):\n",
    "    line.add_xaxis(topic_prevalence.index)\n",
    "    line.add_yaxis(f\"Sub topic {topic}\", topic_prevalence[topic], is_smooth=True, label_opts=opts.LabelOpts(is_show=False))\n",
    "\n",
    "line.set_global_opts(title_opts=opts.TitleOpts(title=\"Sub topic prevalence with monotonic trend\"), legend_opts=opts.LegendOpts(type_=\"scroll\", pos_left=\"90%\", orient=\"vertical\"))\n",
    "line.render('visualize/Topic_Trend_Monotonic.html')"
   ]
  },
  {
   "cell_type": "code",
   "execution_count": null,
   "metadata": {},
   "outputs": [],
   "source": []
  }
 ],
 "metadata": {
  "kernelspec": {
   "display_name": "base",
   "language": "python",
   "name": "python3"
  },
  "language_info": {
   "codemirror_mode": {
    "name": "ipython",
    "version": 3
   },
   "file_extension": ".py",
   "mimetype": "text/x-python",
   "name": "python",
   "nbconvert_exporter": "python",
   "pygments_lexer": "ipython3",
   "version": "3.11.4"
  }
 },
 "nbformat": 4,
 "nbformat_minor": 2
}
