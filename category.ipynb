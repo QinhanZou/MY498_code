{
 "cells": [
  {
   "cell_type": "code",
   "execution_count": 1,
   "metadata": {},
   "outputs": [],
   "source": [
    "import pandas as pd"
   ]
  },
  {
   "cell_type": "code",
   "execution_count": 2,
   "metadata": {},
   "outputs": [],
   "source": [
    "# read preprocessed data\n",
    "df = pd.read_csv('preprocessed_data.csv')"
   ]
  },
  {
   "cell_type": "code",
   "execution_count": 3,
   "metadata": {},
   "outputs": [
    {
     "name": "stdout",
     "output_type": "stream",
     "text": [
      "Total number of rows: 19631\n"
     ]
    }
   ],
   "source": [
    "# totoal number of rows\n",
    "print('Total number of rows:', len(df))"
   ]
  },
  {
   "cell_type": "code",
   "execution_count": 4,
   "metadata": {},
   "outputs": [
    {
     "data": {
      "text/plain": [
       "Index(['Article Title', 'Source Title', 'Language',\n",
       "       'Times Cited, All Databases', 'Highly Cited Status', 'Hot Paper Status',\n",
       "       'Publication Year', 'Decade', 'Group', 'WoS Categories new',\n",
       "       'Research Areas new', 'Keywords Plus lemmatized',\n",
       "       'Author Keywords lemmatized', 'All Keywords', 'Addresses new',\n",
       "       'Affiliations new', 'Abstract lemmatized'],\n",
       "      dtype='object')"
      ]
     },
     "execution_count": 4,
     "metadata": {},
     "output_type": "execute_result"
    }
   ],
   "source": [
    "df.columns"
   ]
  },
  {
   "cell_type": "code",
   "execution_count": 5,
   "metadata": {},
   "outputs": [],
   "source": [
    "# df.head()"
   ]
  },
  {
   "cell_type": "code",
   "execution_count": 6,
   "metadata": {},
   "outputs": [
    {
     "name": "stdout",
     "output_type": "stream",
     "text": [
      "Number of empty list WoS Categories: 0\n",
      "Number of empty list Research Areas: 0\n"
     ]
    }
   ],
   "source": [
    "# check how many empty list WoS Categories new\n",
    "print('Number of empty list WoS Categories:', len(df[df['WoS Categories new'] == '[]']))\n",
    "# check how many empty list Research Areas new\n",
    "print('Number of empty list Research Areas:', len(df[df['Research Areas new'] == '[]']))"
   ]
  },
  {
   "cell_type": "code",
   "execution_count": 7,
   "metadata": {},
   "outputs": [],
   "source": [
    "df['WoS Categories new'] = df['WoS Categories new'].apply(eval)"
   ]
  },
  {
   "cell_type": "code",
   "execution_count": 8,
   "metadata": {},
   "outputs": [],
   "source": [
    "# build a co-occurence network of WoS Categories for each group\n",
    "import networkx as nx\n",
    "import nx2vos\n",
    "\n",
    "for group in range(1, 9):\n",
    "    G = nx.Graph()\n",
    "    for catergories in df[df['Group'] == group]['WoS Categories new']:\n",
    "        for i in range(len(catergories)):\n",
    "            for j in range(i+1, len(catergories)):\n",
    "                if G.has_edge(catergories[i], catergories[j]):\n",
    "                    G[catergories[i]][catergories[j]]['weight'] += 1\n",
    "                else:\n",
    "                    G.add_edge(catergories[i], catergories[j], weight=1)\n",
    "\n",
    "    # Save network files to json for VosViewer\n",
    "    nx2vos.write_vos_json(G, f'output/WC/WoS_Categories_G{group}.json')\n",
    "\n",
    "    # save link in txt in weight descending order\n",
    "    sorted_edges = sorted(G.edges(data=True), key=lambda x: x[2]['weight'], reverse=True)\n",
    "    with open(f'output/WC/WoS_Categories_G{group}_links.txt', 'w') as f:\n",
    "        for edge in sorted_edges:\n",
    "            f.write(f\"{edge[0]}\\t{edge[1]}\\t{edge[2]['weight']}\\n\")"
   ]
  },
  {
   "cell_type": "code",
   "execution_count": 9,
   "metadata": {},
   "outputs": [],
   "source": [
    "df['Research Areas new'] = df['Research Areas new'].apply(eval)"
   ]
  },
  {
   "cell_type": "code",
   "execution_count": 10,
   "metadata": {},
   "outputs": [],
   "source": [
    "# do the same for Research Areas new\n",
    "for group in range(1, 9):\n",
    "    G = nx.Graph()\n",
    "    for catergories in df[df['Group'] == group]['Research Areas new']:\n",
    "        for i in range(len(catergories)):\n",
    "            for j in range(i+1, len(catergories)):\n",
    "                if G.has_edge(catergories[i], catergories[j]):\n",
    "                    G[catergories[i]][catergories[j]]['weight'] += 1\n",
    "                else:\n",
    "                    G.add_edge(catergories[i], catergories[j], weight=1)\n",
    "\n",
    "    # Save network files to json for VosViewer\n",
    "    nx2vos.write_vos_json(G, f'output/SU/Research_Areas_G{group}.json')\n",
    "\n",
    "    # save link in txt in weight descending order\n",
    "    sorted_edges = sorted(G.edges(data=True), key=lambda x: x[2]['weight'], reverse=True)\n",
    "    with open(f'output/SU/Research_Areas_G{group}_links.txt', 'w') as f:\n",
    "        for edge in sorted_edges:\n",
    "            f.write(f\"{edge[0]}\\t{edge[1]}\\t{edge[2]['weight']}\\n\")"
   ]
  },
  {
   "cell_type": "code",
   "execution_count": 11,
   "metadata": {},
   "outputs": [
    {
     "name": "stdout",
     "output_type": "stream",
     "text": [
      "Arts & Humanities 14\n",
      "Life Sciences & Biomedicine 76\n",
      "Physical Sciences 17\n",
      "Social Sciences 25\n",
      "Technology 21\n"
     ]
    }
   ],
   "source": [
    "# https://webofscience.help.clarivate.com/en-us/Content/research-areas.html?Highlight=research%20areas\n",
    "research_fields = {\n",
    "    \"Arts & Humanities\": [\n",
    "        \"Architecture\",\n",
    "        \"Art\",\n",
    "        \"Arts & Humanities - Other Topics\",\n",
    "        \"Asian Studies\",\n",
    "        \"Classics\",\n",
    "        \"Dance\",\n",
    "        \"Film, Radio & Television\", \n",
    "        \"History\",\n",
    "        \"History & Philosophy of Science\",\n",
    "        \"Literature\",\n",
    "        \"Music\",\n",
    "        \"Philosophy\",\n",
    "        \"Religion\",\n",
    "        \"Theater\"\n",
    "    ],\n",
    "    \"Life Sciences & Biomedicine\": [\n",
    "        \"Agriculture\",\n",
    "        \"Allergy\",\n",
    "        \"Anatomy & Morphology\",\n",
    "        \"Anesthesiology\",\n",
    "        \"Anthropology\",\n",
    "        \"Audiology & Speech-Language Pathology\",\n",
    "        \"Behavioral Sciences\",\n",
    "        \"Biochemistry & Molecular Biology\",\n",
    "        \"Biodiversity & Conservation\",\n",
    "        \"Biophysics\",\n",
    "        \"Biotechnology & Applied Microbiology\",\n",
    "        \"Cardiovascular System & Cardiology\",\n",
    "        \"Cell Biology\",\n",
    "        \"Critical Care Medicine\",\n",
    "        \"Dentistry, Oral Surgery & Medicine\",\n",
    "        \"Dermatology\",\n",
    "        \"Developmental Biology\",\n",
    "        \"Emergency Medicine\",\n",
    "        \"Endocrinology & Metabolism\",\n",
    "        \"Entomology\",\n",
    "        \"Environmental Sciences & Ecology\",\n",
    "        \"Evolutionary Biology\",\n",
    "        \"Fisheries\",\n",
    "        \"Food Science & Technology\",\n",
    "        \"Forestry\",\n",
    "        \"Gastroenterology & Hepatology\",\n",
    "        \"General & Internal Medicine\",\n",
    "        \"Genetics & Heredity\",\n",
    "        \"Geriatrics & Gerontology\",\n",
    "        \"Health Care Sciences & Services\",\n",
    "        \"Hematology\",\n",
    "        \"Immunology\",\n",
    "        \"Infectious Diseases\",\n",
    "        \"Integrative & Complementary Medicine\",\n",
    "        \"Legal Medicine\",\n",
    "        \"Life Sciences Biomedicine Other Topics\",\n",
    "        \"Marine & Freshwater Biology\",\n",
    "        \"Mathematical & Computational Biology\",\n",
    "        \"Medical Ethics\",\n",
    "        \"Medical Informatics\",\n",
    "        \"Medical Laboratory Technology\",\n",
    "        \"Microbiology\",\n",
    "        \"Mycology\",\n",
    "        \"Neurosciences & Neurology\",\n",
    "        \"Nursing\",\n",
    "        \"Nutrition & Dietetics\",\n",
    "        \"Obstetrics & Gynecology\",\n",
    "        \"Oncology\",\n",
    "        \"Ophthalmology\",\n",
    "        \"Orthopedics\",\n",
    "        \"Otorhinolaryngology\",\n",
    "        \"Paleontology\",\n",
    "        \"Parasitology\",\n",
    "        \"Pathology\",\n",
    "        \"Pediatrics\",\n",
    "        \"Pharmacology & Pharmacy\",\n",
    "        \"Physiology\",\n",
    "        \"Plant Sciences\",\n",
    "        \"Psychiatry\",\n",
    "        \"Public, Environmental & Occupational Health\",\n",
    "        \"Radiology, Nuclear Medicine & Medical Imaging\",\n",
    "        \"Rehabilitation\",\n",
    "        \"Reproductive Biology\",\n",
    "        \"Research & Experimental Medicine\",\n",
    "        \"Respiratory System\",\n",
    "        \"Rheumatology\",\n",
    "        \"Sport Sciences\",\n",
    "        \"Substance Abuse\",\n",
    "        \"Surgery\",\n",
    "        \"Toxicology\",\n",
    "        \"Transplantation\",\n",
    "        \"Tropical Medicine\",\n",
    "        \"Urology & Nephrology\",\n",
    "        \"Veterinary Sciences\",\n",
    "        \"Virology\",\n",
    "        \"Zoology\"\n",
    "    ],\n",
    "    \"Physical Sciences\": [\n",
    "        \"Astronomy & Astrophysics\",\n",
    "        \"Chemistry\",\n",
    "        \"Crystallography\",\n",
    "        \"Electrochemistry\",\n",
    "        \"Geochemistry & Geophysics\",\n",
    "        \"Geology\",\n",
    "        \"Mathematics\",\n",
    "        \"Meteorology & Atmospheric Sciences\",\n",
    "        \"Mineralogy\",\n",
    "        \"Mining & Mineral Processing\",\n",
    "        \"Oceanography\",\n",
    "        \"Optics\",\n",
    "        \"Physical Geography\",\n",
    "        \"Physics\",\n",
    "        \"Polymer Science\",\n",
    "        \"Thermodynamics\",\n",
    "        \"Water Resources\"\n",
    "    ],\n",
    "    \"Social Sciences\": [\n",
    "        \"Archaeology\",\n",
    "        \"Area Studies\",\n",
    "        \"Biomedical Social Sciences\",\n",
    "        \"Business & Economics\",\n",
    "        \"Communication\",\n",
    "        \"Criminology & Penology\",\n",
    "        \"Cultural Studies\",\n",
    "        \"Demography\",\n",
    "        \"Development Studies\",\n",
    "        \"Education & Educational Research\",\n",
    "        \"Ethnic Studies\",\n",
    "        \"Family Studies\",\n",
    "        \"Geography\",\n",
    "        \"Government & Law\",\n",
    "        \"International Relations\",\n",
    "        \"Linguistics\",\n",
    "        \"Mathematical Methods In Social Sciences\",\n",
    "        \"Psychology\",\n",
    "        \"Public Administration\",\n",
    "        \"Social Issues\",\n",
    "        \"Social Sciences - Other Topics\",\n",
    "        \"Social Work\",\n",
    "        \"Sociology\",\n",
    "        \"Urban Studies\",\n",
    "        \"Women's Studies\"\n",
    "    ],\n",
    "    \"Technology\": [\n",
    "        \"Acoustics\",\n",
    "        \"Automation & Control Systems\",\n",
    "        \"Computer Science\",\n",
    "        \"Construction & Building Technology\",\n",
    "        \"Energy & Fuels\",\n",
    "        \"Engineering\",\n",
    "        \"Imaging Science & Photographic Technology\",\n",
    "        \"Information Science & Library Science\",\n",
    "        \"Instruments & Instrumentation\",\n",
    "        \"Materials Science\",\n",
    "        \"Mechanics\",\n",
    "        \"Metallurgy & Metallurgical Engineering\",\n",
    "        \"Microscopy\",\n",
    "        \"Nuclear Science & Technology\",\n",
    "        \"Operations Research & Management Science\",\n",
    "        \"Remote Sensing\",\n",
    "        \"Robotics\",\n",
    "        \"Science & Technology - Other Topics\",\n",
    "        \"Spectroscopy\",\n",
    "        \"Telecommunications\",\n",
    "        \"Transportation\"\n",
    "    ]\n",
    "}\n",
    "\n",
    "# check the length of each research field\n",
    "for field in research_fields:\n",
    "    print(field, len(research_fields[field]))"
   ]
  },
  {
   "cell_type": "code",
   "execution_count": 12,
   "metadata": {},
   "outputs": [
    {
     "data": {
      "text/plain": [
       "'/Users/ZOU/Desktop/code/visualize/Research_Areas_Distribution_All.html'"
      ]
     },
     "execution_count": 12,
     "metadata": {},
     "output_type": "execute_result"
    }
   ],
   "source": [
    "# draw a sunburst plot of the distribution of research fields\n",
    "# df['Research Areas new'] is a list of research subfields\n",
    "import pyecharts.options as opts\n",
    "from pyecharts.charts import Sunburst\n",
    "\n",
    "all_subfields = []\n",
    "for field in research_fields:\n",
    "    all_subfields += research_fields[field]\n",
    "\n",
    "research_subfields_count = {subfield: 0 for subfield in all_subfields}\n",
    "for subfields in df['Research Areas new']:\n",
    "    for subfield in subfields:\n",
    "        research_subfields_count[subfield] += 1\n",
    "\n",
    "sunburst_data = []\n",
    "for field in research_fields:\n",
    "    sunburst_data.append({\n",
    "        'name': field,\n",
    "        'children': [{'name': subfield, 'value': research_subfields_count[subfield]} for subfield in research_fields[field] if research_subfields_count[subfield] > 0]\n",
    "    })\n",
    "\n",
    "sunburst = Sunburst(init_opts=opts.InitOpts(width='1500px', height='1500px')) \\\n",
    "    .add(series_name='', data_pair=sunburst_data, radius=[0, '90%'], sort_='null', \n",
    "         levels=[\n",
    "            {},\n",
    "            {\"r0\": \"15%\", \"r\": \"35%\"},\n",
    "            {\"r0\": \"35%\", \"r\": \"70%\"},\n",
    "            {\"r0\": \"70%\", \"r\": \"72%\"},\n",
    "        ]) \\\n",
    "    .set_global_opts(title_opts=opts.TitleOpts(title=\"Research Areas Sunburst\")) \\\n",
    "    .set_series_opts(label_opts=opts.LabelOpts(formatter=\"{b}\"))\n",
    "\n",
    "sunburst.render('visualize/Research_Areas_Distribution_All.html')"
   ]
  },
  {
   "cell_type": "code",
   "execution_count": 13,
   "metadata": {},
   "outputs": [
    {
     "data": {
      "text/plain": [
       "'/Users/ZOU/Desktop/code/visualize/Research_Areas_Distribution.html'"
      ]
     },
     "execution_count": 13,
     "metadata": {},
     "output_type": "execute_result"
    }
   ],
   "source": [
    "# if subfield count less than 300, replace it with space\n",
    "for field in sunburst_data:\n",
    "    for subfield in field['children']:\n",
    "        if subfield['value'] < 300:\n",
    "            subfield['name'] = ''\n",
    "\n",
    "sunburst = Sunburst(init_opts=opts.InitOpts(width='1500px', height='1500px')) \\\n",
    "    .add(series_name='', data_pair=sunburst_data, radius=[0, '90%'], sort_='null', \n",
    "         levels=[\n",
    "            {},\n",
    "            {\"r0\": \"15%\", \"r\": \"35%\"},\n",
    "            {\"r0\": \"35%\", \"r\": \"70%\"},\n",
    "            {\"r0\": \"70%\", \"r\": \"72%\"},\n",
    "        ]) \\\n",
    "    .set_global_opts(title_opts=opts.TitleOpts(title=\"Research Areas Sunburst\")) \\\n",
    "    .set_series_opts(label_opts=opts.LabelOpts(formatter=\"{b}\"))\n",
    "\n",
    "sunburst.render('visualize/Research_Areas_Distribution.html')"
   ]
  },
  {
   "cell_type": "code",
   "execution_count": 14,
   "metadata": {},
   "outputs": [],
   "source": [
    "# count how many publications for each social science subfield every group\n",
    "social_science_subfields = research_fields['Social Sciences']\n",
    "social_science_subfields_count = {subfield: [0]*8 for subfield in social_science_subfields}\n",
    "\n",
    "for subfields, group in zip(df['Research Areas new'], df['Group']):\n",
    "    group = int(group)\n",
    "    for subfield in subfields:\n",
    "        if subfield in social_science_subfields:\n",
    "            social_science_subfields_count[subfield][group-1] += 1\n",
    "\n",
    "# social_science_subfields_count"
   ]
  },
  {
   "cell_type": "code",
   "execution_count": 15,
   "metadata": {},
   "outputs": [
    {
     "data": {
      "text/plain": [
       "'/Users/ZOU/Desktop/code/visualize/Social_Science_Subfields_Distribution_Timeline.html'"
      ]
     },
     "execution_count": 15,
     "metadata": {},
     "output_type": "execute_result"
    }
   ],
   "source": [
    "from pyecharts.charts import Pie, Timeline\n",
    "\n",
    "group_dic = {1: '1970-2009', 2: '2010-2014', 3: '2015-2019', 4: '2020', 5: '2021', 6: '2022', 7: '2023', 8: '2024'}\n",
    "\n",
    "attr = social_science_subfields\n",
    "freq = list(social_science_subfields_count.values())\n",
    "tl = Timeline(init_opts=opts.InitOpts(width='1500px', height='900px'))\n",
    "tl.add_schema(is_auto_play=True, play_interval=1000)\n",
    "\n",
    "for i in range(1, 9):\n",
    "    pie = (\n",
    "        Pie()\n",
    "        .add(\n",
    "            \"Social Science Subfields Distribution\",\n",
    "            [list(z) for z in zip(attr, [x[i-1] for x in freq])],\n",
    "            radius=[\"30%\", \"55%\"],\n",
    "        )\n",
    "        .set_global_opts(title_opts=opts.TitleOpts(is_show=False),\n",
    "                         legend_opts=opts.LegendOpts(is_show=False))\n",
    "    )\n",
    "    # set the timeline title as the actual year\n",
    "    tl.add(pie, group_dic[i])\n",
    "    # tl.add(pie, \"{}\".format(i))\n",
    "\n",
    "tl.render(\"visualize/Social_Science_Subfields_Distribution_Timeline.html\")"
   ]
  },
  {
   "cell_type": "code",
   "execution_count": null,
   "metadata": {},
   "outputs": [],
   "source": []
  }
 ],
 "metadata": {
  "kernelspec": {
   "display_name": "base",
   "language": "python",
   "name": "python3"
  },
  "language_info": {
   "codemirror_mode": {
    "name": "ipython",
    "version": 3
   },
   "file_extension": ".py",
   "mimetype": "text/x-python",
   "name": "python",
   "nbconvert_exporter": "python",
   "pygments_lexer": "ipython3",
   "version": "3.11.4"
  }
 },
 "nbformat": 4,
 "nbformat_minor": 2
}
