{
 "cells": [
  {
   "cell_type": "code",
   "execution_count": 1,
   "metadata": {},
   "outputs": [],
   "source": [
    "import pandas as pd"
   ]
  },
  {
   "cell_type": "code",
   "execution_count": 2,
   "metadata": {},
   "outputs": [],
   "source": [
    "# read preprocessed data\n",
    "df = pd.read_csv('preprocessed_data.csv')"
   ]
  },
  {
   "cell_type": "code",
   "execution_count": 3,
   "metadata": {},
   "outputs": [
    {
     "name": "stdout",
     "output_type": "stream",
     "text": [
      "Total number of rows: 19631\n"
     ]
    }
   ],
   "source": [
    "# totoal number of rows\n",
    "print('Total number of rows:', len(df))"
   ]
  },
  {
   "cell_type": "code",
   "execution_count": 4,
   "metadata": {},
   "outputs": [
    {
     "data": {
      "text/plain": [
       "Index(['Article Title', 'Source Title', 'Language',\n",
       "       'Times Cited, All Databases', 'Highly Cited Status', 'Hot Paper Status',\n",
       "       'Publication Year', 'Decade', 'Group', 'WoS Categories new',\n",
       "       'Research Areas new', 'Keywords Plus lemmatized',\n",
       "       'Author Keywords lemmatized', 'All Keywords', 'Addresses new',\n",
       "       'Affiliations new', 'Abstract lemmatized'],\n",
       "      dtype='object')"
      ]
     },
     "execution_count": 4,
     "metadata": {},
     "output_type": "execute_result"
    }
   ],
   "source": [
    "df.columns"
   ]
  },
  {
   "cell_type": "code",
   "execution_count": 5,
   "metadata": {},
   "outputs": [
    {
     "data": {
      "text/plain": [
       "2023    3705\n",
       "2022    3359\n",
       "2021    2806\n",
       "2024    2657\n",
       "2020    2172\n",
       "2019    1513\n",
       "2018     885\n",
       "2017     515\n",
       "2016     492\n",
       "2015     248\n",
       "2014     245\n",
       "2012     133\n",
       "2008     125\n",
       "2010     125\n",
       "2013     109\n",
       "2009      90\n",
       "2011      75\n",
       "2007      60\n",
       "2006      44\n",
       "2003      41\n",
       "2005      33\n",
       "2004      29\n",
       "2001      25\n",
       "2002      24\n",
       "2000      23\n",
       "1998      19\n",
       "1995      15\n",
       "1997      14\n",
       "1996       9\n",
       "1994       8\n",
       "1999       7\n",
       "1992       6\n",
       "1991       5\n",
       "1993       3\n",
       "1989       3\n",
       "1986       2\n",
       "1987       2\n",
       "1990       2\n",
       "1988       2\n",
       "1973       1\n",
       "Name: Publication Year, dtype: int64"
      ]
     },
     "execution_count": 5,
     "metadata": {},
     "output_type": "execute_result"
    }
   ],
   "source": [
    "df['Publication Year'].value_counts()"
   ]
  },
  {
   "cell_type": "code",
   "execution_count": 6,
   "metadata": {},
   "outputs": [
    {
     "data": {
      "text/plain": [
       "1531    MACHINE LEARNING OF CORRELATION\n",
       "Name: Article Title, dtype: object"
      ]
     },
     "execution_count": 6,
     "metadata": {},
     "output_type": "execute_result"
    }
   ],
   "source": [
    "# get the article title of the first publication year\n",
    "df[df['Publication Year'] == 1973]['Article Title']"
   ]
  },
  {
   "cell_type": "code",
   "execution_count": 7,
   "metadata": {},
   "outputs": [
    {
     "name": "stdout",
     "output_type": "stream",
     "text": [
      "Max times of cited: 4493\n",
      "Min times of cited: 0\n"
     ]
    }
   ],
   "source": [
    "# max and min times cited\n",
    "print('Max times of cited:', df['Times Cited, All Databases'].max())\n",
    "print('Min times of cited:', df['Times Cited, All Databases'].min())"
   ]
  },
  {
   "cell_type": "code",
   "execution_count": 8,
   "metadata": {},
   "outputs": [
    {
     "name": "stdout",
     "output_type": "stream",
     "text": [
      "Title of the most cited paper: Thumbs up? Sentiment classification using machine learning techniques\n",
      "Publication year of the most cited paper: 2002\n"
     ]
    }
   ],
   "source": [
    "# find the tile of the most cited paper\n",
    "print('Title of the most cited paper:', df[df['Times Cited, All Databases'] == df['Times Cited, All Databases'].max()]['Article Title'].values[0])\n",
    "# publication year of the most cited paper\n",
    "print('Publication year of the most cited paper:', df[df['Times Cited, All Databases'] == df['Times Cited, All Databases'].max()]['Publication Year'].values[0])"
   ]
  },
  {
   "cell_type": "code",
   "execution_count": 9,
   "metadata": {},
   "outputs": [
    {
     "data": {
      "text/plain": [
       "1973       1\n",
       "1986       2\n",
       "1987       2\n",
       "1988       2\n",
       "1989       3\n",
       "1990       2\n",
       "1991       5\n",
       "1992       6\n",
       "1993       3\n",
       "1994       8\n",
       "1995      15\n",
       "1996       9\n",
       "1997      14\n",
       "1998      19\n",
       "1999       7\n",
       "2000      23\n",
       "2001      25\n",
       "2002      24\n",
       "2003      41\n",
       "2004      29\n",
       "2005      33\n",
       "2006      44\n",
       "2007      60\n",
       "2008     125\n",
       "2009      90\n",
       "2010     125\n",
       "2011      75\n",
       "2012     133\n",
       "2013     109\n",
       "2014     245\n",
       "2015     248\n",
       "2016     492\n",
       "2017     515\n",
       "2018     885\n",
       "2019    1513\n",
       "2020    2172\n",
       "2021    2806\n",
       "2022    3359\n",
       "2023    3705\n",
       "2024    2657\n",
       "Name: Publication Year, dtype: int64"
      ]
     },
     "execution_count": 9,
     "metadata": {},
     "output_type": "execute_result"
    }
   ],
   "source": [
    "publication_data = df['Publication Year'].value_counts().sort_index()\n",
    "publication_data"
   ]
  },
  {
   "cell_type": "code",
   "execution_count": 10,
   "metadata": {},
   "outputs": [
    {
     "data": {
      "text/plain": [
       "'/Users/ZOU/Desktop/code/visualize/Publications_Distribution.html'"
      ]
     },
     "execution_count": 10,
     "metadata": {},
     "output_type": "execute_result"
    }
   ],
   "source": [
    "# draw a line plot to show the number of papers published each year with pyecharts\n",
    "import pyecharts.options as opts\n",
    "from pyecharts.charts import Line\n",
    "\n",
    "x_data = publication_data.index.tolist()\n",
    "y_data = publication_data.values.tolist()\n",
    "\n",
    "# change the type of x_data to str\n",
    "x_data = [str(x) for x in x_data]\n",
    "\n",
    "(\n",
    "    Line()\n",
    "    .set_global_opts(\n",
    "        # tooltip_opts=opts.TooltipOpts(is_show=False),\n",
    "        xaxis_opts=opts.AxisOpts(type_=\"category\"),\n",
    "        yaxis_opts=opts.AxisOpts(\n",
    "            type_=\"value\",\n",
    "            # axistick_opts=opts.AxisTickOpts(is_show=True),\n",
    "            # splitline_opts=opts.SplitLineOpts(is_show=True),\n",
    "        ),\n",
    "    )\n",
    "    .add_xaxis(xaxis_data=x_data)\n",
    "    .add_yaxis(\n",
    "        series_name=\"\",\n",
    "        y_axis=y_data,\n",
    "        symbol=\"emptyCircle\",\n",
    "        is_symbol_show=True,\n",
    "        is_smooth=True,\n",
    "        label_opts=opts.LabelOpts(is_show=False),\n",
    "    )\n",
    "    .render(\"visualize/Publications_Distribution.html\")\n",
    ")"
   ]
  },
  {
   "cell_type": "code",
   "execution_count": 11,
   "metadata": {},
   "outputs": [],
   "source": [
    "# replace English; English as English\n",
    "df['Language'] = df['Language'].replace('English; English', 'English')"
   ]
  },
  {
   "cell_type": "code",
   "execution_count": 12,
   "metadata": {},
   "outputs": [
    {
     "data": {
      "text/plain": [
       "English        19317\n",
       "Spanish          105\n",
       "Russian           56\n",
       "Turkish           45\n",
       "Portuguese        37\n",
       "Chinese           19\n",
       "German            15\n",
       "French            12\n",
       "Italian            5\n",
       "Croatian           3\n",
       "Czech              3\n",
       "Unspecified        2\n",
       "Bulgarian          2\n",
       "Slovenian          2\n",
       "Dutch              2\n",
       "Slovak             1\n",
       "Malay              1\n",
       "Japanese           1\n",
       "Greek              1\n",
       "Korean             1\n",
       "Swedish            1\n",
       "Name: Language, dtype: int64"
      ]
     },
     "execution_count": 12,
     "metadata": {},
     "output_type": "execute_result"
    }
   ],
   "source": [
    "df['Language'].value_counts()"
   ]
  },
  {
   "cell_type": "code",
   "execution_count": 13,
   "metadata": {},
   "outputs": [],
   "source": [
    "# chhange df['Language'].value_counts() into a list of lists\n",
    "lang = df['Language'].value_counts().index.tolist()\n",
    "lang_count = df['Language'].value_counts().values.tolist()\n",
    "lang = [[lang[i], lang_count[i]] for i in range(len(lang))]\n",
    "\n",
    "# remove English\n",
    "lang_no_Eng = [x for x in lang if x[0] != 'English']"
   ]
  },
  {
   "cell_type": "code",
   "execution_count": 14,
   "metadata": {},
   "outputs": [],
   "source": [
    "from pyecharts.charts import Pie\n",
    "\n",
    "c = (\n",
    "    Pie()\n",
    "    .add(\"\", lang_no_Eng, center=[\"40%\", \"50%\"])\n",
    "    .set_global_opts(\n",
    "        title_opts=opts.TitleOpts(title=\"Language Distribution\"),\n",
    "        legend_opts=opts.LegendOpts(type_=\"scroll\", pos_left=\"80%\", orient=\"vertical\"),\n",
    "    )\n",
    "    .set_series_opts(label_opts=opts.LabelOpts(formatter=\"{b}: {c}\"))\n",
    "    .render(\"visualize/Language_Distribution_N.html\")\n",
    ")"
   ]
  },
  {
   "cell_type": "code",
   "execution_count": 15,
   "metadata": {},
   "outputs": [
    {
     "data": {
      "text/plain": [
       "IEEE JOURNAL OF SELECTED TOPICS IN APPLIED EARTH OBSERVATIONS AND REMOTE SENSING                                                                        364\n",
       "ISPRS INTERNATIONAL JOURNAL OF GEO-INFORMATION                                                                                                          310\n",
       "FRONTIERS IN PSYCHOLOGY                                                                                                                                 242\n",
       "FRONTIERS IN HUMAN NEUROSCIENCE                                                                                                                         192\n",
       "ISPRS JOURNAL OF PHOTOGRAMMETRY AND REMOTE SENSING                                                                                                      182\n",
       "                                                                                                                                                       ... \n",
       "TILBURG LAW REVIEW-JOURNAL OF INTERNATIONAL AND EUROPEAN LAW                                                                                              1\n",
       "EUROPEAN JOURNAL OF LEGAL STUDIES                                                                                                                         1\n",
       "CANADIAN JOURNAL OF POLITICAL SCIENCE-REVUE CANADIENNE DE SCIENCE POLITIQUE                                                                               1\n",
       "CONTABILIDAD Y NEGOCIOS                                                                                                                                   1\n",
       "5TH INTERNATIONAL CONFERENCE ON GEOINFORMATION SCIENCE - GEOADVANCES 2018: ISPRS CONFERENCE ON MULTI-DIMENSIONAL & MULTI-SCALE SPATIAL DATA MODELING      1\n",
       "Name: Source Title, Length: 4039, dtype: int64"
      ]
     },
     "execution_count": 15,
     "metadata": {},
     "output_type": "execute_result"
    }
   ],
   "source": [
    "# count how many publications each source title \n",
    "df['Source Title'].value_counts()"
   ]
  },
  {
   "cell_type": "code",
   "execution_count": 16,
   "metadata": {},
   "outputs": [
    {
     "data": {
      "text/plain": [
       "Source Title\n",
       "ISPRS JOURNAL OF PHOTOGRAMMETRY AND REMOTE SENSING                                                                                  17008\n",
       "IEEE JOURNAL OF SELECTED TOPICS IN APPLIED EARTH OBSERVATIONS AND REMOTE SENSING                                                    11033\n",
       "EUROPEAN JOURNAL OF OPERATIONAL RESEARCH                                                                                             7740\n",
       "ACCIDENT ANALYSIS AND PREVENTION                                                                                                     4621\n",
       "PROCEEDINGS OF THE 2002 CONFERENCE ON EMPIRICAL METHODS IN NATURAL LANGUAGE PROCESSING                                               4514\n",
       "                                                                                                                                    ...  \n",
       "PROCEEDINGS OF THE 2022 ACM CONFERENCE ON INTERNATIONAL COMPUTING EDUCATION RESEARCH, ICER 2022, VOL. 1                                 0\n",
       "GEOBIA 2010: GEOGRAPHIC OBJECT-BASED IMAGE ANALYSIS                                                                                     0\n",
       "PROCEEDINGS OF THE 2021 PACIFIC NEIGHBORHOOD CONSORTIUM ANNUAL CONFERENCE AND JOINT MEETINGS (PNC): SUSTAINABLE DIGITAL HERITAGE        0\n",
       "GEOGRAFIE                                                                                                                               0\n",
       "EUROPEAN COMPANY AND FINANCIAL LAW REVIEW                                                                                               0\n",
       "Name: Times Cited, All Databases, Length: 4039, dtype: int64"
      ]
     },
     "execution_count": 16,
     "metadata": {},
     "output_type": "execute_result"
    }
   ],
   "source": [
    "# count how many times of cited each source title, order by the number of times cited\n",
    "df.groupby('Source Title')['Times Cited, All Databases'].sum().sort_values(ascending=False)"
   ]
  },
  {
   "cell_type": "code",
   "execution_count": 17,
   "metadata": {},
   "outputs": [],
   "source": [
    "# draw a scatter plot to show the number of times cited not 0 with pyecharts\n",
    "from pyecharts.charts import Scatter\n",
    "\n",
    "x_data = df[df['Times Cited, All Databases'] != 0]['Publication Year'].values.tolist()\n",
    "y_data = df[df['Times Cited, All Databases'] != 0]['Times Cited, All Databases'].values.tolist()\n",
    "\n",
    "scatter = (\n",
    "    Scatter()\n",
    "    .add_xaxis(xaxis_data=x_data)\n",
    "    .add_yaxis(\n",
    "        series_name=\"\",\n",
    "        y_axis=y_data,\n",
    "        symbol_size=5,\n",
    "        label_opts=opts.LabelOpts(is_show=False),\n",
    "        markpoint_opts=opts.MarkPointOpts(data=[opts.MarkPointItem(type_=\"max\")]),\n",
    "    )\n",
    "    .set_global_opts(\n",
    "        xaxis_opts=opts.AxisOpts(\n",
    "            type_=\"value\",\n",
    "            min_=1973,\n",
    "            max_=2024,\n",
    "            axistick_opts=opts.AxisTickOpts(is_show=True),\n",
    "            splitline_opts=opts.SplitLineOpts(is_show=True),\n",
    "        ),\n",
    "        yaxis_opts=opts.AxisOpts(\n",
    "            type_=\"value\",\n",
    "            axistick_opts=opts.AxisTickOpts(is_show=True),\n",
    "            splitline_opts=opts.SplitLineOpts(is_show=True),\n",
    "        ),\n",
    "    )\n",
    "    .render(\"visualize/Citation_Scatter.html\")\n",
    ")"
   ]
  },
  {
   "cell_type": "code",
   "execution_count": 29,
   "metadata": {},
   "outputs": [
    {
     "data": {
      "text/plain": [
       "100.0"
      ]
     },
     "execution_count": 29,
     "metadata": {},
     "output_type": "execute_result"
    }
   ],
   "source": [
    "# get the 97.5th percentile of times cited\n",
    "df['Times Cited, All Databases'].quantile(0.975)"
   ]
  },
  {
   "cell_type": "code",
   "execution_count": null,
   "metadata": {},
   "outputs": [],
   "source": []
  }
 ],
 "metadata": {
  "kernelspec": {
   "display_name": "base",
   "language": "python",
   "name": "python3"
  },
  "language_info": {
   "codemirror_mode": {
    "name": "ipython",
    "version": 3
   },
   "file_extension": ".py",
   "mimetype": "text/x-python",
   "name": "python",
   "nbconvert_exporter": "python",
   "pygments_lexer": "ipython3",
   "version": "3.11.4"
  }
 },
 "nbformat": 4,
 "nbformat_minor": 2
}
